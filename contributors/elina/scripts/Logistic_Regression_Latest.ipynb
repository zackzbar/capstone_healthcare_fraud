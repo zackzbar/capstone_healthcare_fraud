{
 "cells": [
  {
   "cell_type": "code",
   "execution_count": 1,
   "metadata": {},
   "outputs": [],
   "source": [
    "from __future__ import print_function\n",
    "\n",
    "import numpy as np\n",
    "import pandas as pd\n",
    "\n",
    "from datetime import datetime\n",
    "\n",
    "import networkx as nx\n",
    "\n",
    "\n",
    "import statsmodels.api as sm\n",
    "\n",
    "\n",
    "import matplotlib.pyplot as plt\n",
    "%matplotlib inline\n",
    "plt.style.use('ggplot')\n",
    "\n",
    "import seaborn as sns\n",
    "\n",
    "\n",
    "\n",
    "\n",
    "from sklearn import datasets\n",
    "from sklearn import linear_model\n",
    "\n",
    "from sklearn.model_selection import GridSearchCV\n",
    "\n",
    "from sklearn import metrics\n"
   ]
  },
  {
   "cell_type": "code",
   "execution_count": 2,
   "metadata": {},
   "outputs": [],
   "source": [
    "pd.set_option('display.max_rows', None)"
   ]
  },
  {
   "cell_type": "code",
   "execution_count": 3,
   "metadata": {},
   "outputs": [],
   "source": [
    "df_el = pd.read_pickle('./df.pkl')\n",
    "\n",
    "fraud = pd.read_pickle('./fraud.pkl')\n",
    "\n",
    "nfraud = pd.read_pickle('./fraud.pkl')"
   ]
  },
  {
   "cell_type": "code",
   "execution_count": 4,
   "metadata": {},
   "outputs": [],
   "source": [
    "data = pd.read_csv('../../../processed_data/provider_final.csv')"
   ]
  },
  {
   "cell_type": "code",
   "execution_count": 5,
   "metadata": {},
   "outputs": [],
   "source": [
    "df = data.copy()"
   ]
  },
  {
   "cell_type": "code",
   "execution_count": 6,
   "metadata": {},
   "outputs": [
    {
     "data": {
      "text/plain": [
       "Index(['Unnamed: 0', 'Provider', 'PotentialFraud', 'DurationMedianIP',\n",
       "       'DurationMeanIP', 'DurationMedianOP', 'DurationMeanOP', 'Serves',\n",
       "       'ChronCondsMedian', 'ChronCondsMean', 'ChronConsMode', 'PtAgeMedian',\n",
       "       'PtAgeMean', 'NumPtsIP', 'NumPtsOP', 'NumStatesIP', 'NumStatesOP',\n",
       "       'SharePhysician', 'MergeAvgClaimReimbursed', 'NumTopCodeClaim',\n",
       "       'DupClaimNum_IP', 'DupClaimRatio_IP', 'DupClaim_IP',\n",
       "       'DupClaimStatesNum_IP', 'DupClaimMultiState_IP',\n",
       "       'DupClaimProviderNum_IP', 'DupClaimMultiProvider_IP',\n",
       "       'DupClaimStartDtNum_IP', 'DupClaimMultiStartDt_IP', 'DupClaimNum_OP',\n",
       "       'DupClaimRatio_OP', 'DupClaim_OP', 'DupClaimStatesNum_OP',\n",
       "       'DupClaimMultiState_OP', 'DupClaimProviderNum_OP',\n",
       "       'DupClaimMultiProvider_OP', 'DupClaimStartDtNum_OP',\n",
       "       'DupClaimMultiStartDt_OP', 'AvgDuration', 'NumOfPt', 'NumOfClm',\n",
       "       'ClmPerPt', 'TotalRev', 'RevPerPt', 'ClmNoPhy', 'ClmAllPhy',\n",
       "       'ClmNoProc', 'ClmPerDt'],\n",
       "      dtype='object')"
      ]
     },
     "execution_count": 6,
     "metadata": {},
     "output_type": "execute_result"
    }
   ],
   "source": [
    "df.columns"
   ]
  },
  {
   "cell_type": "code",
   "execution_count": 7,
   "metadata": {},
   "outputs": [],
   "source": [
    "#df['ClmPerDt'].value_counts(normalize = True) * 100"
   ]
  },
  {
   "cell_type": "code",
   "execution_count": 8,
   "metadata": {},
   "outputs": [
    {
     "data": {
      "text/html": [
       "<div>\n",
       "<style scoped>\n",
       "    .dataframe tbody tr th:only-of-type {\n",
       "        vertical-align: middle;\n",
       "    }\n",
       "\n",
       "    .dataframe tbody tr th {\n",
       "        vertical-align: top;\n",
       "    }\n",
       "\n",
       "    .dataframe thead th {\n",
       "        text-align: right;\n",
       "    }\n",
       "</style>\n",
       "<table border=\"1\" class=\"dataframe\">\n",
       "  <thead>\n",
       "    <tr style=\"text-align: right;\">\n",
       "      <th></th>\n",
       "      <th>Unnamed: 0</th>\n",
       "      <th>Provider</th>\n",
       "      <th>PotentialFraud</th>\n",
       "      <th>DurationMedianIP</th>\n",
       "      <th>DurationMeanIP</th>\n",
       "      <th>DurationMedianOP</th>\n",
       "      <th>DurationMeanOP</th>\n",
       "      <th>Serves</th>\n",
       "      <th>ChronCondsMedian</th>\n",
       "      <th>ChronCondsMean</th>\n",
       "      <th>...</th>\n",
       "      <th>AvgDuration</th>\n",
       "      <th>NumOfPt</th>\n",
       "      <th>NumOfClm</th>\n",
       "      <th>ClmPerPt</th>\n",
       "      <th>TotalRev</th>\n",
       "      <th>RevPerPt</th>\n",
       "      <th>ClmNoPhy</th>\n",
       "      <th>ClmAllPhy</th>\n",
       "      <th>ClmNoProc</th>\n",
       "      <th>ClmPerDt</th>\n",
       "    </tr>\n",
       "  </thead>\n",
       "  <tbody>\n",
       "    <tr>\n",
       "      <th>0</th>\n",
       "      <td>0</td>\n",
       "      <td>PRV51001</td>\n",
       "      <td>No</td>\n",
       "      <td>4.0</td>\n",
       "      <td>5.000000</td>\n",
       "      <td>0.0</td>\n",
       "      <td>0.550000</td>\n",
       "      <td>Both</td>\n",
       "      <td>6.0</td>\n",
       "      <td>5.760000</td>\n",
       "      <td>...</td>\n",
       "      <td>1.44</td>\n",
       "      <td>24</td>\n",
       "      <td>25</td>\n",
       "      <td>1.04</td>\n",
       "      <td>109980</td>\n",
       "      <td>4582.50</td>\n",
       "      <td>0</td>\n",
       "      <td>2</td>\n",
       "      <td>23</td>\n",
       "      <td>1.09</td>\n",
       "    </tr>\n",
       "    <tr>\n",
       "      <th>1</th>\n",
       "      <td>1</td>\n",
       "      <td>PRV51003</td>\n",
       "      <td>Yes</td>\n",
       "      <td>4.0</td>\n",
       "      <td>5.161290</td>\n",
       "      <td>0.0</td>\n",
       "      <td>2.357143</td>\n",
       "      <td>Both</td>\n",
       "      <td>7.0</td>\n",
       "      <td>6.674242</td>\n",
       "      <td>...</td>\n",
       "      <td>3.67</td>\n",
       "      <td>117</td>\n",
       "      <td>132</td>\n",
       "      <td>1.13</td>\n",
       "      <td>671956</td>\n",
       "      <td>5743.21</td>\n",
       "      <td>0</td>\n",
       "      <td>4</td>\n",
       "      <td>93</td>\n",
       "      <td>1.19</td>\n",
       "    </tr>\n",
       "    <tr>\n",
       "      <th>2</th>\n",
       "      <td>2</td>\n",
       "      <td>PRV51004</td>\n",
       "      <td>No</td>\n",
       "      <td>0.0</td>\n",
       "      <td>0.000000</td>\n",
       "      <td>0.0</td>\n",
       "      <td>1.429530</td>\n",
       "      <td>OP</td>\n",
       "      <td>7.0</td>\n",
       "      <td>6.812081</td>\n",
       "      <td>...</td>\n",
       "      <td>1.43</td>\n",
       "      <td>138</td>\n",
       "      <td>149</td>\n",
       "      <td>1.08</td>\n",
       "      <td>52480</td>\n",
       "      <td>380.29</td>\n",
       "      <td>0</td>\n",
       "      <td>12</td>\n",
       "      <td>149</td>\n",
       "      <td>1.27</td>\n",
       "    </tr>\n",
       "    <tr>\n",
       "      <th>3</th>\n",
       "      <td>3</td>\n",
       "      <td>PRV51005</td>\n",
       "      <td>Yes</td>\n",
       "      <td>0.0</td>\n",
       "      <td>0.000000</td>\n",
       "      <td>0.0</td>\n",
       "      <td>1.088412</td>\n",
       "      <td>OP</td>\n",
       "      <td>7.0</td>\n",
       "      <td>6.886695</td>\n",
       "      <td>...</td>\n",
       "      <td>1.09</td>\n",
       "      <td>495</td>\n",
       "      <td>1165</td>\n",
       "      <td>2.35</td>\n",
       "      <td>284610</td>\n",
       "      <td>574.97</td>\n",
       "      <td>2</td>\n",
       "      <td>98</td>\n",
       "      <td>1165</td>\n",
       "      <td>3.27</td>\n",
       "    </tr>\n",
       "    <tr>\n",
       "      <th>4</th>\n",
       "      <td>4</td>\n",
       "      <td>PRV51007</td>\n",
       "      <td>No</td>\n",
       "      <td>5.0</td>\n",
       "      <td>5.333333</td>\n",
       "      <td>0.0</td>\n",
       "      <td>0.768116</td>\n",
       "      <td>Both</td>\n",
       "      <td>7.0</td>\n",
       "      <td>6.986111</td>\n",
       "      <td>...</td>\n",
       "      <td>0.96</td>\n",
       "      <td>58</td>\n",
       "      <td>72</td>\n",
       "      <td>1.24</td>\n",
       "      <td>36974</td>\n",
       "      <td>637.48</td>\n",
       "      <td>0</td>\n",
       "      <td>8</td>\n",
       "      <td>71</td>\n",
       "      <td>1.06</td>\n",
       "    </tr>\n",
       "  </tbody>\n",
       "</table>\n",
       "<p>5 rows × 48 columns</p>\n",
       "</div>"
      ],
      "text/plain": [
       "   Unnamed: 0  Provider PotentialFraud  DurationMedianIP  DurationMeanIP  \\\n",
       "0           0  PRV51001             No               4.0        5.000000   \n",
       "1           1  PRV51003            Yes               4.0        5.161290   \n",
       "2           2  PRV51004             No               0.0        0.000000   \n",
       "3           3  PRV51005            Yes               0.0        0.000000   \n",
       "4           4  PRV51007             No               5.0        5.333333   \n",
       "\n",
       "   DurationMedianOP  DurationMeanOP Serves  ChronCondsMedian  ChronCondsMean  \\\n",
       "0               0.0        0.550000   Both               6.0        5.760000   \n",
       "1               0.0        2.357143   Both               7.0        6.674242   \n",
       "2               0.0        1.429530     OP               7.0        6.812081   \n",
       "3               0.0        1.088412     OP               7.0        6.886695   \n",
       "4               0.0        0.768116   Both               7.0        6.986111   \n",
       "\n",
       "   ...  AvgDuration  NumOfPt  NumOfClm  ClmPerPt  TotalRev  RevPerPt  \\\n",
       "0  ...         1.44       24        25      1.04    109980   4582.50   \n",
       "1  ...         3.67      117       132      1.13    671956   5743.21   \n",
       "2  ...         1.43      138       149      1.08     52480    380.29   \n",
       "3  ...         1.09      495      1165      2.35    284610    574.97   \n",
       "4  ...         0.96       58        72      1.24     36974    637.48   \n",
       "\n",
       "   ClmNoPhy  ClmAllPhy  ClmNoProc  ClmPerDt  \n",
       "0         0          2         23      1.09  \n",
       "1         0          4         93      1.19  \n",
       "2         0         12        149      1.27  \n",
       "3         2         98       1165      3.27  \n",
       "4         0          8         71      1.06  \n",
       "\n",
       "[5 rows x 48 columns]"
      ]
     },
     "execution_count": 8,
     "metadata": {},
     "output_type": "execute_result"
    }
   ],
   "source": [
    "df.head()"
   ]
  },
  {
   "cell_type": "code",
   "execution_count": 9,
   "metadata": {},
   "outputs": [],
   "source": [
    "df = df.replace({'No': 0, 'Yes': 1})"
   ]
  },
  {
   "cell_type": "code",
   "execution_count": 10,
   "metadata": {},
   "outputs": [
    {
     "data": {
      "text/plain": [
       "array(['Both', 'OP', 'IP'], dtype=object)"
      ]
     },
     "execution_count": 10,
     "metadata": {},
     "output_type": "execute_result"
    }
   ],
   "source": [
    "data['Serves'].unique()"
   ]
  },
  {
   "cell_type": "code",
   "execution_count": 11,
   "metadata": {},
   "outputs": [],
   "source": [
    "df = pd.get_dummies(df, columns = ['Serves'])"
   ]
  },
  {
   "cell_type": "code",
   "execution_count": 12,
   "metadata": {},
   "outputs": [],
   "source": [
    "df = df.loc[:, ~df.columns.str.contains('^Unnamed')]"
   ]
  },
  {
   "cell_type": "code",
   "execution_count": 13,
   "metadata": {},
   "outputs": [
    {
     "data": {
      "text/html": [
       "<div>\n",
       "<style scoped>\n",
       "    .dataframe tbody tr th:only-of-type {\n",
       "        vertical-align: middle;\n",
       "    }\n",
       "\n",
       "    .dataframe tbody tr th {\n",
       "        vertical-align: top;\n",
       "    }\n",
       "\n",
       "    .dataframe thead th {\n",
       "        text-align: right;\n",
       "    }\n",
       "</style>\n",
       "<table border=\"1\" class=\"dataframe\">\n",
       "  <thead>\n",
       "    <tr style=\"text-align: right;\">\n",
       "      <th></th>\n",
       "      <th>Provider</th>\n",
       "      <th>PotentialFraud</th>\n",
       "      <th>DurationMedianIP</th>\n",
       "      <th>DurationMeanIP</th>\n",
       "      <th>DurationMedianOP</th>\n",
       "      <th>DurationMeanOP</th>\n",
       "      <th>ChronCondsMedian</th>\n",
       "      <th>ChronCondsMean</th>\n",
       "      <th>ChronConsMode</th>\n",
       "      <th>PtAgeMedian</th>\n",
       "      <th>...</th>\n",
       "      <th>ClmPerPt</th>\n",
       "      <th>TotalRev</th>\n",
       "      <th>RevPerPt</th>\n",
       "      <th>ClmNoPhy</th>\n",
       "      <th>ClmAllPhy</th>\n",
       "      <th>ClmNoProc</th>\n",
       "      <th>ClmPerDt</th>\n",
       "      <th>Serves_Both</th>\n",
       "      <th>Serves_IP</th>\n",
       "      <th>Serves_OP</th>\n",
       "    </tr>\n",
       "  </thead>\n",
       "  <tbody>\n",
       "    <tr>\n",
       "      <th>0</th>\n",
       "      <td>PRV51001</td>\n",
       "      <td>0</td>\n",
       "      <td>4.0</td>\n",
       "      <td>5.000000</td>\n",
       "      <td>0.0</td>\n",
       "      <td>0.550000</td>\n",
       "      <td>6.0</td>\n",
       "      <td>5.760000</td>\n",
       "      <td>5.0</td>\n",
       "      <td>79.0</td>\n",
       "      <td>...</td>\n",
       "      <td>1.04</td>\n",
       "      <td>109980</td>\n",
       "      <td>4582.50</td>\n",
       "      <td>0</td>\n",
       "      <td>2</td>\n",
       "      <td>23</td>\n",
       "      <td>1.09</td>\n",
       "      <td>1</td>\n",
       "      <td>0</td>\n",
       "      <td>0</td>\n",
       "    </tr>\n",
       "    <tr>\n",
       "      <th>1</th>\n",
       "      <td>PRV51003</td>\n",
       "      <td>1</td>\n",
       "      <td>4.0</td>\n",
       "      <td>5.161290</td>\n",
       "      <td>0.0</td>\n",
       "      <td>2.357143</td>\n",
       "      <td>7.0</td>\n",
       "      <td>6.674242</td>\n",
       "      <td>6.0</td>\n",
       "      <td>71.0</td>\n",
       "      <td>...</td>\n",
       "      <td>1.13</td>\n",
       "      <td>671956</td>\n",
       "      <td>5743.21</td>\n",
       "      <td>0</td>\n",
       "      <td>4</td>\n",
       "      <td>93</td>\n",
       "      <td>1.19</td>\n",
       "      <td>1</td>\n",
       "      <td>0</td>\n",
       "      <td>0</td>\n",
       "    </tr>\n",
       "    <tr>\n",
       "      <th>2</th>\n",
       "      <td>PRV51004</td>\n",
       "      <td>0</td>\n",
       "      <td>0.0</td>\n",
       "      <td>0.000000</td>\n",
       "      <td>0.0</td>\n",
       "      <td>1.429530</td>\n",
       "      <td>7.0</td>\n",
       "      <td>6.812081</td>\n",
       "      <td>8.0</td>\n",
       "      <td>72.0</td>\n",
       "      <td>...</td>\n",
       "      <td>1.08</td>\n",
       "      <td>52480</td>\n",
       "      <td>380.29</td>\n",
       "      <td>0</td>\n",
       "      <td>12</td>\n",
       "      <td>149</td>\n",
       "      <td>1.27</td>\n",
       "      <td>0</td>\n",
       "      <td>0</td>\n",
       "      <td>1</td>\n",
       "    </tr>\n",
       "    <tr>\n",
       "      <th>3</th>\n",
       "      <td>PRV51005</td>\n",
       "      <td>1</td>\n",
       "      <td>0.0</td>\n",
       "      <td>0.000000</td>\n",
       "      <td>0.0</td>\n",
       "      <td>1.088412</td>\n",
       "      <td>7.0</td>\n",
       "      <td>6.886695</td>\n",
       "      <td>5.0</td>\n",
       "      <td>70.0</td>\n",
       "      <td>...</td>\n",
       "      <td>2.35</td>\n",
       "      <td>284610</td>\n",
       "      <td>574.97</td>\n",
       "      <td>2</td>\n",
       "      <td>98</td>\n",
       "      <td>1165</td>\n",
       "      <td>3.27</td>\n",
       "      <td>0</td>\n",
       "      <td>0</td>\n",
       "      <td>1</td>\n",
       "    </tr>\n",
       "    <tr>\n",
       "      <th>4</th>\n",
       "      <td>PRV51007</td>\n",
       "      <td>0</td>\n",
       "      <td>5.0</td>\n",
       "      <td>5.333333</td>\n",
       "      <td>0.0</td>\n",
       "      <td>0.768116</td>\n",
       "      <td>7.0</td>\n",
       "      <td>6.986111</td>\n",
       "      <td>6.0</td>\n",
       "      <td>69.5</td>\n",
       "      <td>...</td>\n",
       "      <td>1.24</td>\n",
       "      <td>36974</td>\n",
       "      <td>637.48</td>\n",
       "      <td>0</td>\n",
       "      <td>8</td>\n",
       "      <td>71</td>\n",
       "      <td>1.06</td>\n",
       "      <td>1</td>\n",
       "      <td>0</td>\n",
       "      <td>0</td>\n",
       "    </tr>\n",
       "  </tbody>\n",
       "</table>\n",
       "<p>5 rows × 49 columns</p>\n",
       "</div>"
      ],
      "text/plain": [
       "   Provider  PotentialFraud  DurationMedianIP  DurationMeanIP  \\\n",
       "0  PRV51001               0               4.0        5.000000   \n",
       "1  PRV51003               1               4.0        5.161290   \n",
       "2  PRV51004               0               0.0        0.000000   \n",
       "3  PRV51005               1               0.0        0.000000   \n",
       "4  PRV51007               0               5.0        5.333333   \n",
       "\n",
       "   DurationMedianOP  DurationMeanOP  ChronCondsMedian  ChronCondsMean  \\\n",
       "0               0.0        0.550000               6.0        5.760000   \n",
       "1               0.0        2.357143               7.0        6.674242   \n",
       "2               0.0        1.429530               7.0        6.812081   \n",
       "3               0.0        1.088412               7.0        6.886695   \n",
       "4               0.0        0.768116               7.0        6.986111   \n",
       "\n",
       "   ChronConsMode  PtAgeMedian  ...  ClmPerPt  TotalRev  RevPerPt  ClmNoPhy  \\\n",
       "0            5.0         79.0  ...      1.04    109980   4582.50         0   \n",
       "1            6.0         71.0  ...      1.13    671956   5743.21         0   \n",
       "2            8.0         72.0  ...      1.08     52480    380.29         0   \n",
       "3            5.0         70.0  ...      2.35    284610    574.97         2   \n",
       "4            6.0         69.5  ...      1.24     36974    637.48         0   \n",
       "\n",
       "   ClmAllPhy  ClmNoProc  ClmPerDt  Serves_Both  Serves_IP  Serves_OP  \n",
       "0          2         23      1.09            1          0          0  \n",
       "1          4         93      1.19            1          0          0  \n",
       "2         12        149      1.27            0          0          1  \n",
       "3         98       1165      3.27            0          0          1  \n",
       "4          8         71      1.06            1          0          0  \n",
       "\n",
       "[5 rows x 49 columns]"
      ]
     },
     "execution_count": 13,
     "metadata": {},
     "output_type": "execute_result"
    }
   ],
   "source": [
    "df.head()"
   ]
  },
  {
   "cell_type": "code",
   "execution_count": 14,
   "metadata": {},
   "outputs": [
    {
     "data": {
      "text/plain": [
       "ClmPerDt                    0\n",
       "ClmNoProc                   0\n",
       "DupClaimRatio_IP            0\n",
       "DupClaimNum_IP              0\n",
       "NumTopCodeClaim             0\n",
       "MergeAvgClaimReimbursed     0\n",
       "SharePhysician              0\n",
       "NumStatesOP                 0\n",
       "NumStatesIP                 0\n",
       "NumPtsOP                    0\n",
       "NumPtsIP                    0\n",
       "PtAgeMean                   0\n",
       "PtAgeMedian                 0\n",
       "ChronConsMode               0\n",
       "ChronCondsMean              0\n",
       "ChronCondsMedian            0\n",
       "Serves                      0\n",
       "DurationMeanOP              0\n",
       "DurationMedianOP            0\n",
       "DurationMeanIP              0\n",
       "DurationMedianIP            0\n",
       "PotentialFraud              0\n",
       "Provider                    0\n",
       "DupClaim_IP                 0\n",
       "DupClaimStatesNum_IP        0\n",
       "DupClaimMultiState_IP       0\n",
       "DupClaimStartDtNum_OP       0\n",
       "ClmAllPhy                   0\n",
       "ClmNoPhy                    0\n",
       "RevPerPt                    0\n",
       "TotalRev                    0\n",
       "ClmPerPt                    0\n",
       "NumOfClm                    0\n",
       "NumOfPt                     0\n",
       "AvgDuration                 0\n",
       "DupClaimMultiStartDt_OP     0\n",
       "DupClaimMultiProvider_OP    0\n",
       "DupClaimProviderNum_IP      0\n",
       "DupClaimProviderNum_OP      0\n",
       "DupClaimMultiState_OP       0\n",
       "DupClaimStatesNum_OP        0\n",
       "DupClaim_OP                 0\n",
       "DupClaimRatio_OP            0\n",
       "DupClaimNum_OP              0\n",
       "DupClaimMultiStartDt_IP     0\n",
       "DupClaimStartDtNum_IP       0\n",
       "DupClaimMultiProvider_IP    0\n",
       "Unnamed: 0                  0\n",
       "dtype: int64"
      ]
     },
     "execution_count": 14,
     "metadata": {},
     "output_type": "execute_result"
    }
   ],
   "source": [
    "data.isnull().sum().sort_values(ascending = False)"
   ]
  },
  {
   "cell_type": "code",
   "execution_count": 15,
   "metadata": {},
   "outputs": [],
   "source": [
    "X = df.drop(['Provider', 'PotentialFraud'], axis = 1)"
   ]
  },
  {
   "cell_type": "code",
   "execution_count": 16,
   "metadata": {},
   "outputs": [],
   "source": [
    "df_el = df_el.replace({'No': 0, 'Yes': 1})"
   ]
  },
  {
   "cell_type": "code",
   "execution_count": 17,
   "metadata": {},
   "outputs": [],
   "source": [
    "X_el = df_el.drop(['Provider', 'PotentialFraud'], axis = 1)"
   ]
  },
  {
   "cell_type": "code",
   "execution_count": 18,
   "metadata": {},
   "outputs": [
    {
     "data": {
      "text/html": [
       "<div>\n",
       "<style scoped>\n",
       "    .dataframe tbody tr th:only-of-type {\n",
       "        vertical-align: middle;\n",
       "    }\n",
       "\n",
       "    .dataframe tbody tr th {\n",
       "        vertical-align: top;\n",
       "    }\n",
       "\n",
       "    .dataframe thead th {\n",
       "        text-align: right;\n",
       "    }\n",
       "</style>\n",
       "<table border=\"1\" class=\"dataframe\">\n",
       "  <thead>\n",
       "    <tr style=\"text-align: right;\">\n",
       "      <th></th>\n",
       "      <th>DurationMedianIP</th>\n",
       "      <th>DurationMeanIP</th>\n",
       "      <th>DurationMedianOP</th>\n",
       "      <th>DurationMeanOP</th>\n",
       "      <th>ChronCondsMedian</th>\n",
       "      <th>ChronCondsMean</th>\n",
       "      <th>ChronConsMode</th>\n",
       "      <th>PtAgeMedian</th>\n",
       "      <th>PtAgeMean</th>\n",
       "      <th>NumPtsIP</th>\n",
       "      <th>...</th>\n",
       "      <th>ClmPerPt</th>\n",
       "      <th>TotalRev</th>\n",
       "      <th>RevPerPt</th>\n",
       "      <th>ClmNoPhy</th>\n",
       "      <th>ClmAllPhy</th>\n",
       "      <th>ClmNoProc</th>\n",
       "      <th>ClmPerDt</th>\n",
       "      <th>Serves_Both</th>\n",
       "      <th>Serves_IP</th>\n",
       "      <th>Serves_OP</th>\n",
       "    </tr>\n",
       "  </thead>\n",
       "  <tbody>\n",
       "    <tr>\n",
       "      <th>0</th>\n",
       "      <td>4.0</td>\n",
       "      <td>5.000000</td>\n",
       "      <td>0.0</td>\n",
       "      <td>0.550000</td>\n",
       "      <td>6.0</td>\n",
       "      <td>5.760000</td>\n",
       "      <td>5.0</td>\n",
       "      <td>79.0</td>\n",
       "      <td>77.880000</td>\n",
       "      <td>5.0</td>\n",
       "      <td>...</td>\n",
       "      <td>1.04</td>\n",
       "      <td>109980</td>\n",
       "      <td>4582.50</td>\n",
       "      <td>0</td>\n",
       "      <td>2</td>\n",
       "      <td>23</td>\n",
       "      <td>1.09</td>\n",
       "      <td>1</td>\n",
       "      <td>0</td>\n",
       "      <td>0</td>\n",
       "    </tr>\n",
       "    <tr>\n",
       "      <th>1</th>\n",
       "      <td>4.0</td>\n",
       "      <td>5.161290</td>\n",
       "      <td>0.0</td>\n",
       "      <td>2.357143</td>\n",
       "      <td>7.0</td>\n",
       "      <td>6.674242</td>\n",
       "      <td>6.0</td>\n",
       "      <td>71.0</td>\n",
       "      <td>69.083333</td>\n",
       "      <td>53.0</td>\n",
       "      <td>...</td>\n",
       "      <td>1.13</td>\n",
       "      <td>671956</td>\n",
       "      <td>5743.21</td>\n",
       "      <td>0</td>\n",
       "      <td>4</td>\n",
       "      <td>93</td>\n",
       "      <td>1.19</td>\n",
       "      <td>1</td>\n",
       "      <td>0</td>\n",
       "      <td>0</td>\n",
       "    </tr>\n",
       "    <tr>\n",
       "      <th>2</th>\n",
       "      <td>0.0</td>\n",
       "      <td>0.000000</td>\n",
       "      <td>0.0</td>\n",
       "      <td>1.429530</td>\n",
       "      <td>7.0</td>\n",
       "      <td>6.812081</td>\n",
       "      <td>8.0</td>\n",
       "      <td>72.0</td>\n",
       "      <td>71.261745</td>\n",
       "      <td>0.0</td>\n",
       "      <td>...</td>\n",
       "      <td>1.08</td>\n",
       "      <td>52480</td>\n",
       "      <td>380.29</td>\n",
       "      <td>0</td>\n",
       "      <td>12</td>\n",
       "      <td>149</td>\n",
       "      <td>1.27</td>\n",
       "      <td>0</td>\n",
       "      <td>0</td>\n",
       "      <td>1</td>\n",
       "    </tr>\n",
       "    <tr>\n",
       "      <th>3</th>\n",
       "      <td>0.0</td>\n",
       "      <td>0.000000</td>\n",
       "      <td>0.0</td>\n",
       "      <td>1.088412</td>\n",
       "      <td>7.0</td>\n",
       "      <td>6.886695</td>\n",
       "      <td>5.0</td>\n",
       "      <td>70.0</td>\n",
       "      <td>69.526180</td>\n",
       "      <td>0.0</td>\n",
       "      <td>...</td>\n",
       "      <td>2.35</td>\n",
       "      <td>284610</td>\n",
       "      <td>574.97</td>\n",
       "      <td>2</td>\n",
       "      <td>98</td>\n",
       "      <td>1165</td>\n",
       "      <td>3.27</td>\n",
       "      <td>0</td>\n",
       "      <td>0</td>\n",
       "      <td>1</td>\n",
       "    </tr>\n",
       "    <tr>\n",
       "      <th>4</th>\n",
       "      <td>5.0</td>\n",
       "      <td>5.333333</td>\n",
       "      <td>0.0</td>\n",
       "      <td>0.768116</td>\n",
       "      <td>7.0</td>\n",
       "      <td>6.986111</td>\n",
       "      <td>6.0</td>\n",
       "      <td>69.5</td>\n",
       "      <td>68.305556</td>\n",
       "      <td>3.0</td>\n",
       "      <td>...</td>\n",
       "      <td>1.24</td>\n",
       "      <td>36974</td>\n",
       "      <td>637.48</td>\n",
       "      <td>0</td>\n",
       "      <td>8</td>\n",
       "      <td>71</td>\n",
       "      <td>1.06</td>\n",
       "      <td>1</td>\n",
       "      <td>0</td>\n",
       "      <td>0</td>\n",
       "    </tr>\n",
       "  </tbody>\n",
       "</table>\n",
       "<p>5 rows × 47 columns</p>\n",
       "</div>"
      ],
      "text/plain": [
       "   DurationMedianIP  DurationMeanIP  DurationMedianOP  DurationMeanOP  \\\n",
       "0               4.0        5.000000               0.0        0.550000   \n",
       "1               4.0        5.161290               0.0        2.357143   \n",
       "2               0.0        0.000000               0.0        1.429530   \n",
       "3               0.0        0.000000               0.0        1.088412   \n",
       "4               5.0        5.333333               0.0        0.768116   \n",
       "\n",
       "   ChronCondsMedian  ChronCondsMean  ChronConsMode  PtAgeMedian  PtAgeMean  \\\n",
       "0               6.0        5.760000            5.0         79.0  77.880000   \n",
       "1               7.0        6.674242            6.0         71.0  69.083333   \n",
       "2               7.0        6.812081            8.0         72.0  71.261745   \n",
       "3               7.0        6.886695            5.0         70.0  69.526180   \n",
       "4               7.0        6.986111            6.0         69.5  68.305556   \n",
       "\n",
       "   NumPtsIP  ...  ClmPerPt  TotalRev  RevPerPt  ClmNoPhy  ClmAllPhy  \\\n",
       "0       5.0  ...      1.04    109980   4582.50         0          2   \n",
       "1      53.0  ...      1.13    671956   5743.21         0          4   \n",
       "2       0.0  ...      1.08     52480    380.29         0         12   \n",
       "3       0.0  ...      2.35    284610    574.97         2         98   \n",
       "4       3.0  ...      1.24     36974    637.48         0          8   \n",
       "\n",
       "   ClmNoProc  ClmPerDt  Serves_Both Serves_IP  Serves_OP  \n",
       "0         23      1.09            1         0          0  \n",
       "1         93      1.19            1         0          0  \n",
       "2        149      1.27            0         0          1  \n",
       "3       1165      3.27            0         0          1  \n",
       "4         71      1.06            1         0          0  \n",
       "\n",
       "[5 rows x 47 columns]"
      ]
     },
     "execution_count": 18,
     "metadata": {},
     "output_type": "execute_result"
    }
   ],
   "source": [
    "X.head()"
   ]
  },
  {
   "cell_type": "code",
   "execution_count": 19,
   "metadata": {},
   "outputs": [
    {
     "data": {
      "text/plain": [
       "(5410, 47)"
      ]
     },
     "execution_count": 19,
     "metadata": {},
     "output_type": "execute_result"
    }
   ],
   "source": [
    "X.shape"
   ]
  },
  {
   "cell_type": "code",
   "execution_count": 20,
   "metadata": {},
   "outputs": [
    {
     "data": {
      "text/html": [
       "<div>\n",
       "<style scoped>\n",
       "    .dataframe tbody tr th:only-of-type {\n",
       "        vertical-align: middle;\n",
       "    }\n",
       "\n",
       "    .dataframe tbody tr th {\n",
       "        vertical-align: top;\n",
       "    }\n",
       "\n",
       "    .dataframe thead th {\n",
       "        text-align: right;\n",
       "    }\n",
       "</style>\n",
       "<table border=\"1\" class=\"dataframe\">\n",
       "  <thead>\n",
       "    <tr style=\"text-align: right;\">\n",
       "      <th></th>\n",
       "      <th>DurationMedianIP</th>\n",
       "      <th>DurationMeanIP</th>\n",
       "      <th>DurationMedianOP</th>\n",
       "      <th>DurationMeanOP</th>\n",
       "      <th>ChronCondsMedian</th>\n",
       "      <th>ChronCondsMean</th>\n",
       "      <th>ChronConsMode</th>\n",
       "      <th>PtAgeMedian</th>\n",
       "      <th>PtAgeMean</th>\n",
       "      <th>NumPtsIP</th>\n",
       "      <th>...</th>\n",
       "      <th>ClmPerPt</th>\n",
       "      <th>TotalRev</th>\n",
       "      <th>RevPerPt</th>\n",
       "      <th>ClmNoPhy</th>\n",
       "      <th>ClmAllPhy</th>\n",
       "      <th>ClmNoProc</th>\n",
       "      <th>ClmPerDt</th>\n",
       "      <th>Serves_Both</th>\n",
       "      <th>Serves_IP</th>\n",
       "      <th>Serves_OP</th>\n",
       "    </tr>\n",
       "  </thead>\n",
       "  <tbody>\n",
       "    <tr>\n",
       "      <th>0</th>\n",
       "      <td>4.0</td>\n",
       "      <td>5.000000</td>\n",
       "      <td>0.0</td>\n",
       "      <td>0.550000</td>\n",
       "      <td>6.0</td>\n",
       "      <td>5.760000</td>\n",
       "      <td>5.0</td>\n",
       "      <td>79.0</td>\n",
       "      <td>77.880000</td>\n",
       "      <td>5.0</td>\n",
       "      <td>...</td>\n",
       "      <td>1.04</td>\n",
       "      <td>109980</td>\n",
       "      <td>4582.50</td>\n",
       "      <td>0</td>\n",
       "      <td>2</td>\n",
       "      <td>23</td>\n",
       "      <td>1.09</td>\n",
       "      <td>1</td>\n",
       "      <td>0</td>\n",
       "      <td>0</td>\n",
       "    </tr>\n",
       "    <tr>\n",
       "      <th>1</th>\n",
       "      <td>4.0</td>\n",
       "      <td>5.161290</td>\n",
       "      <td>0.0</td>\n",
       "      <td>2.357143</td>\n",
       "      <td>7.0</td>\n",
       "      <td>6.674242</td>\n",
       "      <td>6.0</td>\n",
       "      <td>71.0</td>\n",
       "      <td>69.083333</td>\n",
       "      <td>53.0</td>\n",
       "      <td>...</td>\n",
       "      <td>1.13</td>\n",
       "      <td>671956</td>\n",
       "      <td>5743.21</td>\n",
       "      <td>0</td>\n",
       "      <td>4</td>\n",
       "      <td>93</td>\n",
       "      <td>1.19</td>\n",
       "      <td>1</td>\n",
       "      <td>0</td>\n",
       "      <td>0</td>\n",
       "    </tr>\n",
       "    <tr>\n",
       "      <th>2</th>\n",
       "      <td>0.0</td>\n",
       "      <td>0.000000</td>\n",
       "      <td>0.0</td>\n",
       "      <td>1.429530</td>\n",
       "      <td>7.0</td>\n",
       "      <td>6.812081</td>\n",
       "      <td>8.0</td>\n",
       "      <td>72.0</td>\n",
       "      <td>71.261745</td>\n",
       "      <td>0.0</td>\n",
       "      <td>...</td>\n",
       "      <td>1.08</td>\n",
       "      <td>52480</td>\n",
       "      <td>380.29</td>\n",
       "      <td>0</td>\n",
       "      <td>12</td>\n",
       "      <td>149</td>\n",
       "      <td>1.27</td>\n",
       "      <td>0</td>\n",
       "      <td>0</td>\n",
       "      <td>1</td>\n",
       "    </tr>\n",
       "    <tr>\n",
       "      <th>3</th>\n",
       "      <td>0.0</td>\n",
       "      <td>0.000000</td>\n",
       "      <td>0.0</td>\n",
       "      <td>1.088412</td>\n",
       "      <td>7.0</td>\n",
       "      <td>6.886695</td>\n",
       "      <td>5.0</td>\n",
       "      <td>70.0</td>\n",
       "      <td>69.526180</td>\n",
       "      <td>0.0</td>\n",
       "      <td>...</td>\n",
       "      <td>2.35</td>\n",
       "      <td>284610</td>\n",
       "      <td>574.97</td>\n",
       "      <td>2</td>\n",
       "      <td>98</td>\n",
       "      <td>1165</td>\n",
       "      <td>3.27</td>\n",
       "      <td>0</td>\n",
       "      <td>0</td>\n",
       "      <td>1</td>\n",
       "    </tr>\n",
       "    <tr>\n",
       "      <th>4</th>\n",
       "      <td>5.0</td>\n",
       "      <td>5.333333</td>\n",
       "      <td>0.0</td>\n",
       "      <td>0.768116</td>\n",
       "      <td>7.0</td>\n",
       "      <td>6.986111</td>\n",
       "      <td>6.0</td>\n",
       "      <td>69.5</td>\n",
       "      <td>68.305556</td>\n",
       "      <td>3.0</td>\n",
       "      <td>...</td>\n",
       "      <td>1.24</td>\n",
       "      <td>36974</td>\n",
       "      <td>637.48</td>\n",
       "      <td>0</td>\n",
       "      <td>8</td>\n",
       "      <td>71</td>\n",
       "      <td>1.06</td>\n",
       "      <td>1</td>\n",
       "      <td>0</td>\n",
       "      <td>0</td>\n",
       "    </tr>\n",
       "  </tbody>\n",
       "</table>\n",
       "<p>5 rows × 47 columns</p>\n",
       "</div>"
      ],
      "text/plain": [
       "   DurationMedianIP  DurationMeanIP  DurationMedianOP  DurationMeanOP  \\\n",
       "0               4.0        5.000000               0.0        0.550000   \n",
       "1               4.0        5.161290               0.0        2.357143   \n",
       "2               0.0        0.000000               0.0        1.429530   \n",
       "3               0.0        0.000000               0.0        1.088412   \n",
       "4               5.0        5.333333               0.0        0.768116   \n",
       "\n",
       "   ChronCondsMedian  ChronCondsMean  ChronConsMode  PtAgeMedian  PtAgeMean  \\\n",
       "0               6.0        5.760000            5.0         79.0  77.880000   \n",
       "1               7.0        6.674242            6.0         71.0  69.083333   \n",
       "2               7.0        6.812081            8.0         72.0  71.261745   \n",
       "3               7.0        6.886695            5.0         70.0  69.526180   \n",
       "4               7.0        6.986111            6.0         69.5  68.305556   \n",
       "\n",
       "   NumPtsIP  ...  ClmPerPt  TotalRev  RevPerPt  ClmNoPhy  ClmAllPhy  \\\n",
       "0       5.0  ...      1.04    109980   4582.50         0          2   \n",
       "1      53.0  ...      1.13    671956   5743.21         0          4   \n",
       "2       0.0  ...      1.08     52480    380.29         0         12   \n",
       "3       0.0  ...      2.35    284610    574.97         2         98   \n",
       "4       3.0  ...      1.24     36974    637.48         0          8   \n",
       "\n",
       "   ClmNoProc  ClmPerDt  Serves_Both Serves_IP  Serves_OP  \n",
       "0         23      1.09            1         0          0  \n",
       "1         93      1.19            1         0          0  \n",
       "2        149      1.27            0         0          1  \n",
       "3       1165      3.27            0         0          1  \n",
       "4         71      1.06            1         0          0  \n",
       "\n",
       "[5 rows x 47 columns]"
      ]
     },
     "execution_count": 20,
     "metadata": {},
     "output_type": "execute_result"
    }
   ],
   "source": [
    "X.head()"
   ]
  },
  {
   "cell_type": "code",
   "execution_count": 21,
   "metadata": {},
   "outputs": [
    {
     "data": {
      "text/plain": [
       "DurationMedianIP            float64\n",
       "DurationMeanIP              float64\n",
       "DurationMedianOP            float64\n",
       "DurationMeanOP              float64\n",
       "ChronCondsMedian            float64\n",
       "ChronCondsMean              float64\n",
       "ChronConsMode               float64\n",
       "PtAgeMedian                 float64\n",
       "PtAgeMean                   float64\n",
       "NumPtsIP                    float64\n",
       "NumPtsOP                    float64\n",
       "NumStatesIP                 float64\n",
       "NumStatesOP                 float64\n",
       "SharePhysician              float64\n",
       "MergeAvgClaimReimbursed     float64\n",
       "NumTopCodeClaim             float64\n",
       "DupClaimNum_IP              float64\n",
       "DupClaimRatio_IP            float64\n",
       "DupClaim_IP                  object\n",
       "DupClaimStatesNum_IP        float64\n",
       "DupClaimMultiState_IP        object\n",
       "DupClaimProviderNum_IP      float64\n",
       "DupClaimMultiProvider_IP     object\n",
       "DupClaimStartDtNum_IP       float64\n",
       "DupClaimMultiStartDt_IP      object\n",
       "DupClaimNum_OP              float64\n",
       "DupClaimRatio_OP            float64\n",
       "DupClaim_OP                  object\n",
       "DupClaimStatesNum_OP        float64\n",
       "DupClaimMultiState_OP        object\n",
       "DupClaimProviderNum_OP      float64\n",
       "DupClaimMultiProvider_OP     object\n",
       "DupClaimStartDtNum_OP       float64\n",
       "DupClaimMultiStartDt_OP      object\n",
       "AvgDuration                 float64\n",
       "NumOfPt                       int64\n",
       "NumOfClm                      int64\n",
       "ClmPerPt                    float64\n",
       "TotalRev                      int64\n",
       "RevPerPt                    float64\n",
       "ClmNoPhy                      int64\n",
       "ClmAllPhy                     int64\n",
       "ClmNoProc                     int64\n",
       "ClmPerDt                    float64\n",
       "Serves_Both                   uint8\n",
       "Serves_IP                     uint8\n",
       "Serves_OP                     uint8\n",
       "dtype: object"
      ]
     },
     "execution_count": 21,
     "metadata": {},
     "output_type": "execute_result"
    }
   ],
   "source": [
    "X.dtypes"
   ]
  },
  {
   "cell_type": "code",
   "execution_count": 22,
   "metadata": {},
   "outputs": [
    {
     "data": {
      "text/plain": [
       "array(['yes', 'no'], dtype=object)"
      ]
     },
     "execution_count": 22,
     "metadata": {},
     "output_type": "execute_result"
    }
   ],
   "source": [
    "X['DupClaimMultiStartDt_OP'].unique()"
   ]
  },
  {
   "cell_type": "code",
   "execution_count": 23,
   "metadata": {},
   "outputs": [
    {
     "data": {
      "text/plain": [
       "array(['yes', 'no'], dtype=object)"
      ]
     },
     "execution_count": 23,
     "metadata": {},
     "output_type": "execute_result"
    }
   ],
   "source": [
    "X['DupClaimMultiState_OP'].unique()"
   ]
  },
  {
   "cell_type": "code",
   "execution_count": 24,
   "metadata": {},
   "outputs": [
    {
     "data": {
      "text/plain": [
       "array([ 0.,  1.,  3.,  2.,  7., 10.,  9.,  4.,  6., 11.,  5.,  8., 22.,\n",
       "       13., 15., 19.])"
      ]
     },
     "execution_count": 24,
     "metadata": {},
     "output_type": "execute_result"
    }
   ],
   "source": [
    "X['DupClaimNum_IP'].unique()"
   ]
  },
  {
   "cell_type": "code",
   "execution_count": 25,
   "metadata": {},
   "outputs": [
    {
     "data": {
      "text/plain": [
       "array([ 0.,  1.,  3.,  2.,  7., 10.,  9.,  4.,  6., 11.,  5.,  8., 22.,\n",
       "       13., 15., 19.])"
      ]
     },
     "execution_count": 25,
     "metadata": {},
     "output_type": "execute_result"
    }
   ],
   "source": [
    "X['DupClaimNum_IP'].unique()"
   ]
  },
  {
   "cell_type": "code",
   "execution_count": 26,
   "metadata": {},
   "outputs": [
    {
     "data": {
      "text/plain": [
       "array(['no', 'yes'], dtype=object)"
      ]
     },
     "execution_count": 26,
     "metadata": {},
     "output_type": "execute_result"
    }
   ],
   "source": [
    "X['DupClaimMultiProvider_IP'].unique()"
   ]
  },
  {
   "cell_type": "code",
   "execution_count": 27,
   "metadata": {},
   "outputs": [],
   "source": [
    "#X['DupClaimNum_OP'].unique()"
   ]
  },
  {
   "cell_type": "code",
   "execution_count": 28,
   "metadata": {},
   "outputs": [
    {
     "data": {
      "text/plain": [
       "array(['yes', 'no'], dtype=object)"
      ]
     },
     "execution_count": 28,
     "metadata": {},
     "output_type": "execute_result"
    }
   ],
   "source": [
    "X['DupClaim_OP'].unique()"
   ]
  },
  {
   "cell_type": "code",
   "execution_count": 29,
   "metadata": {},
   "outputs": [
    {
     "data": {
      "text/plain": [
       "array(['yes', 'no'], dtype=object)"
      ]
     },
     "execution_count": 29,
     "metadata": {},
     "output_type": "execute_result"
    }
   ],
   "source": [
    "X['DupClaimMultiState_OP'].unique()"
   ]
  },
  {
   "cell_type": "code",
   "execution_count": 30,
   "metadata": {},
   "outputs": [
    {
     "data": {
      "text/plain": [
       "array(['yes', 'no'], dtype=object)"
      ]
     },
     "execution_count": 30,
     "metadata": {},
     "output_type": "execute_result"
    }
   ],
   "source": [
    "X['DupClaimMultiProvider_OP'].unique()"
   ]
  },
  {
   "cell_type": "code",
   "execution_count": 31,
   "metadata": {},
   "outputs": [
    {
     "data": {
      "text/plain": [
       "array(['yes', 'no'], dtype=object)"
      ]
     },
     "execution_count": 31,
     "metadata": {},
     "output_type": "execute_result"
    }
   ],
   "source": [
    "X['DupClaimMultiStartDt_OP'].unique()"
   ]
  },
  {
   "cell_type": "code",
   "execution_count": 32,
   "metadata": {},
   "outputs": [],
   "source": [
    "X = pd.get_dummies(X)"
   ]
  },
  {
   "cell_type": "code",
   "execution_count": 33,
   "metadata": {},
   "outputs": [
    {
     "data": {
      "text/html": [
       "<div>\n",
       "<style scoped>\n",
       "    .dataframe tbody tr th:only-of-type {\n",
       "        vertical-align: middle;\n",
       "    }\n",
       "\n",
       "    .dataframe tbody tr th {\n",
       "        vertical-align: top;\n",
       "    }\n",
       "\n",
       "    .dataframe thead th {\n",
       "        text-align: right;\n",
       "    }\n",
       "</style>\n",
       "<table border=\"1\" class=\"dataframe\">\n",
       "  <thead>\n",
       "    <tr style=\"text-align: right;\">\n",
       "      <th></th>\n",
       "      <th>AvgDuration</th>\n",
       "      <th>NumOfPt</th>\n",
       "      <th>NumOfClm</th>\n",
       "      <th>ClmPerPt</th>\n",
       "      <th>TotalRev</th>\n",
       "      <th>RevPerPt</th>\n",
       "      <th>ClmNoPhy</th>\n",
       "      <th>ClmAllPhy</th>\n",
       "      <th>ClmNoProc</th>\n",
       "      <th>ClmPerDt</th>\n",
       "    </tr>\n",
       "  </thead>\n",
       "  <tbody>\n",
       "    <tr>\n",
       "      <th>0</th>\n",
       "      <td>3.67</td>\n",
       "      <td>117</td>\n",
       "      <td>132</td>\n",
       "      <td>1.13</td>\n",
       "      <td>671956</td>\n",
       "      <td>5743.21</td>\n",
       "      <td>0</td>\n",
       "      <td>4</td>\n",
       "      <td>93</td>\n",
       "      <td>1.19</td>\n",
       "    </tr>\n",
       "    <tr>\n",
       "      <th>1</th>\n",
       "      <td>1.09</td>\n",
       "      <td>495</td>\n",
       "      <td>1165</td>\n",
       "      <td>2.35</td>\n",
       "      <td>284610</td>\n",
       "      <td>574.97</td>\n",
       "      <td>2</td>\n",
       "      <td>98</td>\n",
       "      <td>1165</td>\n",
       "      <td>3.27</td>\n",
       "    </tr>\n",
       "    <tr>\n",
       "      <th>2</th>\n",
       "      <td>2.00</td>\n",
       "      <td>208</td>\n",
       "      <td>257</td>\n",
       "      <td>1.24</td>\n",
       "      <td>380322</td>\n",
       "      <td>1828.47</td>\n",
       "      <td>1</td>\n",
       "      <td>17</td>\n",
       "      <td>240</td>\n",
       "      <td>1.46</td>\n",
       "    </tr>\n",
       "    <tr>\n",
       "      <th>3</th>\n",
       "      <td>1.53</td>\n",
       "      <td>206</td>\n",
       "      <td>454</td>\n",
       "      <td>2.20</td>\n",
       "      <td>367754</td>\n",
       "      <td>1785.21</td>\n",
       "      <td>3</td>\n",
       "      <td>37</td>\n",
       "      <td>445</td>\n",
       "      <td>1.66</td>\n",
       "    </tr>\n",
       "    <tr>\n",
       "      <th>4</th>\n",
       "      <td>2.28</td>\n",
       "      <td>37</td>\n",
       "      <td>46</td>\n",
       "      <td>1.24</td>\n",
       "      <td>33146</td>\n",
       "      <td>895.84</td>\n",
       "      <td>0</td>\n",
       "      <td>3</td>\n",
       "      <td>45</td>\n",
       "      <td>1.10</td>\n",
       "    </tr>\n",
       "  </tbody>\n",
       "</table>\n",
       "</div>"
      ],
      "text/plain": [
       "   AvgDuration  NumOfPt  NumOfClm  ClmPerPt  TotalRev  RevPerPt  ClmNoPhy  \\\n",
       "0         3.67      117       132      1.13    671956   5743.21         0   \n",
       "1         1.09      495      1165      2.35    284610    574.97         2   \n",
       "2         2.00      208       257      1.24    380322   1828.47         1   \n",
       "3         1.53      206       454      2.20    367754   1785.21         3   \n",
       "4         2.28       37        46      1.24     33146    895.84         0   \n",
       "\n",
       "   ClmAllPhy  ClmNoProc  ClmPerDt  \n",
       "0          4         93      1.19  \n",
       "1         98       1165      3.27  \n",
       "2         17        240      1.46  \n",
       "3         37        445      1.66  \n",
       "4          3         45      1.10  "
      ]
     },
     "execution_count": 33,
     "metadata": {},
     "output_type": "execute_result"
    }
   ],
   "source": [
    "X_el.head()"
   ]
  },
  {
   "cell_type": "code",
   "execution_count": 34,
   "metadata": {},
   "outputs": [],
   "source": [
    "y = df['PotentialFraud']"
   ]
  },
  {
   "cell_type": "code",
   "execution_count": 35,
   "metadata": {},
   "outputs": [],
   "source": [
    "y_el = df_el['PotentialFraud']"
   ]
  },
  {
   "cell_type": "markdown",
   "metadata": {},
   "source": [
    "##  Linear Regression"
   ]
  },
  {
   "cell_type": "code",
   "execution_count": 36,
   "metadata": {},
   "outputs": [],
   "source": [
    "from sklearn.linear_model import LogisticRegression\n",
    "\n",
    "from sklearn.utils.class_weight import compute_class_weight"
   ]
  },
  {
   "cell_type": "code",
   "execution_count": 37,
   "metadata": {},
   "outputs": [],
   "source": [
    "weighting = compute_class_weight('balanced', [0,1], y)"
   ]
  },
  {
   "cell_type": "code",
   "execution_count": 38,
   "metadata": {},
   "outputs": [
    {
     "name": "stdout",
     "output_type": "stream",
     "text": [
      "The weight for no fraud is 0.55\n",
      "The weight for potential fraud is 5.35\n"
     ]
    }
   ],
   "source": [
    "print('The weight for no fraud is', weighting[0].round(2))\n",
    "print('The weight for potential fraud is', weighting[1].round(2))"
   ]
  },
  {
   "cell_type": "code",
   "execution_count": 39,
   "metadata": {},
   "outputs": [],
   "source": [
    "weights = {0:0.55, 1:5.35}"
   ]
  },
  {
   "cell_type": "code",
   "execution_count": 40,
   "metadata": {},
   "outputs": [],
   "source": [
    "lgt = LogisticRegression(\\\n",
    "                         #l1_ratio = 1,\n",
    "                        penalty = 'l1',\n",
    "                         max_iter = 1000,\n",
    "                         solver = 'liblinear', \\\n",
    "                         class_weight = weights)\n",
    "                         #class_weight = \"balanced\")"
   ]
  },
  {
   "cell_type": "code",
   "execution_count": 41,
   "metadata": {},
   "outputs": [],
   "source": [
    "from sklearn.model_selection import train_test_split\n",
    "\n",
    "X_train, X_test, y_train, y_test = train_test_split(X, y, test_size=0.30,\\\n",
    "                        random_state = 0)"
   ]
  },
  {
   "cell_type": "code",
   "execution_count": 42,
   "metadata": {},
   "outputs": [],
   "source": [
    "grid = {\"C\": np.logspace(-4, 4, 20), \"penalty\": [\"l1\",\"l2\"]}"
   ]
  },
  {
   "cell_type": "code",
   "execution_count": 43,
   "metadata": {},
   "outputs": [],
   "source": [
    "lgt_cv = GridSearchCV(lgt, grid, cv = 10)"
   ]
  },
  {
   "cell_type": "code",
   "execution_count": 44,
   "metadata": {},
   "outputs": [
    {
     "data": {
      "text/plain": [
       "GridSearchCV(cv=10, error_score=nan,\n",
       "             estimator=LogisticRegression(C=1.0,\n",
       "                                          class_weight={0: 0.55, 1: 5.35},\n",
       "                                          dual=False, fit_intercept=True,\n",
       "                                          intercept_scaling=1, l1_ratio=None,\n",
       "                                          max_iter=1000, multi_class='auto',\n",
       "                                          n_jobs=None, penalty='l1',\n",
       "                                          random_state=None, solver='liblinear',\n",
       "                                          tol=0.0001, verbose=0,\n",
       "                                          warm_start=False),\n",
       "             iid='deprecated', n_jobs=None,\n",
       "             param_grid={'C': array([1...3,\n",
       "       4.83293024e-03, 1.27427499e-02, 3.35981829e-02, 8.85866790e-02,\n",
       "       2.33572147e-01, 6.15848211e-01, 1.62377674e+00, 4.28133240e+00,\n",
       "       1.12883789e+01, 2.97635144e+01, 7.84759970e+01, 2.06913808e+02,\n",
       "       5.45559478e+02, 1.43844989e+03, 3.79269019e+03, 1.00000000e+04]),\n",
       "                         'penalty': ['l1', 'l2']},\n",
       "             pre_dispatch='2*n_jobs', refit=True, return_train_score=False,\n",
       "             scoring=None, verbose=0)"
      ]
     },
     "execution_count": 44,
     "metadata": {},
     "output_type": "execute_result"
    }
   ],
   "source": [
    "lgt_cv.fit(X_train, y_train)"
   ]
  },
  {
   "cell_type": "code",
   "execution_count": 45,
   "metadata": {},
   "outputs": [
    {
     "name": "stdout",
     "output_type": "stream",
     "text": [
      "The best parameters after grid search:  {'C': 3792.690190732246, 'penalty': 'l2'}\n",
      "The corresponding accucary is  0.895\n"
     ]
    }
   ],
   "source": [
    "print(\"The best parameters after grid search: \", lgt_cv.best_params_)\n",
    "\n",
    "print(\"The corresponding accucary is \", lgt_cv.best_score_.round(3))"
   ]
  },
  {
   "cell_type": "code",
   "execution_count": 46,
   "metadata": {},
   "outputs": [],
   "source": [
    "lgt2 = LogisticRegression(C = 3792.69, penalty = \"l2\",max_iter = 1000,\n",
    "                         solver = 'liblinear', \\\n",
    "                         class_weight = weights)"
   ]
  },
  {
   "cell_type": "code",
   "execution_count": 47,
   "metadata": {},
   "outputs": [
    {
     "data": {
      "text/plain": [
       "LogisticRegression(C=3792.69, class_weight={0: 0.55, 1: 5.35}, dual=False,\n",
       "                   fit_intercept=True, intercept_scaling=1, l1_ratio=None,\n",
       "                   max_iter=1000, multi_class='auto', n_jobs=None, penalty='l2',\n",
       "                   random_state=None, solver='liblinear', tol=0.0001, verbose=0,\n",
       "                   warm_start=False)"
      ]
     },
     "execution_count": 47,
     "metadata": {},
     "output_type": "execute_result"
    }
   ],
   "source": [
    "lgt2.fit(X_train, y_train)"
   ]
  },
  {
   "cell_type": "code",
   "execution_count": 48,
   "metadata": {},
   "outputs": [
    {
     "name": "stdout",
     "output_type": "stream",
     "text": [
      "The score after grid search:  0.892\n"
     ]
    }
   ],
   "source": [
    "print(\"The score after grid search: \", lgt2.score(X_test,y_test).round(3))"
   ]
  },
  {
   "cell_type": "code",
   "execution_count": 49,
   "metadata": {},
   "outputs": [],
   "source": [
    "#from sklearn.model_selection import train_test_split\n",
    "\n",
    "#X_train, X_test, y_train, y_test = train_test_split(X_el, y_el, test_size=0.20,\\\n",
    "#                        random_state = 0)"
   ]
  },
  {
   "cell_type": "code",
   "execution_count": 50,
   "metadata": {},
   "outputs": [],
   "source": [
    "#lgt.set_params(C = 0.1) "
   ]
  },
  {
   "cell_type": "code",
   "execution_count": 51,
   "metadata": {},
   "outputs": [
    {
     "data": {
      "text/plain": [
       "LogisticRegression(C=1.0, class_weight={0: 0.55, 1: 5.35}, dual=False,\n",
       "                   fit_intercept=True, intercept_scaling=1, l1_ratio=None,\n",
       "                   max_iter=1000, multi_class='auto', n_jobs=None, penalty='l1',\n",
       "                   random_state=None, solver='liblinear', tol=0.0001, verbose=0,\n",
       "                   warm_start=False)"
      ]
     },
     "execution_count": 51,
     "metadata": {},
     "output_type": "execute_result"
    }
   ],
   "source": [
    "lgt.fit(X_train, y_train)"
   ]
  },
  {
   "cell_type": "code",
   "execution_count": 52,
   "metadata": {},
   "outputs": [
    {
     "data": {
      "text/plain": [
       "StandardScaler(copy=True, with_mean=True, with_std=True)"
      ]
     },
     "execution_count": 52,
     "metadata": {},
     "output_type": "execute_result"
    }
   ],
   "source": [
    "from sklearn.feature_selection import SelectFromModel\n",
    "from sklearn.preprocessing import StandardScaler\n",
    "scaler = StandardScaler()\n",
    "scaler.fit(X_train)"
   ]
  },
  {
   "cell_type": "code",
   "execution_count": 53,
   "metadata": {},
   "outputs": [
    {
     "data": {
      "text/plain": [
       "SelectFromModel(estimator=LogisticRegression(C=3792.69,\n",
       "                                             class_weight={0: 0.55, 1: 5.35},\n",
       "                                             dual=False, fit_intercept=True,\n",
       "                                             intercept_scaling=1, l1_ratio=None,\n",
       "                                             max_iter=1000, multi_class='auto',\n",
       "                                             n_jobs=None, penalty='l2',\n",
       "                                             random_state=None,\n",
       "                                             solver='liblinear', tol=0.0001,\n",
       "                                             verbose=0, warm_start=False),\n",
       "                max_features=None, norm_order=1, prefit=False, threshold=None)"
      ]
     },
     "execution_count": 53,
     "metadata": {},
     "output_type": "execute_result"
    }
   ],
   "source": [
    "sel_ = SelectFromModel(lgt2)\n",
    "sel_.fit(scaler.transform(X_train), y_train)"
   ]
  },
  {
   "cell_type": "code",
   "execution_count": 54,
   "metadata": {},
   "outputs": [
    {
     "data": {
      "text/plain": [
       "array([ True,  True, False, False, False, False, False, False, False,\n",
       "        True,  True, False, False, False, False, False,  True, False,\n",
       "       False, False,  True,  True, False,  True, False, False, False,\n",
       "        True,  True, False,  True, False, False, False,  True, False,\n",
       "       False, False, False, False, False, False, False, False, False,\n",
       "       False, False, False, False, False, False, False, False, False,\n",
       "       False])"
      ]
     },
     "execution_count": 54,
     "metadata": {},
     "output_type": "execute_result"
    }
   ],
   "source": [
    "sel_.get_support()"
   ]
  },
  {
   "cell_type": "code",
   "execution_count": 55,
   "metadata": {},
   "outputs": [
    {
     "data": {
      "text/plain": [
       "Index(['DurationMedianIP', 'DurationMeanIP', 'NumPtsIP', 'NumPtsOP',\n",
       "       'DupClaimNum_IP', 'DupClaimStartDtNum_IP', 'DupClaimNum_OP',\n",
       "       'DupClaimStatesNum_OP', 'NumOfPt', 'NumOfClm', 'TotalRev', 'ClmNoProc'],\n",
       "      dtype='object')"
      ]
     },
     "execution_count": 55,
     "metadata": {},
     "output_type": "execute_result"
    }
   ],
   "source": [
    "X_train.columns[sel_.get_support()]"
   ]
  },
  {
   "cell_type": "code",
   "execution_count": 56,
   "metadata": {},
   "outputs": [
    {
     "data": {
      "text/plain": [
       "Index(['DurationMedianIP', 'DurationMeanIP', 'NumPtsIP', 'NumPtsOP',\n",
       "       'DupClaimNum_IP', 'DupClaimStartDtNum_IP', 'DupClaimNum_OP',\n",
       "       'DupClaimStatesNum_OP', 'NumOfPt', 'NumOfClm', 'TotalRev', 'ClmNoProc'],\n",
       "      dtype='object')"
      ]
     },
     "execution_count": 56,
     "metadata": {},
     "output_type": "execute_result"
    }
   ],
   "source": [
    "selected_features = X_train.columns[(sel_.get_support())]\n",
    "selected_features"
   ]
  },
  {
   "cell_type": "code",
   "execution_count": 57,
   "metadata": {},
   "outputs": [
    {
     "name": "stdout",
     "output_type": "stream",
     "text": [
      "Total number of features: 55\n",
      "Features selected by Lasso: 12\n",
      "Features with coefficients shrank to zero: 0\n"
     ]
    }
   ],
   "source": [
    "print('Total number of features: {}'.format((X_train.shape[1])))\n",
    "print('Features selected by Lasso: {}'.format(len(selected_features)))\n",
    "print('Features with coefficients shrank to zero: {}'.format(\n",
    "      np.sum(sel_.estimator_.coef_ == 0)))"
   ]
  },
  {
   "cell_type": "code",
   "execution_count": 58,
   "metadata": {},
   "outputs": [
    {
     "name": "stdout",
     "output_type": "stream",
     "text": [
      "0.8927911275415896\n"
     ]
    }
   ],
   "source": [
    "#the score here is accuracy (number of correct guesses divided by the total guesses)\n",
    "print(lgt.score(X_train, y_train))"
   ]
  },
  {
   "cell_type": "code",
   "execution_count": 59,
   "metadata": {},
   "outputs": [],
   "source": [
    "pr = lgt2.predict(X_test)"
   ]
  },
  {
   "cell_type": "code",
   "execution_count": 60,
   "metadata": {},
   "outputs": [
    {
     "data": {
      "text/plain": [
       "array([[0.48237406, 0.51762594],\n",
       "       [0.88648443, 0.11351557],\n",
       "       [0.6445476 , 0.3554524 ],\n",
       "       ...,\n",
       "       [0.86788936, 0.13211064],\n",
       "       [0.85400315, 0.14599685],\n",
       "       [0.08606787, 0.91393213]])"
      ]
     },
     "execution_count": 60,
     "metadata": {},
     "output_type": "execute_result"
    }
   ],
   "source": [
    "#more important than just predict\n",
    "\n",
    "lgt2.predict_proba(X_test)"
   ]
  },
  {
   "cell_type": "code",
   "execution_count": 61,
   "metadata": {},
   "outputs": [],
   "source": [
    "from sklearn.metrics import confusion_matrix"
   ]
  },
  {
   "cell_type": "code",
   "execution_count": 62,
   "metadata": {},
   "outputs": [
    {
     "data": {
      "text/plain": [
       "array([[1336,   37],\n",
       "       [ 138,  112]])"
      ]
     },
     "execution_count": 62,
     "metadata": {},
     "output_type": "execute_result"
    }
   ],
   "source": [
    "confusion_matrix(lgt2.predict(X_test),y_test)"
   ]
  },
  {
   "cell_type": "code",
   "execution_count": 63,
   "metadata": {},
   "outputs": [],
   "source": [
    "cm = metrics.confusion_matrix(pr, y_test)"
   ]
  },
  {
   "cell_type": "code",
   "execution_count": 64,
   "metadata": {},
   "outputs": [
    {
     "name": "stdout",
     "output_type": "stream",
     "text": [
      "[[1336   37]\n",
      " [ 138  112]]\n"
     ]
    }
   ],
   "source": [
    "print(cm)"
   ]
  },
  {
   "cell_type": "markdown",
   "metadata": {},
   "source": [
    "## Evaluationi Metrics Analysis"
   ]
  },
  {
   "cell_type": "code",
   "execution_count": 65,
   "metadata": {},
   "outputs": [],
   "source": [
    "precision = cm[0,0]*100/(cm[0,0]+ cm[1,0])\n",
    "sensitivity = cm[0,0]*100/(cm[0,0]+ cm[0,1])\n",
    "\n",
    "specificity = cm[1,1]*100/(cm[1,1]+ cm[1,0])\n",
    "recall = cm[0,0]*100/(cm[0,0]+ cm[0,1])"
   ]
  },
  {
   "cell_type": "markdown",
   "metadata": {},
   "source": [
    "Geometric mean if both classes are important and more than 80 percent\n",
    "in the majority class"
   ]
  },
  {
   "cell_type": "code",
   "execution_count": 66,
   "metadata": {},
   "outputs": [],
   "source": [
    "g_mean = np.sqrt(sensitivity * specificity)"
   ]
  },
  {
   "cell_type": "markdown",
   "metadata": {},
   "source": [
    "F0.5-Measure is used if False Positives are more important than False\n",
    "Negatives"
   ]
  },
  {
   "cell_type": "code",
   "execution_count": 67,
   "metadata": {},
   "outputs": [],
   "source": [
    "f_half_measure = (0.5*precision * recall)/(precision + recall)"
   ]
  },
  {
   "cell_type": "markdown",
   "metadata": {},
   "source": [
    "F1-Measure is used if both False Positives and False\n",
    "Negatives are equally important"
   ]
  },
  {
   "cell_type": "code",
   "execution_count": 68,
   "metadata": {},
   "outputs": [],
   "source": [
    "f_one_measure = (precision * recall)/(precision + recall)"
   ]
  },
  {
   "cell_type": "markdown",
   "metadata": {},
   "source": [
    "F2-Measure is used if False Negatives are more important than False\n",
    "Positives"
   ]
  },
  {
   "cell_type": "code",
   "execution_count": 69,
   "metadata": {},
   "outputs": [],
   "source": [
    "f_two_measure = (2*precision * recall)/(precision + recall)"
   ]
  },
  {
   "cell_type": "code",
   "execution_count": 70,
   "metadata": {},
   "outputs": [],
   "source": [
    "accuracy = metrics.accuracy_score(y_test, pr)\n",
    "accuracy_prct = 100 * accuracy"
   ]
  },
  {
   "cell_type": "code",
   "execution_count": 71,
   "metadata": {},
   "outputs": [
    {
     "name": "stdout",
     "output_type": "stream",
     "text": [
      "Precision is  90.638\n",
      "Recall (Sensitivity) is  97.305\n",
      "Specificity is  44.8\n",
      "Accuracy is  89.217\n"
     ]
    }
   ],
   "source": [
    "print(\"Precision is \", precision.round(3))\n",
    "print(\"Recall (Sensitivity) is \", recall.round(3))\n",
    "print(\"Specificity is \", specificity.round(3))\n",
    "print(\"Accuracy is \", accuracy_prct.round(3))"
   ]
  },
  {
   "cell_type": "code",
   "execution_count": 72,
   "metadata": {},
   "outputs": [
    {
     "name": "stdout",
     "output_type": "stream",
     "text": [
      "G-mean is  66.025\n",
      "F0.5-Measure is  23.463\n",
      "F1-Measure is  46.927\n",
      "F2-Measure is  93.853\n"
     ]
    }
   ],
   "source": [
    "print(\"G-mean is \", g_mean.round(3))\n",
    "print(\"F0.5-Measure is \", f_half_measure.round(3))\n",
    "print(\"F1-Measure is \", f_one_measure.round(3))\n",
    "print(\"F2-Measure is \", f_two_measure.round(3))"
   ]
  },
  {
   "cell_type": "code",
   "execution_count": 73,
   "metadata": {},
   "outputs": [],
   "source": [
    "#X_el.head()"
   ]
  },
  {
   "cell_type": "code",
   "execution_count": 74,
   "metadata": {},
   "outputs": [],
   "source": [
    "#y_el.head()"
   ]
  },
  {
   "cell_type": "code",
   "execution_count": 75,
   "metadata": {},
   "outputs": [
    {
     "data": {
      "text/plain": [
       "0    4904\n",
       "1     506\n",
       "Name: PotentialFraud, dtype: int64"
      ]
     },
     "execution_count": 75,
     "metadata": {},
     "output_type": "execute_result"
    }
   ],
   "source": [
    "y.value_counts()"
   ]
  },
  {
   "cell_type": "code",
   "execution_count": 76,
   "metadata": {},
   "outputs": [
    {
     "data": {
      "text/plain": [
       "array([0, 1])"
      ]
     },
     "execution_count": 76,
     "metadata": {},
     "output_type": "execute_result"
    }
   ],
   "source": [
    "lgt2.classes_"
   ]
  },
  {
   "cell_type": "code",
   "execution_count": 77,
   "metadata": {},
   "outputs": [
    {
     "name": "stdout",
     "output_type": "stream",
     "text": [
      "[-0.00031452]\n"
     ]
    }
   ],
   "source": [
    "print(lgt2.intercept_)"
   ]
  },
  {
   "cell_type": "code",
   "execution_count": 78,
   "metadata": {},
   "outputs": [
    {
     "name": "stdout",
     "output_type": "stream",
     "text": [
      "[[ 1.99837123e-03  5.90355773e-03 -1.85560788e-04 -9.03209989e-05\n",
      "  -2.36226764e-03 -2.39967910e-03 -2.36887017e-03 -2.05077131e-02\n",
      "  -2.14864457e-02 -2.47647662e-03 -2.64285305e-03  7.56229565e-04\n",
      "   6.40289770e-04 -1.97996535e-04 -5.25613907e-05 -1.14679592e-04\n",
      "   9.99822171e-05  3.00146885e-05  9.69197004e-05  1.36662643e-04\n",
      "  -4.32687643e-05  2.17936071e-03 -9.24899150e-05 -1.28492052e-03\n",
      "   1.01407236e-04  2.33766484e-03  3.38505682e-04 -5.94282373e-03\n",
      "   1.91312938e-03 -7.77648821e-05  1.03345518e-05  1.99555593e-04\n",
      "   2.09478934e-05  1.60609249e-04  2.28754501e-03 -3.00804462e-04\n",
      "   7.42067034e-04 -1.31269894e-04 -9.25312777e-04 -5.23819075e-04\n",
      "   2.09303438e-04 -4.80654481e-04  1.66138843e-04 -4.94445541e-04\n",
      "   1.79929903e-04 -4.94445541e-04  1.79929903e-04 -1.77076603e-04\n",
      "  -1.37439034e-04 -1.77747241e-04 -1.36768397e-04 -1.77076603e-04\n",
      "  -1.37439034e-04 -1.77076603e-04 -1.37439034e-04]]\n"
     ]
    }
   ],
   "source": [
    "print(lgt2.coef_)"
   ]
  },
  {
   "cell_type": "markdown",
   "metadata": {},
   "source": [
    "## Stochastic Gradient Descent"
   ]
  },
  {
   "cell_type": "code",
   "execution_count": 79,
   "metadata": {},
   "outputs": [],
   "source": [
    "from sklearn.linear_model import SGDClassifier"
   ]
  },
  {
   "cell_type": "code",
   "execution_count": 80,
   "metadata": {},
   "outputs": [],
   "source": [
    "sg = SGDClassifier(loss = 'log', max_iter = 1e4, l1_ratio = 1, \\\n",
    "                  alpha= 1e-4, shuffle = False)"
   ]
  },
  {
   "cell_type": "code",
   "execution_count": 81,
   "metadata": {},
   "outputs": [
    {
     "data": {
      "text/plain": [
       "SGDClassifier(alpha=0.0001, average=False, class_weight=None,\n",
       "              early_stopping=False, epsilon=0.1, eta0=0.0, fit_intercept=True,\n",
       "              l1_ratio=1, learning_rate='optimal', loss='log', max_iter=10000.0,\n",
       "              n_iter_no_change=5, n_jobs=None, penalty='l2', power_t=0.5,\n",
       "              random_state=None, shuffle=False, tol=0.001,\n",
       "              validation_fraction=0.1, verbose=0, warm_start=False)"
      ]
     },
     "execution_count": 81,
     "metadata": {},
     "output_type": "execute_result"
    }
   ],
   "source": [
    "sg.fit(X_train,y_train)"
   ]
  },
  {
   "cell_type": "code",
   "execution_count": 82,
   "metadata": {},
   "outputs": [
    {
     "data": {
      "text/plain": [
       "0.8315289147082123"
      ]
     },
     "execution_count": 82,
     "metadata": {},
     "output_type": "execute_result"
    }
   ],
   "source": [
    "sg.score(X_train,y_train)"
   ]
  },
  {
   "cell_type": "code",
   "execution_count": 83,
   "metadata": {},
   "outputs": [
    {
     "data": {
      "text/plain": [
       "SGDClassifier(alpha=0.0001, average=False, class_weight=None,\n",
       "              early_stopping=False, epsilon=0.1, eta0=0.0, fit_intercept=True,\n",
       "              l1_ratio=1, learning_rate='optimal', loss='log', max_iter=10000.0,\n",
       "              n_iter_no_change=5, n_jobs=None, penalty='l2', power_t=0.5,\n",
       "              random_state=None, shuffle=False, tol=0.001,\n",
       "              validation_fraction=0.1, verbose=0, warm_start=False)"
      ]
     },
     "execution_count": 83,
     "metadata": {},
     "output_type": "execute_result"
    }
   ],
   "source": [
    "sg.fit(X_test,y_test)"
   ]
  },
  {
   "cell_type": "code",
   "execution_count": 84,
   "metadata": {},
   "outputs": [
    {
     "data": {
      "text/plain": [
       "0.9254467036352434"
      ]
     },
     "execution_count": 84,
     "metadata": {},
     "output_type": "execute_result"
    }
   ],
   "source": [
    "sg.score(X_test, y_test)"
   ]
  },
  {
   "cell_type": "code",
   "execution_count": 85,
   "metadata": {},
   "outputs": [
    {
     "data": {
      "text/plain": [
       "SGDClassifier(alpha=0.0001, average=False, class_weight=None,\n",
       "              early_stopping=False, epsilon=0.1, eta0=0.0, fit_intercept=True,\n",
       "              l1_ratio=1, learning_rate='optimal', loss='log', max_iter=10000.0,\n",
       "              n_iter_no_change=5, n_jobs=None, penalty='l2', power_t=0.5,\n",
       "              random_state=None, shuffle=True, tol=0.001,\n",
       "              validation_fraction=0.1, verbose=0, warm_start=False)"
      ]
     },
     "execution_count": 85,
     "metadata": {},
     "output_type": "execute_result"
    }
   ],
   "source": [
    "np.random.seed(0)\n",
    "sg.set_params(shuffle = True)"
   ]
  },
  {
   "cell_type": "code",
   "execution_count": 86,
   "metadata": {},
   "outputs": [
    {
     "data": {
      "text/plain": [
       "Text(0, 0.5, 'accuracy score')"
      ]
     },
     "execution_count": 86,
     "metadata": {},
     "output_type": "execute_result"
    },
    {
     "data": {
      "image/png": "[encoded data removed]",
      "text/plain": [
       "<Figure size 432x288 with 1 Axes>"
      ]
     },
     "metadata": {},
     "output_type": "display_data"
    }
   ],
   "source": [
    "scores_binary = []\n",
    "for i in range(10):\n",
    "    sg.fit(X_train, y_train)\n",
    "    scores_binary.append(sg.score(X_train, y_train))\n",
    "\n",
    "plt.plot(range(10), scores_binary) \n",
    "plt.xlabel('number of iterations')\n",
    "plt.ylabel('accuracy score')"
   ]
  },
  {
   "cell_type": "code",
   "execution_count": 87,
   "metadata": {},
   "outputs": [
    {
     "data": {
      "text/plain": [
       "Text(0, 0.5, 'accuracy score')"
      ]
     },
     "execution_count": 87,
     "metadata": {},
     "output_type": "execute_result"
    },
    {
     "data": {
      "image/png": "[encoded data removed]",
      "text/plain": [
       "<Figure size 432x288 with 1 Axes>"
      ]
     },
     "metadata": {},
     "output_type": "display_data"
    }
   ],
   "source": [
    "scores_PClass = []\n",
    "for i in range(10):\n",
    "    sg.fit(X_test,y_test)\n",
    "    scores_PClass.append(sg.score(X_test,y_test))\n",
    "\n",
    "plt.plot(range(10), scores_PClass)\n",
    "plt.xlabel('number of iterations')\n",
    "plt.ylabel('accuracy score')"
   ]
  }
 ],
 "metadata": {
  "kernelspec": {
   "display_name": "Python 3",
   "language": "python",
   "name": "python3"
  },
  "language_info": {
   "codemirror_mode": {
    "name": "ipython",
    "version": 3
   },
   "file_extension": ".py",
   "mimetype": "text/x-python",
   "name": "python",
   "nbconvert_exporter": "python",
   "pygments_lexer": "ipython3",
   "version": "3.7.7"
  }
 },
 "nbformat": 4,
 "nbformat_minor": 4
}
