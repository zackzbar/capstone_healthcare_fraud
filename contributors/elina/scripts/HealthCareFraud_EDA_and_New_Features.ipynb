{
 "cells": [
  {
   "cell_type": "markdown",
   "metadata": {},
   "source": [
    "# Health Care Fraud Detection "
   ]
  },
  {
   "cell_type": "markdown",
   "metadata": {},
   "source": [
    "## Part I. Exploratory Data Analysis "
   ]
  },
  {
   "cell_type": "code",
   "execution_count": 1,
   "metadata": {},
   "outputs": [],
   "source": [
    "from __future__ import print_function\n",
    "\n",
    "import numpy as np\n",
    "import pandas as pd\n",
    "\n",
    "from datetime import datetime\n",
    "\n",
    "import networkx as nx\n",
    "\n",
    "import matplotlib.pyplot as plt\n",
    "%matplotlib inline\n",
    "plt.style.use('ggplot')\n",
    "\n",
    "import seaborn as sns\n"
   ]
  },
  {
   "cell_type": "code",
   "execution_count": 2,
   "metadata": {},
   "outputs": [],
   "source": [
    "#df_ip = pd.read_pickle(\"./df_ip.pkl\")\n",
    "#df_op = pd.read_pickle(\"./df_op.pkl\")"
   ]
  },
  {
   "cell_type": "code",
   "execution_count": 3,
   "metadata": {},
   "outputs": [],
   "source": [
    "df_ip = pd.read_csv('../../../raw_data/Train_Inpatientdata-1542865627584.csv')\n",
    "\n",
    "df_op = pd.read_csv('../../../raw_data/Train_Outpatientdata-1542865627584.csv')\n",
    "\n",
    "df_p = pd.read_csv('../../../raw_data/Train_Beneficiarydata-1542865627584.csv')\n",
    "\n",
    "flags = pd.read_csv('../../../raw_data/Train-1542865627584.csv')\n"
   ]
  },
  {
   "cell_type": "code",
   "execution_count": 113,
   "metadata": {},
   "outputs": [
    {
     "data": {
      "text/plain": [
       "100       52943\n",
       "10        42461\n",
       "200       41594\n",
       "60        40762\n",
       "30        33919\n",
       "          ...  \n",
       "1110          1\n",
       "8020          1\n",
       "101250        1\n",
       "5040          1\n",
       "9600          1\n",
       "Name: InscClaimAmtReimbursed, Length: 342, dtype: int64"
      ]
     },
     "execution_count": 113,
     "metadata": {},
     "output_type": "execute_result"
    }
   ],
   "source": [
    "df_op['InscClaimAmtReimbursed'].value_counts()"
   ]
  },
  {
   "cell_type": "code",
   "execution_count": 4,
   "metadata": {},
   "outputs": [],
   "source": [
    "df_ip_test = pd.read_csv('Test_Inpatientdata-1542969243754.csv')\n",
    "\n",
    "df_op_test = pd.read_csv('Test_Outpatientdata-1542969243754.csv')\n",
    "\n",
    "df_p_test = pd.read_csv('Test_Beneficiarydata-1542969243754.csv')\n",
    "\n",
    "test = pd.read_csv('Test-1542969243754.csv')"
   ]
  },
  {
   "cell_type": "code",
   "execution_count": 5,
   "metadata": {},
   "outputs": [],
   "source": [
    "fmt = '%Y-%m-%d'\n",
    "\n",
    "df_ip['ClaimStartDt'] = pd.to_datetime(df_ip['ClaimStartDt'], format = '%Y-%m-%d')\n",
    "df_ip['ClaimEndDt'] = pd.to_datetime(df_ip['ClaimEndDt'], format = '%Y-%m-%d')\n",
    "\n",
    "df_op['ClaimStartDt'] = pd.to_datetime(df_op['ClaimStartDt'], format = '%Y-%m-%d')\n",
    "df_op['ClaimEndDt'] = pd.to_datetime(df_op['ClaimEndDt'], format = '%Y-%m-%d')"
   ]
  },
  {
   "cell_type": "code",
   "execution_count": 6,
   "metadata": {},
   "outputs": [],
   "source": [
    "df_ip['Duration'] = df_ip['ClaimEndDt'] - df_ip['ClaimStartDt']\n",
    "\n",
    "df_ip['Duration'] = df_ip['Duration']/np.timedelta64(1, 'D')"
   ]
  },
  {
   "cell_type": "code",
   "execution_count": 7,
   "metadata": {},
   "outputs": [],
   "source": [
    "df_op['Duration'] = df_op['ClaimEndDt'] - df_op['ClaimStartDt']\n",
    "\n",
    "df_op['Duration'] = df_op['Duration']/np.timedelta64(1, 'D')"
   ]
  },
  {
   "cell_type": "markdown",
   "metadata": {},
   "source": [
    "We create two dataframes - for inpatients and outpatient beneficiaries, with added flags for each provider. "
   ]
  },
  {
   "cell_type": "code",
   "execution_count": 8,
   "metadata": {},
   "outputs": [],
   "source": [
    "df_ip_flags = pd.merge(df_ip, flags, on = 'Provider')\n",
    "df_op_flags = pd.merge(df_op, flags, on = 'Provider')"
   ]
  },
  {
   "cell_type": "code",
   "execution_count": 122,
   "metadata": {},
   "outputs": [],
   "source": [
    "df_ip_providers = df_ip_flags.groupby('Provider')\n",
    "\n",
    "df_op_providers = df_op_flags.groupby('Provider')"
   ]
  },
  {
   "cell_type": "code",
   "execution_count": 123,
   "metadata": {},
   "outputs": [
    {
     "data": {
      "text/plain": [
       "2092"
      ]
     },
     "execution_count": 123,
     "metadata": {},
     "output_type": "execute_result"
    }
   ],
   "source": [
    "df_ip_flags['Provider'].nunique()"
   ]
  },
  {
   "cell_type": "code",
   "execution_count": 124,
   "metadata": {},
   "outputs": [
    {
     "data": {
      "text/plain": [
       "5012"
      ]
     },
     "execution_count": 124,
     "metadata": {},
     "output_type": "execute_result"
    }
   ],
   "source": [
    "df_op_flags['Provider'].nunique()"
   ]
  },
  {
   "cell_type": "code",
   "execution_count": 9,
   "metadata": {},
   "outputs": [],
   "source": [
    "df_ip_flags['ip_op'] = 1\n",
    "df_op_flags['ip_op'] = 0"
   ]
  },
  {
   "cell_type": "markdown",
   "metadata": {},
   "source": [
    "From each of these dataframes, we make two separate dataframes, each containing only providers with or without potential fraud flag, respectively."
   ]
  },
  {
   "cell_type": "code",
   "execution_count": 10,
   "metadata": {},
   "outputs": [],
   "source": [
    "df_ip_fraud = df_ip_flags[df_ip_flags['PotentialFraud'] == 'Yes']\n",
    "df_op_fraud = df_op_flags[df_op_flags['PotentialFraud'] == 'Yes']\n",
    "df_ip_nfraud = df_ip_flags[df_ip_flags['PotentialFraud'] == 'No']\n",
    "df_op_nfraud = df_op_flags[df_op_flags['PotentialFraud'] == 'No']"
   ]
  },
  {
   "cell_type": "code",
   "execution_count": 125,
   "metadata": {},
   "outputs": [
    {
     "data": {
      "text/plain": [
       "440"
      ]
     },
     "execution_count": 125,
     "metadata": {},
     "output_type": "execute_result"
    }
   ],
   "source": [
    "df_ip_fraud['Provider'].nunique()"
   ]
  },
  {
   "cell_type": "code",
   "execution_count": 126,
   "metadata": {},
   "outputs": [
    {
     "data": {
      "text/plain": [
       "1652"
      ]
     },
     "execution_count": 126,
     "metadata": {},
     "output_type": "execute_result"
    }
   ],
   "source": [
    "df_ip_nfraud['Provider'].nunique()"
   ]
  },
  {
   "cell_type": "code",
   "execution_count": 127,
   "metadata": {},
   "outputs": [
    {
     "data": {
      "text/plain": [
       "462"
      ]
     },
     "execution_count": 127,
     "metadata": {},
     "output_type": "execute_result"
    }
   ],
   "source": [
    "df_op_fraud['Provider'].nunique()"
   ]
  },
  {
   "cell_type": "code",
   "execution_count": 128,
   "metadata": {},
   "outputs": [
    {
     "data": {
      "text/plain": [
       "4550"
      ]
     },
     "execution_count": 128,
     "metadata": {},
     "output_type": "execute_result"
    }
   ],
   "source": [
    "df_op_nfraud['Provider'].nunique()"
   ]
  },
  {
   "cell_type": "code",
   "execution_count": 11,
   "metadata": {},
   "outputs": [],
   "source": [
    "df_flags = flags.copy()"
   ]
  },
  {
   "cell_type": "code",
   "execution_count": 12,
   "metadata": {},
   "outputs": [],
   "source": [
    "fraud = df_flags[df_flags['PotentialFraud'] == 'Yes']\n",
    "nfraud = df_flags[df_flags['PotentialFraud'] == 'No']"
   ]
  },
  {
   "cell_type": "code",
   "execution_count": 13,
   "metadata": {},
   "outputs": [
    {
     "data": {
      "text/plain": [
       "(506, 2)"
      ]
     },
     "execution_count": 13,
     "metadata": {},
     "output_type": "execute_result"
    }
   ],
   "source": [
    "fraud.shape"
   ]
  },
  {
   "cell_type": "code",
   "execution_count": 14,
   "metadata": {},
   "outputs": [
    {
     "data": {
      "text/plain": [
       "(4904, 2)"
      ]
     },
     "execution_count": 14,
     "metadata": {},
     "output_type": "execute_result"
    }
   ],
   "source": [
    "nfraud.shape"
   ]
  },
  {
   "cell_type": "code",
   "execution_count": 15,
   "metadata": {},
   "outputs": [],
   "source": [
    "df_fraud = pd.concat([df_ip_fraud, df_op_fraud])\n",
    "df_nfraud = pd.concat([df_ip_nfraud, df_op_nfraud])"
   ]
  },
  {
   "cell_type": "code",
   "execution_count": 16,
   "metadata": {},
   "outputs": [
    {
     "data": {
      "text/html": [
       "<div>\n",
       "<style scoped>\n",
       "    .dataframe tbody tr th:only-of-type {\n",
       "        vertical-align: middle;\n",
       "    }\n",
       "\n",
       "    .dataframe tbody tr th {\n",
       "        vertical-align: top;\n",
       "    }\n",
       "\n",
       "    .dataframe thead th {\n",
       "        text-align: right;\n",
       "    }\n",
       "</style>\n",
       "<table border=\"1\" class=\"dataframe\">\n",
       "  <thead>\n",
       "    <tr style=\"text-align: right;\">\n",
       "      <th></th>\n",
       "      <th>BeneID</th>\n",
       "      <th>ClaimID</th>\n",
       "      <th>ClaimStartDt</th>\n",
       "      <th>ClaimEndDt</th>\n",
       "      <th>Provider</th>\n",
       "      <th>InscClaimAmtReimbursed</th>\n",
       "      <th>AttendingPhysician</th>\n",
       "      <th>OperatingPhysician</th>\n",
       "      <th>OtherPhysician</th>\n",
       "      <th>AdmissionDt</th>\n",
       "      <th>...</th>\n",
       "      <th>ClmDiagnosisCode_10</th>\n",
       "      <th>ClmProcedureCode_1</th>\n",
       "      <th>ClmProcedureCode_2</th>\n",
       "      <th>ClmProcedureCode_3</th>\n",
       "      <th>ClmProcedureCode_4</th>\n",
       "      <th>ClmProcedureCode_5</th>\n",
       "      <th>ClmProcedureCode_6</th>\n",
       "      <th>Duration</th>\n",
       "      <th>PotentialFraud</th>\n",
       "      <th>ip_op</th>\n",
       "    </tr>\n",
       "  </thead>\n",
       "  <tbody>\n",
       "    <tr>\n",
       "      <th>0</th>\n",
       "      <td>BENE11001</td>\n",
       "      <td>CLM46614</td>\n",
       "      <td>2009-04-12</td>\n",
       "      <td>2009-04-18</td>\n",
       "      <td>PRV55912</td>\n",
       "      <td>26000</td>\n",
       "      <td>PHY390922</td>\n",
       "      <td>NaN</td>\n",
       "      <td>NaN</td>\n",
       "      <td>2009-04-12</td>\n",
       "      <td>...</td>\n",
       "      <td>NaN</td>\n",
       "      <td>NaN</td>\n",
       "      <td>NaN</td>\n",
       "      <td>NaN</td>\n",
       "      <td>NaN</td>\n",
       "      <td>NaN</td>\n",
       "      <td>NaN</td>\n",
       "      <td>6.0</td>\n",
       "      <td>Yes</td>\n",
       "      <td>1</td>\n",
       "    </tr>\n",
       "    <tr>\n",
       "      <th>1</th>\n",
       "      <td>BENE17521</td>\n",
       "      <td>CLM34721</td>\n",
       "      <td>2009-01-20</td>\n",
       "      <td>2009-02-01</td>\n",
       "      <td>PRV55912</td>\n",
       "      <td>19000</td>\n",
       "      <td>PHY349293</td>\n",
       "      <td>PHY370861</td>\n",
       "      <td>PHY363291</td>\n",
       "      <td>2009-01-20</td>\n",
       "      <td>...</td>\n",
       "      <td>NaN</td>\n",
       "      <td>7769.0</td>\n",
       "      <td>5849.0</td>\n",
       "      <td>NaN</td>\n",
       "      <td>NaN</td>\n",
       "      <td>NaN</td>\n",
       "      <td>NaN</td>\n",
       "      <td>12.0</td>\n",
       "      <td>Yes</td>\n",
       "      <td>1</td>\n",
       "    </tr>\n",
       "    <tr>\n",
       "      <th>2</th>\n",
       "      <td>BENE21718</td>\n",
       "      <td>CLM72336</td>\n",
       "      <td>2009-10-17</td>\n",
       "      <td>2009-11-04</td>\n",
       "      <td>PRV55912</td>\n",
       "      <td>17000</td>\n",
       "      <td>PHY334706</td>\n",
       "      <td>PHY334706</td>\n",
       "      <td>NaN</td>\n",
       "      <td>2009-10-17</td>\n",
       "      <td>...</td>\n",
       "      <td>NaN</td>\n",
       "      <td>9338.0</td>\n",
       "      <td>NaN</td>\n",
       "      <td>NaN</td>\n",
       "      <td>NaN</td>\n",
       "      <td>NaN</td>\n",
       "      <td>NaN</td>\n",
       "      <td>18.0</td>\n",
       "      <td>Yes</td>\n",
       "      <td>1</td>\n",
       "    </tr>\n",
       "    <tr>\n",
       "      <th>3</th>\n",
       "      <td>BENE22934</td>\n",
       "      <td>CLM73394</td>\n",
       "      <td>2009-10-25</td>\n",
       "      <td>2009-10-29</td>\n",
       "      <td>PRV55912</td>\n",
       "      <td>13000</td>\n",
       "      <td>PHY390614</td>\n",
       "      <td>PHY323689</td>\n",
       "      <td>PHY363291</td>\n",
       "      <td>2009-10-25</td>\n",
       "      <td>...</td>\n",
       "      <td>NaN</td>\n",
       "      <td>8154.0</td>\n",
       "      <td>NaN</td>\n",
       "      <td>NaN</td>\n",
       "      <td>NaN</td>\n",
       "      <td>NaN</td>\n",
       "      <td>NaN</td>\n",
       "      <td>4.0</td>\n",
       "      <td>Yes</td>\n",
       "      <td>1</td>\n",
       "    </tr>\n",
       "    <tr>\n",
       "      <th>4</th>\n",
       "      <td>BENE24402</td>\n",
       "      <td>CLM32911</td>\n",
       "      <td>2009-01-08</td>\n",
       "      <td>2009-01-12</td>\n",
       "      <td>PRV55912</td>\n",
       "      <td>3000</td>\n",
       "      <td>PHY380413</td>\n",
       "      <td>PHY432598</td>\n",
       "      <td>NaN</td>\n",
       "      <td>2009-01-08</td>\n",
       "      <td>...</td>\n",
       "      <td>NaN</td>\n",
       "      <td>8543.0</td>\n",
       "      <td>NaN</td>\n",
       "      <td>NaN</td>\n",
       "      <td>NaN</td>\n",
       "      <td>NaN</td>\n",
       "      <td>NaN</td>\n",
       "      <td>4.0</td>\n",
       "      <td>Yes</td>\n",
       "      <td>1</td>\n",
       "    </tr>\n",
       "  </tbody>\n",
       "</table>\n",
       "<p>5 rows × 33 columns</p>\n",
       "</div>"
      ],
      "text/plain": [
       "      BeneID   ClaimID ClaimStartDt ClaimEndDt  Provider  \\\n",
       "0  BENE11001  CLM46614   2009-04-12 2009-04-18  PRV55912   \n",
       "1  BENE17521  CLM34721   2009-01-20 2009-02-01  PRV55912   \n",
       "2  BENE21718  CLM72336   2009-10-17 2009-11-04  PRV55912   \n",
       "3  BENE22934  CLM73394   2009-10-25 2009-10-29  PRV55912   \n",
       "4  BENE24402  CLM32911   2009-01-08 2009-01-12  PRV55912   \n",
       "\n",
       "   InscClaimAmtReimbursed AttendingPhysician OperatingPhysician  \\\n",
       "0                   26000          PHY390922                NaN   \n",
       "1                   19000          PHY349293          PHY370861   \n",
       "2                   17000          PHY334706          PHY334706   \n",
       "3                   13000          PHY390614          PHY323689   \n",
       "4                    3000          PHY380413          PHY432598   \n",
       "\n",
       "  OtherPhysician AdmissionDt  ... ClmDiagnosisCode_10  ClmProcedureCode_1  \\\n",
       "0            NaN  2009-04-12  ...                 NaN                 NaN   \n",
       "1      PHY363291  2009-01-20  ...                 NaN              7769.0   \n",
       "2            NaN  2009-10-17  ...                 NaN              9338.0   \n",
       "3      PHY363291  2009-10-25  ...                 NaN              8154.0   \n",
       "4            NaN  2009-01-08  ...                 NaN              8543.0   \n",
       "\n",
       "  ClmProcedureCode_2 ClmProcedureCode_3 ClmProcedureCode_4 ClmProcedureCode_5  \\\n",
       "0                NaN                NaN                NaN                NaN   \n",
       "1             5849.0                NaN                NaN                NaN   \n",
       "2                NaN                NaN                NaN                NaN   \n",
       "3                NaN                NaN                NaN                NaN   \n",
       "4                NaN                NaN                NaN                NaN   \n",
       "\n",
       "  ClmProcedureCode_6 Duration PotentialFraud ip_op  \n",
       "0                NaN      6.0            Yes     1  \n",
       "1                NaN     12.0            Yes     1  \n",
       "2                NaN     18.0            Yes     1  \n",
       "3                NaN      4.0            Yes     1  \n",
       "4                NaN      4.0            Yes     1  \n",
       "\n",
       "[5 rows x 33 columns]"
      ]
     },
     "execution_count": 16,
     "metadata": {},
     "output_type": "execute_result"
    }
   ],
   "source": [
    "df_fraud.head()"
   ]
  },
  {
   "cell_type": "code",
   "execution_count": 17,
   "metadata": {},
   "outputs": [
    {
     "data": {
      "text/plain": [
       "506"
      ]
     },
     "execution_count": 17,
     "metadata": {},
     "output_type": "execute_result"
    }
   ],
   "source": [
    "df_fraud['Provider'].nunique()"
   ]
  },
  {
   "cell_type": "code",
   "execution_count": 18,
   "metadata": {},
   "outputs": [
    {
     "data": {
      "text/plain": [
       "4904"
      ]
     },
     "execution_count": 18,
     "metadata": {},
     "output_type": "execute_result"
    }
   ],
   "source": [
    "df_nfraud['Provider'].nunique()"
   ]
  },
  {
   "cell_type": "markdown",
   "metadata": {},
   "source": [
    "### Total Revenue"
   ]
  },
  {
   "cell_type": "code",
   "execution_count": 19,
   "metadata": {},
   "outputs": [],
   "source": [
    "df_fraud['TotalRev'] = df_fraud['InscClaimAmtReimbursed'] + df_fraud['DeductibleAmtPaid']\n",
    "\n",
    "\n",
    "df_nfraud['TotalRev'] = df_nfraud['InscClaimAmtReimbursed'] + df_nfraud['DeductibleAmtPaid']"
   ]
  },
  {
   "cell_type": "code",
   "execution_count": 100,
   "metadata": {},
   "outputs": [
    {
     "data": {
      "image/png": "[encoded data removed]",
      "text/plain": [
       "<Figure size 720x432 with 1 Axes>"
      ]
     },
     "metadata": {},
     "output_type": "display_data"
    }
   ],
   "source": [
    "fig = plt.figure(figsize=(10,6))\n",
    "plt.hist(fraud.TotalRev, facecolor = 'r', edgecolor = 'k')\n",
    "plt.xlabel('TotalRev')\n",
    "plt.title('TotalRev distribution, Fraud Providers')\n",
    "plt.show()"
   ]
  },
  {
   "cell_type": "code",
   "execution_count": 101,
   "metadata": {},
   "outputs": [
    {
     "data": {
      "image/png": "[encoded data removed]",
      "text/plain": [
       "<Figure size 720x432 with 1 Axes>"
      ]
     },
     "metadata": {},
     "output_type": "display_data"
    }
   ],
   "source": [
    "fig = plt.figure(figsize=(10,6))\n",
    "plt.hist(nfraud.TotalRev, facecolor = 'b', edgecolor = 'k')\n",
    "plt.xlabel('TotalRev')\n",
    "plt.title('TotalRev distribution, Fraud Providers')\n",
    "plt.show()"
   ]
  },
  {
   "cell_type": "markdown",
   "metadata": {},
   "source": [
    "### Average Duration of Claims "
   ]
  },
  {
   "cell_type": "code",
   "execution_count": 20,
   "metadata": {},
   "outputs": [],
   "source": [
    "AvgDur = df_fraud.groupby('Provider')['Duration'].mean()\n",
    "\n",
    "AvgDur = AvgDur.to_frame()\n",
    "\n",
    "fraud = pd.merge(fraud, AvgDur, on = 'Provider')"
   ]
  },
  {
   "cell_type": "code",
   "execution_count": 21,
   "metadata": {},
   "outputs": [
    {
     "data": {
      "text/html": [
       "<div>\n",
       "<style scoped>\n",
       "    .dataframe tbody tr th:only-of-type {\n",
       "        vertical-align: middle;\n",
       "    }\n",
       "\n",
       "    .dataframe tbody tr th {\n",
       "        vertical-align: top;\n",
       "    }\n",
       "\n",
       "    .dataframe thead th {\n",
       "        text-align: right;\n",
       "    }\n",
       "</style>\n",
       "<table border=\"1\" class=\"dataframe\">\n",
       "  <thead>\n",
       "    <tr style=\"text-align: right;\">\n",
       "      <th></th>\n",
       "      <th>Provider</th>\n",
       "      <th>PotentialFraud</th>\n",
       "      <th>Duration</th>\n",
       "    </tr>\n",
       "  </thead>\n",
       "  <tbody>\n",
       "    <tr>\n",
       "      <th>0</th>\n",
       "      <td>PRV51003</td>\n",
       "      <td>Yes</td>\n",
       "      <td>3.674242</td>\n",
       "    </tr>\n",
       "    <tr>\n",
       "      <th>1</th>\n",
       "      <td>PRV51005</td>\n",
       "      <td>Yes</td>\n",
       "      <td>1.088412</td>\n",
       "    </tr>\n",
       "    <tr>\n",
       "      <th>2</th>\n",
       "      <td>PRV51021</td>\n",
       "      <td>Yes</td>\n",
       "      <td>2.000000</td>\n",
       "    </tr>\n",
       "    <tr>\n",
       "      <th>3</th>\n",
       "      <td>PRV51037</td>\n",
       "      <td>Yes</td>\n",
       "      <td>1.533040</td>\n",
       "    </tr>\n",
       "    <tr>\n",
       "      <th>4</th>\n",
       "      <td>PRV51052</td>\n",
       "      <td>Yes</td>\n",
       "      <td>2.282609</td>\n",
       "    </tr>\n",
       "  </tbody>\n",
       "</table>\n",
       "</div>"
      ],
      "text/plain": [
       "   Provider PotentialFraud  Duration\n",
       "0  PRV51003            Yes  3.674242\n",
       "1  PRV51005            Yes  1.088412\n",
       "2  PRV51021            Yes  2.000000\n",
       "3  PRV51037            Yes  1.533040\n",
       "4  PRV51052            Yes  2.282609"
      ]
     },
     "execution_count": 21,
     "metadata": {},
     "output_type": "execute_result"
    }
   ],
   "source": [
    "fraud.head()"
   ]
  },
  {
   "cell_type": "code",
   "execution_count": 22,
   "metadata": {},
   "outputs": [],
   "source": [
    "AvgDur = df_nfraud.groupby('Provider')['Duration'].mean()\n",
    "\n",
    "AvgDur = AvgDur.to_frame()\n",
    "\n",
    "nfraud = pd.merge(nfraud, AvgDur, on = 'Provider')"
   ]
  },
  {
   "cell_type": "code",
   "execution_count": 23,
   "metadata": {},
   "outputs": [
    {
     "data": {
      "image/png": "[encoded data removed]",
      "text/plain": [
       "<Figure size 720x432 with 1 Axes>"
      ]
     },
     "metadata": {},
     "output_type": "display_data"
    }
   ],
   "source": [
    "fig = plt.figure(figsize=(10,6))\n",
    "plt.hist(fraud.Duration, facecolor = 'r', edgecolor = 'k')\n",
    "plt.xlabel('AvgDuration')\n",
    "plt.title('AvgDuration distribution, Fraud Providers')\n",
    "plt.show()"
   ]
  },
  {
   "cell_type": "code",
   "execution_count": 24,
   "metadata": {},
   "outputs": [
    {
     "data": {
      "image/png": "[encoded data removed]",
      "text/plain": [
       "<Figure size 720x432 with 1 Axes>"
      ]
     },
     "metadata": {},
     "output_type": "display_data"
    }
   ],
   "source": [
    "fig = plt.figure(figsize=(10,6))\n",
    "plt.hist(nfraud.Duration, facecolor = 'b', edgecolor = 'k')\n",
    "plt.xlabel('AvgDuration')\n",
    "plt.title('AvgDuration distribution, No Fraud Providers')\n",
    "plt.show()"
   ]
  },
  {
   "cell_type": "markdown",
   "metadata": {},
   "source": [
    "### Number of Claims per Patient"
   ]
  },
  {
   "cell_type": "markdown",
   "metadata": {},
   "source": [
    "The type of healthcare insurance fraud called 'unbundling' or 'fragmenting' could be detected if we analyse the number of claims per patient, for each provider. Fraudulent providers would increase their profits by billing the procedures separately (unbundling), thus creating a higher number of claims per patient. "
   ]
  },
  {
   "cell_type": "code",
   "execution_count": 25,
   "metadata": {},
   "outputs": [],
   "source": [
    "NumOfPt = df_fraud.groupby('Provider')['BeneID'].nunique()\n",
    "\n",
    "NumOfPt = NumOfPt.to_frame()\n",
    "\n",
    "fraud = pd.merge(fraud, NumOfPt, on = 'Provider')"
   ]
  },
  {
   "cell_type": "code",
   "execution_count": 26,
   "metadata": {},
   "outputs": [
    {
     "data": {
      "text/plain": [
       "Index(['Provider', 'PotentialFraud', 'Duration', 'BeneID'], dtype='object')"
      ]
     },
     "execution_count": 26,
     "metadata": {},
     "output_type": "execute_result"
    }
   ],
   "source": [
    "fraud.columns"
   ]
  },
  {
   "cell_type": "code",
   "execution_count": 27,
   "metadata": {},
   "outputs": [],
   "source": [
    "NumOfPt = df_nfraud.groupby('Provider')['BeneID'].nunique()\n",
    "\n",
    "NumOfPt = NumOfPt.to_frame()\n",
    "\n",
    "nfraud = pd.merge(nfraud, NumOfPt, on = 'Provider')"
   ]
  },
  {
   "cell_type": "code",
   "execution_count": 28,
   "metadata": {},
   "outputs": [],
   "source": [
    "NumOfClm = df_fraud.groupby('Provider')['ClaimID'].count()\n",
    "\n",
    "NumOfClm = NumOfClm.to_frame()\n",
    "\n",
    "fraud = pd.merge(fraud, NumOfClm, on = 'Provider')\n",
    "\n",
    "fraud.rename({'ClaimID': 'NumOfClm', 'BeneID': 'NumOfPt','Duration': 'AvgDuration'}, axis = 1,\\\n",
    "            inplace = True)"
   ]
  },
  {
   "cell_type": "code",
   "execution_count": 29,
   "metadata": {},
   "outputs": [],
   "source": [
    "NumOfClm = df_nfraud.groupby('Provider')['ClaimID'].count()\n",
    "\n",
    "NumOfClm = NumOfClm.to_frame()\n",
    "\n",
    "nfraud = pd.merge(nfraud, NumOfClm, on = 'Provider')\n",
    "\n",
    "nfraud.rename({'ClaimID': 'NumOfClm', 'BeneID': 'NumOfPt', 'Duration': 'AvgDuration'}, axis = 1,\\\n",
    "            inplace = True)"
   ]
  },
  {
   "cell_type": "code",
   "execution_count": 30,
   "metadata": {},
   "outputs": [
    {
     "data": {
      "text/plain": [
       "Index(['Provider', 'PotentialFraud', 'AvgDuration', 'NumOfPt', 'NumOfClm'], dtype='object')"
      ]
     },
     "execution_count": 30,
     "metadata": {},
     "output_type": "execute_result"
    }
   ],
   "source": [
    "nfraud.columns"
   ]
  },
  {
   "cell_type": "code",
   "execution_count": 31,
   "metadata": {},
   "outputs": [],
   "source": [
    "fraud['ClmPerPt'] = fraud['NumOfClm']/fraud['NumOfPt']"
   ]
  },
  {
   "cell_type": "code",
   "execution_count": 32,
   "metadata": {},
   "outputs": [],
   "source": [
    "nfraud['ClmPerPt'] = nfraud['NumOfClm']/nfraud['NumOfPt']"
   ]
  },
  {
   "cell_type": "code",
   "execution_count": 33,
   "metadata": {},
   "outputs": [
    {
     "data": {
      "text/html": [
       "<div>\n",
       "<style scoped>\n",
       "    .dataframe tbody tr th:only-of-type {\n",
       "        vertical-align: middle;\n",
       "    }\n",
       "\n",
       "    .dataframe tbody tr th {\n",
       "        vertical-align: top;\n",
       "    }\n",
       "\n",
       "    .dataframe thead th {\n",
       "        text-align: right;\n",
       "    }\n",
       "</style>\n",
       "<table border=\"1\" class=\"dataframe\">\n",
       "  <thead>\n",
       "    <tr style=\"text-align: right;\">\n",
       "      <th></th>\n",
       "      <th>Provider</th>\n",
       "      <th>PotentialFraud</th>\n",
       "      <th>AvgDuration</th>\n",
       "      <th>NumOfPt</th>\n",
       "      <th>NumOfClm</th>\n",
       "      <th>ClmPerPt</th>\n",
       "    </tr>\n",
       "  </thead>\n",
       "  <tbody>\n",
       "    <tr>\n",
       "      <th>0</th>\n",
       "      <td>PRV51003</td>\n",
       "      <td>Yes</td>\n",
       "      <td>3.674242</td>\n",
       "      <td>117</td>\n",
       "      <td>132</td>\n",
       "      <td>1.128205</td>\n",
       "    </tr>\n",
       "    <tr>\n",
       "      <th>1</th>\n",
       "      <td>PRV51005</td>\n",
       "      <td>Yes</td>\n",
       "      <td>1.088412</td>\n",
       "      <td>495</td>\n",
       "      <td>1165</td>\n",
       "      <td>2.353535</td>\n",
       "    </tr>\n",
       "    <tr>\n",
       "      <th>2</th>\n",
       "      <td>PRV51021</td>\n",
       "      <td>Yes</td>\n",
       "      <td>2.000000</td>\n",
       "      <td>208</td>\n",
       "      <td>257</td>\n",
       "      <td>1.235577</td>\n",
       "    </tr>\n",
       "    <tr>\n",
       "      <th>3</th>\n",
       "      <td>PRV51037</td>\n",
       "      <td>Yes</td>\n",
       "      <td>1.533040</td>\n",
       "      <td>206</td>\n",
       "      <td>454</td>\n",
       "      <td>2.203883</td>\n",
       "    </tr>\n",
       "    <tr>\n",
       "      <th>4</th>\n",
       "      <td>PRV51052</td>\n",
       "      <td>Yes</td>\n",
       "      <td>2.282609</td>\n",
       "      <td>37</td>\n",
       "      <td>46</td>\n",
       "      <td>1.243243</td>\n",
       "    </tr>\n",
       "  </tbody>\n",
       "</table>\n",
       "</div>"
      ],
      "text/plain": [
       "   Provider PotentialFraud  AvgDuration  NumOfPt  NumOfClm  ClmPerPt\n",
       "0  PRV51003            Yes     3.674242      117       132  1.128205\n",
       "1  PRV51005            Yes     1.088412      495      1165  2.353535\n",
       "2  PRV51021            Yes     2.000000      208       257  1.235577\n",
       "3  PRV51037            Yes     1.533040      206       454  2.203883\n",
       "4  PRV51052            Yes     2.282609       37        46  1.243243"
      ]
     },
     "execution_count": 33,
     "metadata": {},
     "output_type": "execute_result"
    }
   ],
   "source": [
    "fraud.head()"
   ]
  },
  {
   "cell_type": "code",
   "execution_count": 34,
   "metadata": {},
   "outputs": [
    {
     "data": {
      "text/html": [
       "<div>\n",
       "<style scoped>\n",
       "    .dataframe tbody tr th:only-of-type {\n",
       "        vertical-align: middle;\n",
       "    }\n",
       "\n",
       "    .dataframe tbody tr th {\n",
       "        vertical-align: top;\n",
       "    }\n",
       "\n",
       "    .dataframe thead th {\n",
       "        text-align: right;\n",
       "    }\n",
       "</style>\n",
       "<table border=\"1\" class=\"dataframe\">\n",
       "  <thead>\n",
       "    <tr style=\"text-align: right;\">\n",
       "      <th></th>\n",
       "      <th>Provider</th>\n",
       "      <th>PotentialFraud</th>\n",
       "      <th>AvgDuration</th>\n",
       "      <th>NumOfPt</th>\n",
       "      <th>NumOfClm</th>\n",
       "      <th>ClmPerPt</th>\n",
       "    </tr>\n",
       "  </thead>\n",
       "  <tbody>\n",
       "    <tr>\n",
       "      <th>0</th>\n",
       "      <td>PRV51001</td>\n",
       "      <td>No</td>\n",
       "      <td>1.440000</td>\n",
       "      <td>24</td>\n",
       "      <td>25</td>\n",
       "      <td>1.041667</td>\n",
       "    </tr>\n",
       "    <tr>\n",
       "      <th>1</th>\n",
       "      <td>PRV51004</td>\n",
       "      <td>No</td>\n",
       "      <td>1.429530</td>\n",
       "      <td>138</td>\n",
       "      <td>149</td>\n",
       "      <td>1.079710</td>\n",
       "    </tr>\n",
       "    <tr>\n",
       "      <th>2</th>\n",
       "      <td>PRV51007</td>\n",
       "      <td>No</td>\n",
       "      <td>0.958333</td>\n",
       "      <td>58</td>\n",
       "      <td>72</td>\n",
       "      <td>1.241379</td>\n",
       "    </tr>\n",
       "    <tr>\n",
       "      <th>3</th>\n",
       "      <td>PRV51008</td>\n",
       "      <td>No</td>\n",
       "      <td>1.534884</td>\n",
       "      <td>36</td>\n",
       "      <td>43</td>\n",
       "      <td>1.194444</td>\n",
       "    </tr>\n",
       "    <tr>\n",
       "      <th>4</th>\n",
       "      <td>PRV51011</td>\n",
       "      <td>No</td>\n",
       "      <td>0.551724</td>\n",
       "      <td>53</td>\n",
       "      <td>58</td>\n",
       "      <td>1.094340</td>\n",
       "    </tr>\n",
       "  </tbody>\n",
       "</table>\n",
       "</div>"
      ],
      "text/plain": [
       "   Provider PotentialFraud  AvgDuration  NumOfPt  NumOfClm  ClmPerPt\n",
       "0  PRV51001             No     1.440000       24        25  1.041667\n",
       "1  PRV51004             No     1.429530      138       149  1.079710\n",
       "2  PRV51007             No     0.958333       58        72  1.241379\n",
       "3  PRV51008             No     1.534884       36        43  1.194444\n",
       "4  PRV51011             No     0.551724       53        58  1.094340"
      ]
     },
     "execution_count": 34,
     "metadata": {},
     "output_type": "execute_result"
    }
   ],
   "source": [
    "nfraud.head()"
   ]
  },
  {
   "cell_type": "code",
   "execution_count": 35,
   "metadata": {},
   "outputs": [],
   "source": [
    "#fraud.rename({'Duration': 'AvgDuration', 'BeneID_y': 'NumOfPt'}, axis = 1,\\\n",
    "#            inplace = True)"
   ]
  },
  {
   "cell_type": "code",
   "execution_count": 36,
   "metadata": {},
   "outputs": [],
   "source": [
    "fraud['AvgDuration'] = fraud['AvgDuration'].round(2)\n",
    "fraud['ClmPerPt'] = fraud['ClmPerPt'].round(2)\n",
    "\n",
    "nfraud['AvgDuration'] = nfraud['AvgDuration'].round(2)\n",
    "nfraud['ClmPerPt'] = nfraud['ClmPerPt'].round(2)"
   ]
  },
  {
   "cell_type": "code",
   "execution_count": 37,
   "metadata": {},
   "outputs": [
    {
     "data": {
      "text/html": [
       "<div>\n",
       "<style scoped>\n",
       "    .dataframe tbody tr th:only-of-type {\n",
       "        vertical-align: middle;\n",
       "    }\n",
       "\n",
       "    .dataframe tbody tr th {\n",
       "        vertical-align: top;\n",
       "    }\n",
       "\n",
       "    .dataframe thead th {\n",
       "        text-align: right;\n",
       "    }\n",
       "</style>\n",
       "<table border=\"1\" class=\"dataframe\">\n",
       "  <thead>\n",
       "    <tr style=\"text-align: right;\">\n",
       "      <th></th>\n",
       "      <th>Provider</th>\n",
       "      <th>PotentialFraud</th>\n",
       "      <th>AvgDuration</th>\n",
       "      <th>NumOfPt</th>\n",
       "      <th>NumOfClm</th>\n",
       "      <th>ClmPerPt</th>\n",
       "    </tr>\n",
       "  </thead>\n",
       "  <tbody>\n",
       "    <tr>\n",
       "      <th>0</th>\n",
       "      <td>PRV51003</td>\n",
       "      <td>Yes</td>\n",
       "      <td>3.67</td>\n",
       "      <td>117</td>\n",
       "      <td>132</td>\n",
       "      <td>1.13</td>\n",
       "    </tr>\n",
       "    <tr>\n",
       "      <th>1</th>\n",
       "      <td>PRV51005</td>\n",
       "      <td>Yes</td>\n",
       "      <td>1.09</td>\n",
       "      <td>495</td>\n",
       "      <td>1165</td>\n",
       "      <td>2.35</td>\n",
       "    </tr>\n",
       "    <tr>\n",
       "      <th>2</th>\n",
       "      <td>PRV51021</td>\n",
       "      <td>Yes</td>\n",
       "      <td>2.00</td>\n",
       "      <td>208</td>\n",
       "      <td>257</td>\n",
       "      <td>1.24</td>\n",
       "    </tr>\n",
       "    <tr>\n",
       "      <th>3</th>\n",
       "      <td>PRV51037</td>\n",
       "      <td>Yes</td>\n",
       "      <td>1.53</td>\n",
       "      <td>206</td>\n",
       "      <td>454</td>\n",
       "      <td>2.20</td>\n",
       "    </tr>\n",
       "    <tr>\n",
       "      <th>4</th>\n",
       "      <td>PRV51052</td>\n",
       "      <td>Yes</td>\n",
       "      <td>2.28</td>\n",
       "      <td>37</td>\n",
       "      <td>46</td>\n",
       "      <td>1.24</td>\n",
       "    </tr>\n",
       "  </tbody>\n",
       "</table>\n",
       "</div>"
      ],
      "text/plain": [
       "   Provider PotentialFraud  AvgDuration  NumOfPt  NumOfClm  ClmPerPt\n",
       "0  PRV51003            Yes         3.67      117       132      1.13\n",
       "1  PRV51005            Yes         1.09      495      1165      2.35\n",
       "2  PRV51021            Yes         2.00      208       257      1.24\n",
       "3  PRV51037            Yes         1.53      206       454      2.20\n",
       "4  PRV51052            Yes         2.28       37        46      1.24"
      ]
     },
     "execution_count": 37,
     "metadata": {},
     "output_type": "execute_result"
    }
   ],
   "source": [
    "fraud.head()"
   ]
  },
  {
   "cell_type": "code",
   "execution_count": 38,
   "metadata": {},
   "outputs": [
    {
     "data": {
      "text/html": [
       "<div>\n",
       "<style scoped>\n",
       "    .dataframe tbody tr th:only-of-type {\n",
       "        vertical-align: middle;\n",
       "    }\n",
       "\n",
       "    .dataframe tbody tr th {\n",
       "        vertical-align: top;\n",
       "    }\n",
       "\n",
       "    .dataframe thead th {\n",
       "        text-align: right;\n",
       "    }\n",
       "</style>\n",
       "<table border=\"1\" class=\"dataframe\">\n",
       "  <thead>\n",
       "    <tr style=\"text-align: right;\">\n",
       "      <th></th>\n",
       "      <th>Provider</th>\n",
       "      <th>PotentialFraud</th>\n",
       "      <th>AvgDuration</th>\n",
       "      <th>NumOfPt</th>\n",
       "      <th>NumOfClm</th>\n",
       "      <th>ClmPerPt</th>\n",
       "    </tr>\n",
       "  </thead>\n",
       "  <tbody>\n",
       "    <tr>\n",
       "      <th>0</th>\n",
       "      <td>PRV51001</td>\n",
       "      <td>No</td>\n",
       "      <td>1.44</td>\n",
       "      <td>24</td>\n",
       "      <td>25</td>\n",
       "      <td>1.04</td>\n",
       "    </tr>\n",
       "    <tr>\n",
       "      <th>1</th>\n",
       "      <td>PRV51004</td>\n",
       "      <td>No</td>\n",
       "      <td>1.43</td>\n",
       "      <td>138</td>\n",
       "      <td>149</td>\n",
       "      <td>1.08</td>\n",
       "    </tr>\n",
       "    <tr>\n",
       "      <th>2</th>\n",
       "      <td>PRV51007</td>\n",
       "      <td>No</td>\n",
       "      <td>0.96</td>\n",
       "      <td>58</td>\n",
       "      <td>72</td>\n",
       "      <td>1.24</td>\n",
       "    </tr>\n",
       "    <tr>\n",
       "      <th>3</th>\n",
       "      <td>PRV51008</td>\n",
       "      <td>No</td>\n",
       "      <td>1.53</td>\n",
       "      <td>36</td>\n",
       "      <td>43</td>\n",
       "      <td>1.19</td>\n",
       "    </tr>\n",
       "    <tr>\n",
       "      <th>4</th>\n",
       "      <td>PRV51011</td>\n",
       "      <td>No</td>\n",
       "      <td>0.55</td>\n",
       "      <td>53</td>\n",
       "      <td>58</td>\n",
       "      <td>1.09</td>\n",
       "    </tr>\n",
       "  </tbody>\n",
       "</table>\n",
       "</div>"
      ],
      "text/plain": [
       "   Provider PotentialFraud  AvgDuration  NumOfPt  NumOfClm  ClmPerPt\n",
       "0  PRV51001             No         1.44       24        25      1.04\n",
       "1  PRV51004             No         1.43      138       149      1.08\n",
       "2  PRV51007             No         0.96       58        72      1.24\n",
       "3  PRV51008             No         1.53       36        43      1.19\n",
       "4  PRV51011             No         0.55       53        58      1.09"
      ]
     },
     "execution_count": 38,
     "metadata": {},
     "output_type": "execute_result"
    }
   ],
   "source": [
    "nfraud.head()"
   ]
  },
  {
   "cell_type": "code",
   "execution_count": 39,
   "metadata": {},
   "outputs": [
    {
     "data": {
      "image/png": "[encoded data removed]",
      "text/plain": [
       "<Figure size 720x432 with 1 Axes>"
      ]
     },
     "metadata": {},
     "output_type": "display_data"
    },
    {
     "data": {
      "image/png": "[encoded data removed]",
      "text/plain": [
       "<Figure size 720x432 with 1 Axes>"
      ]
     },
     "metadata": {},
     "output_type": "display_data"
    }
   ],
   "source": [
    "fig = plt.figure(figsize=(10,6))\n",
    "\n",
    "plt.subplot(1,1,1)\n",
    "\n",
    "plt.hist(fraud.ClmPerPt, facecolor = 'r', edgecolor = 'k')\n",
    "plt.xlabel('ClmPerPt')\n",
    "plt.title('ClmPerPt distribution, Potential Fraud Providers')\n",
    "plt.show()\n",
    "\n",
    "fig = plt.figure(figsize=(10,6))\n",
    "\n",
    "plt.subplot(1,1,1)\n",
    "\n",
    "plt.hist(nfraud.ClmPerPt, facecolor = 'b', edgecolor = 'k')\n",
    "plt.xlabel('ClmPerPt')\n",
    "plt.title('ClmPerPt distribution, No Fraud Providers')\n",
    "plt.show()"
   ]
  },
  {
   "cell_type": "code",
   "execution_count": 40,
   "metadata": {},
   "outputs": [
    {
     "data": {
      "image/png": "[encoded data removed]",
      "text/plain": [
       "<Figure size 720x432 with 1 Axes>"
      ]
     },
     "metadata": {},
     "output_type": "display_data"
    }
   ],
   "source": [
    "fig = plt.figure(figsize=(10,6))\n",
    "plt.hist(nfraud.ClmPerPt, facecolor = 'b', edgecolor = 'k')\n",
    "plt.xlabel('ClmPerPt')\n",
    "plt.title('ClmPerPt distribution, No Fraud Providers')\n",
    "plt.show()"
   ]
  },
  {
   "cell_type": "markdown",
   "metadata": {},
   "source": [
    "### Number of Claims "
   ]
  },
  {
   "cell_type": "code",
   "execution_count": 41,
   "metadata": {},
   "outputs": [
    {
     "data": {
      "image/png": "[encoded data removed]",
      "text/plain": [
       "<Figure size 720x432 with 1 Axes>"
      ]
     },
     "metadata": {},
     "output_type": "display_data"
    }
   ],
   "source": [
    "fig = plt.figure(figsize=(10,6))\n",
    "plt.hist(fraud.NumOfClm, facecolor = 'r', edgecolor = 'k')\n",
    "plt.xlabel('NumOfClm')\n",
    "plt.title('NumOfClm distribution, Potential Fraud Providers')\n",
    "plt.show()"
   ]
  },
  {
   "cell_type": "code",
   "execution_count": 42,
   "metadata": {},
   "outputs": [
    {
     "data": {
      "image/png": "[encoded data removed]",
      "text/plain": [
       "<Figure size 720x432 with 1 Axes>"
      ]
     },
     "metadata": {},
     "output_type": "display_data"
    }
   ],
   "source": [
    "fig = plt.figure(figsize=(10,6))\n",
    "plt.hist(nfraud.NumOfClm, facecolor = 'b', edgecolor = 'k')\n",
    "plt.xlabel('NumOfClm')\n",
    "plt.title('NumOfClm distribution, No Fraud Providers')\n",
    "plt.show()"
   ]
  },
  {
   "cell_type": "markdown",
   "metadata": {},
   "source": [
    "### Revenue Per Patient"
   ]
  },
  {
   "cell_type": "markdown",
   "metadata": {},
   "source": [
    "The type of fraud called 'upcoding' could be detected if we look at how much the providers receive per patient. Noticable difference between potential fraudsters and non fraudsters would indicate that a provider send medical bills that are more expensive than they should have been based on the services they performed. "
   ]
  },
  {
   "cell_type": "code",
   "execution_count": 43,
   "metadata": {},
   "outputs": [],
   "source": [
    "TotalRev = df_fraud.groupby('Provider')['TotalRev'].agg('sum')\n",
    "\n",
    "TotalRev = TotalRev.to_frame()\n",
    "\n",
    "fraud = pd.merge(fraud, TotalRev, on = 'Provider')\n",
    "\n",
    "#fraud.rename({'TotalClaim': 'TotalRev'}, axis = 1, inplace = True)"
   ]
  },
  {
   "cell_type": "code",
   "execution_count": 44,
   "metadata": {},
   "outputs": [
    {
     "data": {
      "text/plain": [
       "Index(['Provider', 'PotentialFraud', 'AvgDuration', 'NumOfPt', 'NumOfClm',\n",
       "       'ClmPerPt', 'TotalRev'],\n",
       "      dtype='object')"
      ]
     },
     "execution_count": 44,
     "metadata": {},
     "output_type": "execute_result"
    }
   ],
   "source": [
    "fraud.columns"
   ]
  },
  {
   "cell_type": "code",
   "execution_count": 45,
   "metadata": {},
   "outputs": [],
   "source": [
    "TotalRev = df_nfraud.groupby('Provider')['TotalRev'].agg('sum')\n",
    "\n",
    "TotalRev = TotalRev.to_frame()\n",
    "\n",
    "nfraud = pd.merge(nfraud, TotalRev, on = 'Provider')\n",
    "\n",
    "#nfraud.rename({'TotalClaim': 'TotalRev'}, axis = 1, inplace = True)"
   ]
  },
  {
   "cell_type": "code",
   "execution_count": 46,
   "metadata": {},
   "outputs": [
    {
     "data": {
      "text/html": [
       "<div>\n",
       "<style scoped>\n",
       "    .dataframe tbody tr th:only-of-type {\n",
       "        vertical-align: middle;\n",
       "    }\n",
       "\n",
       "    .dataframe tbody tr th {\n",
       "        vertical-align: top;\n",
       "    }\n",
       "\n",
       "    .dataframe thead th {\n",
       "        text-align: right;\n",
       "    }\n",
       "</style>\n",
       "<table border=\"1\" class=\"dataframe\">\n",
       "  <thead>\n",
       "    <tr style=\"text-align: right;\">\n",
       "      <th></th>\n",
       "      <th>Provider</th>\n",
       "      <th>PotentialFraud</th>\n",
       "      <th>AvgDuration</th>\n",
       "      <th>NumOfPt</th>\n",
       "      <th>NumOfClm</th>\n",
       "      <th>ClmPerPt</th>\n",
       "      <th>TotalRev</th>\n",
       "    </tr>\n",
       "  </thead>\n",
       "  <tbody>\n",
       "    <tr>\n",
       "      <th>0</th>\n",
       "      <td>PRV51001</td>\n",
       "      <td>No</td>\n",
       "      <td>1.44</td>\n",
       "      <td>24</td>\n",
       "      <td>25</td>\n",
       "      <td>1.04</td>\n",
       "      <td>109980.0</td>\n",
       "    </tr>\n",
       "    <tr>\n",
       "      <th>1</th>\n",
       "      <td>PRV51004</td>\n",
       "      <td>No</td>\n",
       "      <td>1.43</td>\n",
       "      <td>138</td>\n",
       "      <td>149</td>\n",
       "      <td>1.08</td>\n",
       "      <td>52480.0</td>\n",
       "    </tr>\n",
       "    <tr>\n",
       "      <th>2</th>\n",
       "      <td>PRV51007</td>\n",
       "      <td>No</td>\n",
       "      <td>0.96</td>\n",
       "      <td>58</td>\n",
       "      <td>72</td>\n",
       "      <td>1.24</td>\n",
       "      <td>36974.0</td>\n",
       "    </tr>\n",
       "    <tr>\n",
       "      <th>3</th>\n",
       "      <td>PRV51008</td>\n",
       "      <td>No</td>\n",
       "      <td>1.53</td>\n",
       "      <td>36</td>\n",
       "      <td>43</td>\n",
       "      <td>1.19</td>\n",
       "      <td>37946.0</td>\n",
       "    </tr>\n",
       "    <tr>\n",
       "      <th>4</th>\n",
       "      <td>PRV51011</td>\n",
       "      <td>No</td>\n",
       "      <td>0.55</td>\n",
       "      <td>53</td>\n",
       "      <td>58</td>\n",
       "      <td>1.09</td>\n",
       "      <td>17998.0</td>\n",
       "    </tr>\n",
       "  </tbody>\n",
       "</table>\n",
       "</div>"
      ],
      "text/plain": [
       "   Provider PotentialFraud  AvgDuration  NumOfPt  NumOfClm  ClmPerPt  TotalRev\n",
       "0  PRV51001             No         1.44       24        25      1.04  109980.0\n",
       "1  PRV51004             No         1.43      138       149      1.08   52480.0\n",
       "2  PRV51007             No         0.96       58        72      1.24   36974.0\n",
       "3  PRV51008             No         1.53       36        43      1.19   37946.0\n",
       "4  PRV51011             No         0.55       53        58      1.09   17998.0"
      ]
     },
     "execution_count": 46,
     "metadata": {},
     "output_type": "execute_result"
    }
   ],
   "source": [
    "nfraud.head()"
   ]
  },
  {
   "cell_type": "code",
   "execution_count": 47,
   "metadata": {},
   "outputs": [
    {
     "data": {
      "image/png": "[encoded data removed]",
      "text/plain": [
       "<Figure size 720x432 with 1 Axes>"
      ]
     },
     "metadata": {},
     "output_type": "display_data"
    }
   ],
   "source": [
    "fig = plt.figure(figsize=(10,6))\n",
    "plt.hist(fraud.TotalRev, facecolor = 'r', edgecolor = 'k')\n",
    "plt.xlabel('TotalRev')\n",
    "plt.title('TotalRev distribution, Potential Fraud Providers')\n",
    "plt.show()"
   ]
  },
  {
   "cell_type": "code",
   "execution_count": 48,
   "metadata": {},
   "outputs": [
    {
     "data": {
      "image/png": "[encoded data removed]",
      "text/plain": [
       "<Figure size 720x432 with 1 Axes>"
      ]
     },
     "metadata": {},
     "output_type": "display_data"
    }
   ],
   "source": [
    "fig = plt.figure(figsize=(10,6))\n",
    "plt.hist(nfraud.TotalRev, range = [0, 650000],facecolor = 'b', edgecolor = 'k')\n",
    "plt.xlabel('TotalRev')\n",
    "plt.title('TotalRev distribution, No Fraud Providers')\n",
    "plt.show()"
   ]
  },
  {
   "cell_type": "code",
   "execution_count": 49,
   "metadata": {},
   "outputs": [],
   "source": [
    "fraud['RevPerPt'] = fraud['TotalRev']/fraud['NumOfPt']\n",
    "nfraud['RevPerPt'] = nfraud['TotalRev']/nfraud['NumOfPt']"
   ]
  },
  {
   "cell_type": "code",
   "execution_count": 50,
   "metadata": {},
   "outputs": [
    {
     "data": {
      "text/html": [
       "<div>\n",
       "<style scoped>\n",
       "    .dataframe tbody tr th:only-of-type {\n",
       "        vertical-align: middle;\n",
       "    }\n",
       "\n",
       "    .dataframe tbody tr th {\n",
       "        vertical-align: top;\n",
       "    }\n",
       "\n",
       "    .dataframe thead th {\n",
       "        text-align: right;\n",
       "    }\n",
       "</style>\n",
       "<table border=\"1\" class=\"dataframe\">\n",
       "  <thead>\n",
       "    <tr style=\"text-align: right;\">\n",
       "      <th></th>\n",
       "      <th>Provider</th>\n",
       "      <th>PotentialFraud</th>\n",
       "      <th>AvgDuration</th>\n",
       "      <th>NumOfPt</th>\n",
       "      <th>NumOfClm</th>\n",
       "      <th>ClmPerPt</th>\n",
       "      <th>TotalRev</th>\n",
       "      <th>RevPerPt</th>\n",
       "    </tr>\n",
       "  </thead>\n",
       "  <tbody>\n",
       "    <tr>\n",
       "      <th>0</th>\n",
       "      <td>PRV51001</td>\n",
       "      <td>No</td>\n",
       "      <td>1.44</td>\n",
       "      <td>24</td>\n",
       "      <td>25</td>\n",
       "      <td>1.04</td>\n",
       "      <td>109980.0</td>\n",
       "      <td>4582.500000</td>\n",
       "    </tr>\n",
       "    <tr>\n",
       "      <th>1</th>\n",
       "      <td>PRV51004</td>\n",
       "      <td>No</td>\n",
       "      <td>1.43</td>\n",
       "      <td>138</td>\n",
       "      <td>149</td>\n",
       "      <td>1.08</td>\n",
       "      <td>52480.0</td>\n",
       "      <td>380.289855</td>\n",
       "    </tr>\n",
       "    <tr>\n",
       "      <th>2</th>\n",
       "      <td>PRV51007</td>\n",
       "      <td>No</td>\n",
       "      <td>0.96</td>\n",
       "      <td>58</td>\n",
       "      <td>72</td>\n",
       "      <td>1.24</td>\n",
       "      <td>36974.0</td>\n",
       "      <td>637.482759</td>\n",
       "    </tr>\n",
       "    <tr>\n",
       "      <th>3</th>\n",
       "      <td>PRV51008</td>\n",
       "      <td>No</td>\n",
       "      <td>1.53</td>\n",
       "      <td>36</td>\n",
       "      <td>43</td>\n",
       "      <td>1.19</td>\n",
       "      <td>37946.0</td>\n",
       "      <td>1054.055556</td>\n",
       "    </tr>\n",
       "    <tr>\n",
       "      <th>4</th>\n",
       "      <td>PRV51011</td>\n",
       "      <td>No</td>\n",
       "      <td>0.55</td>\n",
       "      <td>53</td>\n",
       "      <td>58</td>\n",
       "      <td>1.09</td>\n",
       "      <td>17998.0</td>\n",
       "      <td>339.584906</td>\n",
       "    </tr>\n",
       "  </tbody>\n",
       "</table>\n",
       "</div>"
      ],
      "text/plain": [
       "   Provider PotentialFraud  AvgDuration  NumOfPt  NumOfClm  ClmPerPt  \\\n",
       "0  PRV51001             No         1.44       24        25      1.04   \n",
       "1  PRV51004             No         1.43      138       149      1.08   \n",
       "2  PRV51007             No         0.96       58        72      1.24   \n",
       "3  PRV51008             No         1.53       36        43      1.19   \n",
       "4  PRV51011             No         0.55       53        58      1.09   \n",
       "\n",
       "   TotalRev     RevPerPt  \n",
       "0  109980.0  4582.500000  \n",
       "1   52480.0   380.289855  \n",
       "2   36974.0   637.482759  \n",
       "3   37946.0  1054.055556  \n",
       "4   17998.0   339.584906  "
      ]
     },
     "execution_count": 50,
     "metadata": {},
     "output_type": "execute_result"
    }
   ],
   "source": [
    "nfraud.head()"
   ]
  },
  {
   "cell_type": "code",
   "execution_count": 51,
   "metadata": {},
   "outputs": [
    {
     "data": {
      "image/png": "[encoded data removed]",
      "text/plain": [
       "<Figure size 720x432 with 1 Axes>"
      ]
     },
     "metadata": {},
     "output_type": "display_data"
    }
   ],
   "source": [
    "fig = plt.figure(figsize=(10,6))\n",
    "plt.hist(fraud.RevPerPt, facecolor = 'r', edgecolor = 'k')\n",
    "plt.xlabel('RevPerPt')\n",
    "plt.title('RevPerPt distribution, Potential Fraud Providers')\n",
    "plt.show()"
   ]
  },
  {
   "cell_type": "code",
   "execution_count": 52,
   "metadata": {},
   "outputs": [
    {
     "data": {
      "image/png": "[encoded data removed]",
      "text/plain": [
       "<Figure size 720x432 with 1 Axes>"
      ]
     },
     "metadata": {},
     "output_type": "display_data"
    }
   ],
   "source": [
    "fig = plt.figure(figsize=(10,6))\n",
    "plt.hist(nfraud.RevPerPt, range = (0, 35000),facecolor = 'b', edgecolor = 'k')\n",
    "plt.xlabel('RevPerPt')\n",
    "plt.title('RevPerPt distribution, Non Fraud Providers')\n",
    "plt.show()"
   ]
  },
  {
   "cell_type": "code",
   "execution_count": 53,
   "metadata": {},
   "outputs": [],
   "source": [
    "fraud['RevPerPt'] = fraud['RevPerPt'].round(2)\n",
    "\n",
    "nfraud['RevPerPt'] = nfraud['RevPerPt'].round(2)\n",
    "\n",
    "fraud['TotalRev'] = fraud['TotalRev'].round(0).astype(int)\n",
    "\n",
    "nfraud['TotalRev'] = nfraud['TotalRev'].round(0).astype(int)"
   ]
  },
  {
   "cell_type": "code",
   "execution_count": 54,
   "metadata": {},
   "outputs": [
    {
     "data": {
      "text/html": [
       "<div>\n",
       "<style scoped>\n",
       "    .dataframe tbody tr th:only-of-type {\n",
       "        vertical-align: middle;\n",
       "    }\n",
       "\n",
       "    .dataframe tbody tr th {\n",
       "        vertical-align: top;\n",
       "    }\n",
       "\n",
       "    .dataframe thead th {\n",
       "        text-align: right;\n",
       "    }\n",
       "</style>\n",
       "<table border=\"1\" class=\"dataframe\">\n",
       "  <thead>\n",
       "    <tr style=\"text-align: right;\">\n",
       "      <th></th>\n",
       "      <th>Provider</th>\n",
       "      <th>PotentialFraud</th>\n",
       "      <th>AvgDuration</th>\n",
       "      <th>NumOfPt</th>\n",
       "      <th>NumOfClm</th>\n",
       "      <th>ClmPerPt</th>\n",
       "      <th>TotalRev</th>\n",
       "      <th>RevPerPt</th>\n",
       "    </tr>\n",
       "  </thead>\n",
       "  <tbody>\n",
       "    <tr>\n",
       "      <th>0</th>\n",
       "      <td>PRV51003</td>\n",
       "      <td>Yes</td>\n",
       "      <td>3.67</td>\n",
       "      <td>117</td>\n",
       "      <td>132</td>\n",
       "      <td>1.13</td>\n",
       "      <td>671956</td>\n",
       "      <td>5743.21</td>\n",
       "    </tr>\n",
       "    <tr>\n",
       "      <th>1</th>\n",
       "      <td>PRV51005</td>\n",
       "      <td>Yes</td>\n",
       "      <td>1.09</td>\n",
       "      <td>495</td>\n",
       "      <td>1165</td>\n",
       "      <td>2.35</td>\n",
       "      <td>284610</td>\n",
       "      <td>574.97</td>\n",
       "    </tr>\n",
       "    <tr>\n",
       "      <th>2</th>\n",
       "      <td>PRV51021</td>\n",
       "      <td>Yes</td>\n",
       "      <td>2.00</td>\n",
       "      <td>208</td>\n",
       "      <td>257</td>\n",
       "      <td>1.24</td>\n",
       "      <td>380322</td>\n",
       "      <td>1828.47</td>\n",
       "    </tr>\n",
       "    <tr>\n",
       "      <th>3</th>\n",
       "      <td>PRV51037</td>\n",
       "      <td>Yes</td>\n",
       "      <td>1.53</td>\n",
       "      <td>206</td>\n",
       "      <td>454</td>\n",
       "      <td>2.20</td>\n",
       "      <td>367754</td>\n",
       "      <td>1785.21</td>\n",
       "    </tr>\n",
       "    <tr>\n",
       "      <th>4</th>\n",
       "      <td>PRV51052</td>\n",
       "      <td>Yes</td>\n",
       "      <td>2.28</td>\n",
       "      <td>37</td>\n",
       "      <td>46</td>\n",
       "      <td>1.24</td>\n",
       "      <td>33146</td>\n",
       "      <td>895.84</td>\n",
       "    </tr>\n",
       "  </tbody>\n",
       "</table>\n",
       "</div>"
      ],
      "text/plain": [
       "   Provider PotentialFraud  AvgDuration  NumOfPt  NumOfClm  ClmPerPt  \\\n",
       "0  PRV51003            Yes         3.67      117       132      1.13   \n",
       "1  PRV51005            Yes         1.09      495      1165      2.35   \n",
       "2  PRV51021            Yes         2.00      208       257      1.24   \n",
       "3  PRV51037            Yes         1.53      206       454      2.20   \n",
       "4  PRV51052            Yes         2.28       37        46      1.24   \n",
       "\n",
       "   TotalRev  RevPerPt  \n",
       "0    671956   5743.21  \n",
       "1    284610    574.97  \n",
       "2    380322   1828.47  \n",
       "3    367754   1785.21  \n",
       "4     33146    895.84  "
      ]
     },
     "execution_count": 54,
     "metadata": {},
     "output_type": "execute_result"
    }
   ],
   "source": [
    "fraud.head()"
   ]
  },
  {
   "cell_type": "code",
   "execution_count": 55,
   "metadata": {},
   "outputs": [
    {
     "data": {
      "text/html": [
       "<div>\n",
       "<style scoped>\n",
       "    .dataframe tbody tr th:only-of-type {\n",
       "        vertical-align: middle;\n",
       "    }\n",
       "\n",
       "    .dataframe tbody tr th {\n",
       "        vertical-align: top;\n",
       "    }\n",
       "\n",
       "    .dataframe thead th {\n",
       "        text-align: right;\n",
       "    }\n",
       "</style>\n",
       "<table border=\"1\" class=\"dataframe\">\n",
       "  <thead>\n",
       "    <tr style=\"text-align: right;\">\n",
       "      <th></th>\n",
       "      <th>Provider</th>\n",
       "      <th>PotentialFraud</th>\n",
       "      <th>AvgDuration</th>\n",
       "      <th>NumOfPt</th>\n",
       "      <th>NumOfClm</th>\n",
       "      <th>ClmPerPt</th>\n",
       "      <th>TotalRev</th>\n",
       "      <th>RevPerPt</th>\n",
       "    </tr>\n",
       "  </thead>\n",
       "  <tbody>\n",
       "    <tr>\n",
       "      <th>0</th>\n",
       "      <td>PRV51001</td>\n",
       "      <td>No</td>\n",
       "      <td>1.44</td>\n",
       "      <td>24</td>\n",
       "      <td>25</td>\n",
       "      <td>1.04</td>\n",
       "      <td>109980</td>\n",
       "      <td>4582.50</td>\n",
       "    </tr>\n",
       "    <tr>\n",
       "      <th>1</th>\n",
       "      <td>PRV51004</td>\n",
       "      <td>No</td>\n",
       "      <td>1.43</td>\n",
       "      <td>138</td>\n",
       "      <td>149</td>\n",
       "      <td>1.08</td>\n",
       "      <td>52480</td>\n",
       "      <td>380.29</td>\n",
       "    </tr>\n",
       "    <tr>\n",
       "      <th>2</th>\n",
       "      <td>PRV51007</td>\n",
       "      <td>No</td>\n",
       "      <td>0.96</td>\n",
       "      <td>58</td>\n",
       "      <td>72</td>\n",
       "      <td>1.24</td>\n",
       "      <td>36974</td>\n",
       "      <td>637.48</td>\n",
       "    </tr>\n",
       "    <tr>\n",
       "      <th>3</th>\n",
       "      <td>PRV51008</td>\n",
       "      <td>No</td>\n",
       "      <td>1.53</td>\n",
       "      <td>36</td>\n",
       "      <td>43</td>\n",
       "      <td>1.19</td>\n",
       "      <td>37946</td>\n",
       "      <td>1054.06</td>\n",
       "    </tr>\n",
       "    <tr>\n",
       "      <th>4</th>\n",
       "      <td>PRV51011</td>\n",
       "      <td>No</td>\n",
       "      <td>0.55</td>\n",
       "      <td>53</td>\n",
       "      <td>58</td>\n",
       "      <td>1.09</td>\n",
       "      <td>17998</td>\n",
       "      <td>339.58</td>\n",
       "    </tr>\n",
       "  </tbody>\n",
       "</table>\n",
       "</div>"
      ],
      "text/plain": [
       "   Provider PotentialFraud  AvgDuration  NumOfPt  NumOfClm  ClmPerPt  \\\n",
       "0  PRV51001             No         1.44       24        25      1.04   \n",
       "1  PRV51004             No         1.43      138       149      1.08   \n",
       "2  PRV51007             No         0.96       58        72      1.24   \n",
       "3  PRV51008             No         1.53       36        43      1.19   \n",
       "4  PRV51011             No         0.55       53        58      1.09   \n",
       "\n",
       "   TotalRev  RevPerPt  \n",
       "0    109980   4582.50  \n",
       "1     52480    380.29  \n",
       "2     36974    637.48  \n",
       "3     37946   1054.06  \n",
       "4     17998    339.58  "
      ]
     },
     "execution_count": 55,
     "metadata": {},
     "output_type": "execute_result"
    }
   ],
   "source": [
    "nfraud.head()"
   ]
  },
  {
   "cell_type": "markdown",
   "metadata": {},
   "source": [
    "### Number of Claims with No Attending Physician"
   ]
  },
  {
   "cell_type": "code",
   "execution_count": 56,
   "metadata": {},
   "outputs": [],
   "source": [
    "NoPhy = df_fraud.AttendingPhysician.isnull().groupby(df_fraud['Provider']).sum().astype(int).reset_index(name = 'count')"
   ]
  },
  {
   "cell_type": "code",
   "execution_count": 57,
   "metadata": {},
   "outputs": [
    {
     "data": {
      "text/plain": [
       "count    506.000000\n",
       "mean       1.114625\n",
       "std        2.342611\n",
       "min        0.000000\n",
       "25%        0.000000\n",
       "50%        0.000000\n",
       "75%        1.000000\n",
       "max       33.000000\n",
       "Name: count, dtype: float64"
      ]
     },
     "execution_count": 57,
     "metadata": {},
     "output_type": "execute_result"
    }
   ],
   "source": [
    "NoPhy['count'].describe()"
   ]
  },
  {
   "cell_type": "markdown",
   "metadata": {},
   "source": [
    "## Number of Physicians Per Claim"
   ]
  },
  {
   "cell_type": "code",
   "execution_count": 58,
   "metadata": {},
   "outputs": [],
   "source": [
    "df_phy_fraud = df_fraud[['AttendingPhysician', 'OperatingPhysician', \\\n",
    "                    'OtherPhysician']]\n",
    "\n",
    "df_phy_nfraud = df_nfraud[['AttendingPhysician', 'OperatingPhysician', \\\n",
    "                    'OtherPhysician']]"
   ]
  },
  {
   "cell_type": "code",
   "execution_count": 59,
   "metadata": {},
   "outputs": [
    {
     "data": {
      "text/plain": [
       "OperatingPhysician    77.936615\n",
       "OtherPhysician        64.922743\n",
       "AttendingPhysician     0.265043\n",
       "dtype: float64"
      ]
     },
     "execution_count": 59,
     "metadata": {},
     "output_type": "execute_result"
    }
   ],
   "source": [
    "(df_phy_fraud.isnull().sum().sort_values(ascending = False))*100/len(df_phy_fraud)"
   ]
  },
  {
   "cell_type": "code",
   "execution_count": 60,
   "metadata": {},
   "outputs": [
    {
     "data": {
      "text/plain": [
       "OperatingPhysician    80.459158\n",
       "OtherPhysician        63.784723\n",
       "AttendingPhysician     0.273294\n",
       "dtype: float64"
      ]
     },
     "execution_count": 60,
     "metadata": {},
     "output_type": "execute_result"
    }
   ],
   "source": [
    "(df_phy_nfraud.isnull().sum().sort_values(ascending = False))*100/len(df_phy_nfraud)"
   ]
  },
  {
   "cell_type": "markdown",
   "metadata": {},
   "source": [
    "Percentage of fraud and no fraud providers, with the physicians on their claims:"
   ]
  },
  {
   "cell_type": "code",
   "execution_count": 61,
   "metadata": {},
   "outputs": [
    {
     "data": {
      "text/plain": [
       "OperatingPhysician    22.063385\n",
       "OtherPhysician        35.077257\n",
       "AttendingPhysician    99.734957\n",
       "dtype: float64"
      ]
     },
     "execution_count": 61,
     "metadata": {},
     "output_type": "execute_result"
    }
   ],
   "source": [
    "100 - (df_phy_fraud.isnull().sum().sort_values(ascending = False))*100/len(df_phy_fraud)"
   ]
  },
  {
   "cell_type": "code",
   "execution_count": 62,
   "metadata": {},
   "outputs": [
    {
     "data": {
      "text/plain": [
       "OperatingPhysician    19.540842\n",
       "OtherPhysician        36.215277\n",
       "AttendingPhysician    99.726706\n",
       "dtype: float64"
      ]
     },
     "execution_count": 62,
     "metadata": {},
     "output_type": "execute_result"
    }
   ],
   "source": [
    "100 - (df_phy_nfraud.isnull().sum().sort_values(ascending = False))*100/len(df_phy_nfraud)"
   ]
  },
  {
   "cell_type": "markdown",
   "metadata": {},
   "source": [
    "## Number of Procedure Codes per Patient"
   ]
  },
  {
   "cell_type": "code",
   "execution_count": 63,
   "metadata": {},
   "outputs": [],
   "source": [
    "df_num_procedure_fraud = df_fraud[['ClmProcedureCode_1', \\\n",
    "                'ClmProcedureCode_2','ClmProcedureCode_3', \\\n",
    "                    'ClmProcedureCode_4', 'ClmProcedureCode_5',\\\n",
    "                                  'ClmProcedureCode_6']]\n",
    "\n",
    "df_num_procedure_nfraud = df_nfraud[['ClmProcedureCode_1', \\\n",
    "                'ClmProcedureCode_2','ClmProcedureCode_3', \\\n",
    "                    'ClmProcedureCode_4', 'ClmProcedureCode_5',\\\n",
    "                                  'ClmProcedureCode_6']]"
   ]
  },
  {
   "cell_type": "code",
   "execution_count": 64,
   "metadata": {},
   "outputs": [
    {
     "data": {
      "text/plain": [
       "ClmProcedureCode_6    100.000000\n",
       "ClmProcedureCode_5     99.997180\n",
       "ClmProcedureCode_4     99.964285\n",
       "ClmProcedureCode_3     99.735427\n",
       "ClmProcedureCode_2     98.474595\n",
       "ClmProcedureCode_1     93.644617\n",
       "dtype: float64"
      ]
     },
     "execution_count": 64,
     "metadata": {},
     "output_type": "execute_result"
    }
   ],
   "source": [
    "(df_num_procedure_fraud.isnull().sum().sort_values(ascending = False))*100/len(df_num_procedure_fraud)"
   ]
  },
  {
   "cell_type": "code",
   "execution_count": 65,
   "metadata": {},
   "outputs": [
    {
     "data": {
      "text/plain": [
       "ClmProcedureCode_6    100.000000\n",
       "ClmProcedureCode_5     99.999131\n",
       "ClmProcedureCode_4     99.987841\n",
       "ClmProcedureCode_3     99.882460\n",
       "ClmProcedureCode_2     99.350347\n",
       "ClmProcedureCode_1     97.166886\n",
       "dtype: float64"
      ]
     },
     "execution_count": 65,
     "metadata": {},
     "output_type": "execute_result"
    }
   ],
   "source": [
    "(df_num_procedure_nfraud.isnull().sum().sort_values(ascending = False))*100/len(df_num_procedure_nfraud)"
   ]
  },
  {
   "cell_type": "markdown",
   "metadata": {},
   "source": [
    "Percentage of fraud and no fraud providers that use procedure codes on their claims:"
   ]
  },
  {
   "cell_type": "code",
   "execution_count": 66,
   "metadata": {},
   "outputs": [
    {
     "data": {
      "text/plain": [
       "ClmProcedureCode_6    0.000000\n",
       "ClmProcedureCode_5    0.002820\n",
       "ClmProcedureCode_4    0.035715\n",
       "ClmProcedureCode_3    0.264573\n",
       "ClmProcedureCode_2    1.525405\n",
       "ClmProcedureCode_1    6.355383\n",
       "dtype: float64"
      ]
     },
     "execution_count": 66,
     "metadata": {},
     "output_type": "execute_result"
    }
   ],
   "source": [
    "100 - (df_num_procedure_fraud.isnull().sum().sort_values(ascending = False))*100/len(df_num_procedure_fraud)"
   ]
  },
  {
   "cell_type": "code",
   "execution_count": 67,
   "metadata": {},
   "outputs": [
    {
     "data": {
      "text/plain": [
       "ClmProcedureCode_6    0.000000\n",
       "ClmProcedureCode_5    0.000869\n",
       "ClmProcedureCode_4    0.012159\n",
       "ClmProcedureCode_3    0.117540\n",
       "ClmProcedureCode_2    0.649653\n",
       "ClmProcedureCode_1    2.833114\n",
       "dtype: float64"
      ]
     },
     "execution_count": 67,
     "metadata": {},
     "output_type": "execute_result"
    }
   ],
   "source": [
    "100 - (df_num_procedure_nfraud.isnull().sum().sort_values(ascending = False))*100/len(df_num_procedure_nfraud)"
   ]
  },
  {
   "cell_type": "code",
   "execution_count": 69,
   "metadata": {},
   "outputs": [],
   "source": [
    "#df_fraud['num_nonanproc_codes'] =  df_fraud['ClmProcedureCode_1'].isnull()"
   ]
  },
  {
   "cell_type": "markdown",
   "metadata": {},
   "source": [
    "## Number of Diagnosis Codes Per Patient"
   ]
  },
  {
   "cell_type": "code",
   "execution_count": 70,
   "metadata": {},
   "outputs": [],
   "source": [
    "df_num_diag_fraud = df_fraud[['ClmDiagnosisCode_1', \\\n",
    "                'ClmDiagnosisCode_2','ClmDiagnosisCode_3', \\\n",
    "                    'ClmDiagnosisCode_4', 'ClmDiagnosisCode_5',\\\n",
    "                                  'ClmDiagnosisCode_6',\\\n",
    "                      'ClmDiagnosisCode_7', 'ClmDiagnosisCode_8',\\\n",
    "                                  'ClmDiagnosisCode_9',\\\n",
    "                             'ClmDiagnosisCode_10']]"
   ]
  },
  {
   "cell_type": "code",
   "execution_count": 71,
   "metadata": {},
   "outputs": [],
   "source": [
    "df_num_diag_nfraud = df_nfraud[['ClmDiagnosisCode_1', \\\n",
    "                'ClmDiagnosisCode_2','ClmDiagnosisCode_3', \\\n",
    "                    'ClmDiagnosisCode_4', 'ClmDiagnosisCode_5',\\\n",
    "                                  'ClmDiagnosisCode_6',\\\n",
    "                      'ClmDiagnosisCode_7', 'ClmDiagnosisCode_8',\\\n",
    "                                  'ClmDiagnosisCode_9',\\\n",
    "                             'ClmDiagnosisCode_10']]"
   ]
  },
  {
   "cell_type": "code",
   "execution_count": 72,
   "metadata": {},
   "outputs": [
    {
     "data": {
      "text/plain": [
       "ClmDiagnosisCode_10    98.734469\n",
       "ClmDiagnosisCode_9     90.076411\n",
       "ClmDiagnosisCode_8     87.730972\n",
       "ClmDiagnosisCode_7     85.305175\n",
       "ClmDiagnosisCode_6     81.978045\n",
       "ClmDiagnosisCode_5     77.048441\n",
       "ClmDiagnosisCode_4     67.894133\n",
       "ClmDiagnosisCode_3     54.317750\n",
       "ClmDiagnosisCode_2     33.584748\n",
       "ClmDiagnosisCode_1      1.802196\n",
       "dtype: float64"
      ]
     },
     "execution_count": 72,
     "metadata": {},
     "output_type": "execute_result"
    }
   ],
   "source": [
    "(df_num_diag_fraud.isnull().sum().sort_values(ascending = False))*100/len(df_num_diag_fraud)"
   ]
  },
  {
   "cell_type": "code",
   "execution_count": 73,
   "metadata": {},
   "outputs": [
    {
     "data": {
      "text/plain": [
       "ClmDiagnosisCode_10    60.826252\n",
       "ClmDiagnosisCode_9     55.492379\n",
       "ClmDiagnosisCode_8     54.047450\n",
       "ClmDiagnosisCode_7     52.553016\n",
       "ClmDiagnosisCode_6     50.503308\n",
       "ClmDiagnosisCode_5     47.466381\n",
       "ClmDiagnosisCode_4     41.826788\n",
       "ClmDiagnosisCode_3     33.462936\n",
       "ClmDiagnosisCode_2     20.690184\n",
       "ClmDiagnosisCode_1      1.110259\n",
       "dtype: float64"
      ]
     },
     "execution_count": 73,
     "metadata": {},
     "output_type": "execute_result"
    }
   ],
   "source": [
    "(df_num_diag_fraud.isnull().sum().sort_values(ascending = False))*100/len(df_num_diag_nfraud)"
   ]
  },
  {
   "cell_type": "code",
   "execution_count": 74,
   "metadata": {},
   "outputs": [
    {
     "data": {
      "text/plain": [
       "ClmDiagnosisCode_1     98.197804\n",
       "ClmDiagnosisCode_2     66.415252\n",
       "ClmDiagnosisCode_3     45.682250\n",
       "ClmDiagnosisCode_4     32.105867\n",
       "ClmDiagnosisCode_5     22.951559\n",
       "ClmDiagnosisCode_6     18.021955\n",
       "ClmDiagnosisCode_7     14.694825\n",
       "ClmDiagnosisCode_8     12.269028\n",
       "ClmDiagnosisCode_9      9.923589\n",
       "ClmDiagnosisCode_10     1.265531\n",
       "dtype: float64"
      ]
     },
     "execution_count": 74,
     "metadata": {},
     "output_type": "execute_result"
    }
   ],
   "source": [
    "100 - (df_num_diag_fraud.isnull().sum().sort_values(ascending = True))*100/len(df_num_diag_fraud)"
   ]
  },
  {
   "cell_type": "code",
   "execution_count": 75,
   "metadata": {},
   "outputs": [
    {
     "data": {
      "text/plain": [
       "ClmDiagnosisCode_10    39.173748\n",
       "ClmDiagnosisCode_9     44.507621\n",
       "ClmDiagnosisCode_8     45.952550\n",
       "ClmDiagnosisCode_7     47.446984\n",
       "ClmDiagnosisCode_6     49.496692\n",
       "ClmDiagnosisCode_5     52.533619\n",
       "ClmDiagnosisCode_4     58.173212\n",
       "ClmDiagnosisCode_3     66.537064\n",
       "ClmDiagnosisCode_2     79.309816\n",
       "ClmDiagnosisCode_1     98.889741\n",
       "dtype: float64"
      ]
     },
     "execution_count": 75,
     "metadata": {},
     "output_type": "execute_result"
    }
   ],
   "source": [
    "100 - (df_num_diag_fraud.isnull().sum().sort_values(ascending = False))*100/len(df_num_diag_nfraud)"
   ]
  },
  {
   "cell_type": "markdown",
   "metadata": {},
   "source": [
    "# States"
   ]
  },
  {
   "cell_type": "code",
   "execution_count": 76,
   "metadata": {},
   "outputs": [],
   "source": [
    "df_loc_fraud = pd.merge(df_fraud, df_p, on = 'BeneID')\n",
    "\n",
    "df_loc_nfraud = pd.merge(df_nfraud, df_p, on = 'BeneID')"
   ]
  },
  {
   "cell_type": "code",
   "execution_count": 77,
   "metadata": {},
   "outputs": [
    {
     "name": "stdout",
     "output_type": "stream",
     "text": [
      "[1, 2, 3, 4, 5, 6, 7, 8, 9, 10, 11, 12, 13, 14, 15, 16, 17, 18, 19, 20, 21, 22, 23, 24, 25, 26, 27, 28, 29, 30, 31, 32, 33, 34, 35, 36, 37, 38, 39, 41, 42, 43, 44, 45, 46, 47, 49, 50, 51, 52, 53, 54]\n"
     ]
    }
   ],
   "source": [
    "fraud_states = df_loc_fraud['State'].unique()\n",
    "print (sorted(fraud_states))"
   ]
  },
  {
   "cell_type": "code",
   "execution_count": 78,
   "metadata": {},
   "outputs": [
    {
     "name": "stdout",
     "output_type": "stream",
     "text": [
      "[1, 2, 3, 4, 5, 6, 7, 8, 9, 10, 11, 12, 13, 14, 15, 16, 17, 18, 19, 20, 21, 22, 23, 24, 25, 26, 27, 28, 29, 30, 31, 32, 33, 34, 35, 36, 37, 38, 39, 41, 42, 43, 44, 45, 46, 47, 49, 50, 51, 52, 53, 54]\n"
     ]
    }
   ],
   "source": [
    "nfraud_states = df_loc_nfraud['State'].unique()\n",
    "print (sorted(nfraud_states))"
   ]
  },
  {
   "cell_type": "code",
   "execution_count": 79,
   "metadata": {},
   "outputs": [
    {
     "data": {
      "text/plain": [
       "0    45\n",
       "dtype: int64"
      ]
     },
     "execution_count": 79,
     "metadata": {},
     "output_type": "execute_result"
    }
   ],
   "source": [
    "df_loc_nfraud['State'].mode()"
   ]
  },
  {
   "cell_type": "code",
   "execution_count": 80,
   "metadata": {},
   "outputs": [
    {
     "data": {
      "text/plain": [
       "271"
      ]
     },
     "execution_count": 80,
     "metadata": {},
     "output_type": "execute_result"
    }
   ],
   "source": [
    "df_loc_fraud['County'].nunique()"
   ]
  },
  {
   "cell_type": "code",
   "execution_count": 81,
   "metadata": {},
   "outputs": [
    {
     "data": {
      "text/plain": [
       "311"
      ]
     },
     "execution_count": 81,
     "metadata": {},
     "output_type": "execute_result"
    }
   ],
   "source": [
    "df_loc_nfraud['County'].nunique()"
   ]
  },
  {
   "cell_type": "code",
   "execution_count": 82,
   "metadata": {},
   "outputs": [
    {
     "data": {
      "image/png": "[encoded data removed]",
      "text/plain": [
       "<Figure size 1296x864 with 1 Axes>"
      ]
     },
     "metadata": {},
     "output_type": "display_data"
    }
   ],
   "source": [
    "fig = plt.figure(figsize=(18,12))\n",
    "df_loc_fraud.groupby('State')['ClaimID'].count().sort_values(ascending = False).plot(kind = 'bar',facecolor = 'r', edgecolor = 'k')\n",
    "\n",
    "plt.ylabel('State Code')\n",
    "plt.title('Number of Claims by States, Fraud Providers')\n",
    "plt.show()"
   ]
  },
  {
   "cell_type": "code",
   "execution_count": 83,
   "metadata": {},
   "outputs": [
    {
     "data": {
      "image/png": "[encoded data removed]",
      "text/plain": [
       "<Figure size 720x432 with 1 Axes>"
      ]
     },
     "metadata": {},
     "output_type": "display_data"
    }
   ],
   "source": [
    "fig = plt.figure(figsize=(10,6))\n",
    "df_loc_nfraud.groupby('State')['ClaimID'].count().sort_values(ascending = False).plot(kind = 'bar',facecolor = 'b', edgecolor = 'k')\n",
    "\n",
    "plt.ylabel('State Code')\n",
    "plt.title('Number of Claims by States, No Fraud Providers')\n",
    "plt.show()"
   ]
  },
  {
   "cell_type": "code",
   "execution_count": 84,
   "metadata": {},
   "outputs": [
    {
     "data": {
      "image/png": "[encoded data removed]",
      "text/plain": [
       "<Figure size 720x432 with 1 Axes>"
      ]
     },
     "metadata": {},
     "output_type": "display_data"
    }
   ],
   "source": [
    "fig = plt.figure(figsize=(10,6))\n",
    "df_loc_fraud.groupby('State')['ClaimID'].count().sort_values(ascending = True).tail(10).plot(kind = 'barh',facecolor = 'r', edgecolor = 'k')\n",
    "\n",
    "plt.ylabel('State Code')\n",
    "plt.title('Top 10 States with the Highest Number of Claims, Fraud Providers')\n",
    "plt.show()"
   ]
  },
  {
   "cell_type": "markdown",
   "metadata": {},
   "source": [
    "State Codes:\n",
    "* 05 - California\n",
    "* 10 - Florida\n",
    "* 33 - New York\n",
    "* 39 - Pennsylvania\n",
    "* 45 - Texas\n",
    "* 31 - New Jersey\n",
    "* 49 - Virginia\n",
    "* 23 - Michigan\n",
    "* 14 - Illinois\n",
    "* 22 - Massachusetts"
   ]
  },
  {
   "cell_type": "code",
   "execution_count": 85,
   "metadata": {},
   "outputs": [
    {
     "data": {
      "image/png": "[encoded data removed]",
      "text/plain": [
       "<Figure size 720x432 with 1 Axes>"
      ]
     },
     "metadata": {},
     "output_type": "display_data"
    }
   ],
   "source": [
    "fig = plt.figure(figsize=(10,6))\n",
    "df_loc_nfraud.groupby('State')['ClaimID'].count().sort_values(ascending = True).tail(10).plot(kind = 'barh',facecolor = 'b', edgecolor = 'k')\n",
    "\n",
    "plt.ylabel('State Code')\n",
    "plt.title('Top 10 States with the Highest Number of Claims, No Fraud Providers')\n",
    "plt.show()"
   ]
  },
  {
   "cell_type": "markdown",
   "metadata": {},
   "source": [
    "State Codes:\n",
    "* 45 - Texas\n",
    "* 10 - Florida\n",
    "* 5  - California\n",
    "* 33 - New York\n",
    "* 14 - Illinois\n",
    "* 36 - Ohio\n",
    "* 34 - Oklahoma\n",
    "* 11 - Georgia\n",
    "* 23 - Michigan\n",
    "* 39 - Pennsylvania\n",
    "    "
   ]
  },
  {
   "cell_type": "code",
   "execution_count": 86,
   "metadata": {},
   "outputs": [
    {
     "data": {
      "image/png": "[encoded data removed]",
      "text/plain": [
       "<Figure size 720x432 with 1 Axes>"
      ]
     },
     "metadata": {},
     "output_type": "display_data"
    }
   ],
   "source": [
    "fig = plt.figure(figsize=(10,6))\n",
    "df_loc_nfraud.groupby('State')['ClaimID'].count().sort_values(ascending = False).tail(10).plot(kind = 'barh',facecolor = 'b', edgecolor = 'k')\n",
    "\n",
    "plt.ylabel('State Code')\n",
    "plt.title('Top 10 States with the Lowest Number of Claims, No Fraud Providers')\n",
    "plt.show()"
   ]
  },
  {
   "cell_type": "markdown",
   "metadata": {},
   "source": [
    "State Codes\n",
    "* 9 - District of Columbia\n",
    "* 2 - Alaska\n",
    "* 53 - Wyoming\n",
    "* 35 - North Dakota\n",
    "* 8 - Delaware\n",
    "* 41 - Rhode Island\n",
    "* 46 - Utah\n",
    "* 12 - Hawaii\n",
    "* 27 - Montana\n",
    "* 47 - Vermont\n"
   ]
  },
  {
   "cell_type": "markdown",
   "metadata": {},
   "source": [
    "## Counties "
   ]
  },
  {
   "cell_type": "code",
   "execution_count": 87,
   "metadata": {},
   "outputs": [],
   "source": [
    "#fig = plt.figure(figsize=(18,12))\n",
    "#df_loc_fraud.groupby('County')['ClaimID'].count().sort_values(ascending = False).plot(kind = 'bar',facecolor = 'r', edgecolor = 'k')\n",
    "\n",
    "#plt.ylabel('County Code')\n",
    "#plt.title('Number of Claims by Counties, Fraud Providers')\n",
    "#plt.show()"
   ]
  },
  {
   "cell_type": "code",
   "execution_count": 88,
   "metadata": {},
   "outputs": [],
   "source": [
    "#fig = plt.figure(figsize=(10,6))\n",
    "#df_loc_nfraud.groupby('County')['ClaimID'].count().sort_values(ascending = False).plot(kind = 'bar',facecolor = 'b', edgecolor = 'k')\n",
    "\n",
    "#plt.ylabel('County Code')\n",
    "#plt.title('Number of Claims by Counties, No Fraud Providers')\n",
    "#plt.show()"
   ]
  },
  {
   "cell_type": "code",
   "execution_count": 89,
   "metadata": {},
   "outputs": [
    {
     "data": {
      "image/png": "[encoded data removed]",
      "text/plain": [
       "<Figure size 720x432 with 1 Axes>"
      ]
     },
     "metadata": {},
     "output_type": "display_data"
    }
   ],
   "source": [
    "fig = plt.figure(figsize=(10,6))\n",
    "df_loc_fraud.groupby('County')['ClaimID'].count().sort_values(ascending = True).tail(10).plot(kind = 'barh',facecolor = 'r', edgecolor = 'k')\n",
    "\n",
    "plt.ylabel('County Code')\n",
    "plt.title('Number of Claims by Counties, Fraud Providers')\n",
    "plt.show()"
   ]
  },
  {
   "cell_type": "code",
   "execution_count": 90,
   "metadata": {},
   "outputs": [
    {
     "data": {
      "image/png": "[encoded data removed]",
      "text/plain": [
       "<Figure size 720x432 with 1 Axes>"
      ]
     },
     "metadata": {},
     "output_type": "display_data"
    }
   ],
   "source": [
    "fig = plt.figure(figsize=(10,6))\n",
    "df_loc_nfraud.groupby('County')['ClaimID'].count().sort_values(ascending = True).tail(10).plot(kind = 'barh',facecolor = 'b', edgecolor = 'k')\n",
    "\n",
    "plt.ylabel('County Code')\n",
    "plt.title('Number of Claims by Counties, No Fraud Providers')\n",
    "plt.show()"
   ]
  },
  {
   "cell_type": "code",
   "execution_count": 91,
   "metadata": {},
   "outputs": [],
   "source": [
    "df = pd.concat([df_ip_flags, df_op_flags])"
   ]
  },
  {
   "cell_type": "code",
   "execution_count": 92,
   "metadata": {},
   "outputs": [],
   "source": [
    "#df['ip_op'] = df.PotentialFraud.apply(lambda x: 1 if x == 'Yes' else 0)"
   ]
  },
  {
   "cell_type": "code",
   "execution_count": 93,
   "metadata": {},
   "outputs": [
    {
     "data": {
      "text/plain": [
       "(558211, 33)"
      ]
     },
     "execution_count": 93,
     "metadata": {},
     "output_type": "execute_result"
    }
   ],
   "source": [
    "df.shape"
   ]
  },
  {
   "cell_type": "code",
   "execution_count": null,
   "metadata": {},
   "outputs": [],
   "source": []
  },
  {
   "cell_type": "code",
   "execution_count": null,
   "metadata": {},
   "outputs": [],
   "source": []
  },
  {
   "cell_type": "code",
   "execution_count": null,
   "metadata": {},
   "outputs": [],
   "source": []
  },
  {
   "cell_type": "code",
   "execution_count": null,
   "metadata": {},
   "outputs": [],
   "source": []
  },
  {
   "cell_type": "code",
   "execution_count": null,
   "metadata": {},
   "outputs": [],
   "source": []
  },
  {
   "cell_type": "code",
   "execution_count": null,
   "metadata": {},
   "outputs": [],
   "source": []
  },
  {
   "cell_type": "code",
   "execution_count": null,
   "metadata": {},
   "outputs": [],
   "source": []
  },
  {
   "cell_type": "code",
   "execution_count": 94,
   "metadata": {},
   "outputs": [],
   "source": [
    "df_unsup = pd.concat([fraud, nfraud])"
   ]
  },
  {
   "cell_type": "code",
   "execution_count": 95,
   "metadata": {},
   "outputs": [],
   "source": [
    "df = df_unsup.copy()"
   ]
  },
  {
   "cell_type": "code",
   "execution_count": 96,
   "metadata": {},
   "outputs": [],
   "source": [
    "df.to_pickle(\"./df.pkl\")"
   ]
  },
  {
   "cell_type": "code",
   "execution_count": 97,
   "metadata": {},
   "outputs": [],
   "source": [
    "df.to_csv('data.csv')"
   ]
  },
  {
   "cell_type": "code",
   "execution_count": 98,
   "metadata": {},
   "outputs": [
    {
     "data": {
      "text/html": [
       "<div>\n",
       "<style scoped>\n",
       "    .dataframe tbody tr th:only-of-type {\n",
       "        vertical-align: middle;\n",
       "    }\n",
       "\n",
       "    .dataframe tbody tr th {\n",
       "        vertical-align: top;\n",
       "    }\n",
       "\n",
       "    .dataframe thead th {\n",
       "        text-align: right;\n",
       "    }\n",
       "</style>\n",
       "<table border=\"1\" class=\"dataframe\">\n",
       "  <thead>\n",
       "    <tr style=\"text-align: right;\">\n",
       "      <th></th>\n",
       "      <th>Provider</th>\n",
       "      <th>PotentialFraud</th>\n",
       "      <th>AvgDuration</th>\n",
       "      <th>NumOfPt</th>\n",
       "      <th>NumOfClm</th>\n",
       "      <th>ClmPerPt</th>\n",
       "      <th>TotalRev</th>\n",
       "      <th>RevPerPt</th>\n",
       "    </tr>\n",
       "  </thead>\n",
       "  <tbody>\n",
       "    <tr>\n",
       "      <th>0</th>\n",
       "      <td>PRV51003</td>\n",
       "      <td>Yes</td>\n",
       "      <td>3.67</td>\n",
       "      <td>117</td>\n",
       "      <td>132</td>\n",
       "      <td>1.13</td>\n",
       "      <td>671956</td>\n",
       "      <td>5743.21</td>\n",
       "    </tr>\n",
       "    <tr>\n",
       "      <th>1</th>\n",
       "      <td>PRV51005</td>\n",
       "      <td>Yes</td>\n",
       "      <td>1.09</td>\n",
       "      <td>495</td>\n",
       "      <td>1165</td>\n",
       "      <td>2.35</td>\n",
       "      <td>284610</td>\n",
       "      <td>574.97</td>\n",
       "    </tr>\n",
       "    <tr>\n",
       "      <th>2</th>\n",
       "      <td>PRV51021</td>\n",
       "      <td>Yes</td>\n",
       "      <td>2.00</td>\n",
       "      <td>208</td>\n",
       "      <td>257</td>\n",
       "      <td>1.24</td>\n",
       "      <td>380322</td>\n",
       "      <td>1828.47</td>\n",
       "    </tr>\n",
       "    <tr>\n",
       "      <th>3</th>\n",
       "      <td>PRV51037</td>\n",
       "      <td>Yes</td>\n",
       "      <td>1.53</td>\n",
       "      <td>206</td>\n",
       "      <td>454</td>\n",
       "      <td>2.20</td>\n",
       "      <td>367754</td>\n",
       "      <td>1785.21</td>\n",
       "    </tr>\n",
       "    <tr>\n",
       "      <th>4</th>\n",
       "      <td>PRV51052</td>\n",
       "      <td>Yes</td>\n",
       "      <td>2.28</td>\n",
       "      <td>37</td>\n",
       "      <td>46</td>\n",
       "      <td>1.24</td>\n",
       "      <td>33146</td>\n",
       "      <td>895.84</td>\n",
       "    </tr>\n",
       "  </tbody>\n",
       "</table>\n",
       "</div>"
      ],
      "text/plain": [
       "   Provider PotentialFraud  AvgDuration  NumOfPt  NumOfClm  ClmPerPt  \\\n",
       "0  PRV51003            Yes         3.67      117       132      1.13   \n",
       "1  PRV51005            Yes         1.09      495      1165      2.35   \n",
       "2  PRV51021            Yes         2.00      208       257      1.24   \n",
       "3  PRV51037            Yes         1.53      206       454      2.20   \n",
       "4  PRV51052            Yes         2.28       37        46      1.24   \n",
       "\n",
       "   TotalRev  RevPerPt  \n",
       "0    671956   5743.21  \n",
       "1    284610    574.97  \n",
       "2    380322   1828.47  \n",
       "3    367754   1785.21  \n",
       "4     33146    895.84  "
      ]
     },
     "execution_count": 98,
     "metadata": {},
     "output_type": "execute_result"
    }
   ],
   "source": [
    "df.head()"
   ]
  },
  {
   "cell_type": "code",
   "execution_count": 104,
   "metadata": {},
   "outputs": [],
   "source": [
    "df_clm = df[['Provider', 'PotentialFraud', 'TotalRev']]"
   ]
  },
  {
   "cell_type": "code",
   "execution_count": 109,
   "metadata": {},
   "outputs": [
    {
     "data": {
      "text/plain": [
       "count    5.410000e+03\n",
       "mean     1.089756e+05\n",
       "std      2.870060e+05\n",
       "min      0.000000e+00\n",
       "25%      4.520000e+03\n",
       "50%      2.077500e+04\n",
       "75%      8.915850e+04\n",
       "max      6.310076e+06\n",
       "Name: TotalRev, dtype: float64"
      ]
     },
     "execution_count": 109,
     "metadata": {},
     "output_type": "execute_result"
    }
   ],
   "source": [
    "df_clm['TotalRev'].describe()"
   ]
  },
  {
   "cell_type": "code",
   "execution_count": null,
   "metadata": {},
   "outputs": [],
   "source": []
  }
 ],
 "metadata": {
  "kernelspec": {
   "display_name": "Python 3",
   "language": "python",
   "name": "python3"
  },
  "language_info": {
   "codemirror_mode": {
    "name": "ipython",
    "version": 3
   },
   "file_extension": ".py",
   "mimetype": "text/x-python",
   "name": "python",
   "nbconvert_exporter": "python",
   "pygments_lexer": "ipython3",
   "version": "3.7.7"
  }
 },
 "nbformat": 4,
 "nbformat_minor": 4
}
