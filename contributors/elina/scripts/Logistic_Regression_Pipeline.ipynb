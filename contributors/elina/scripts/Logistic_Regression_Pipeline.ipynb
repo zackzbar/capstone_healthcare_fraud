{
 "cells": [
  {
   "cell_type": "code",
   "execution_count": 78,
   "metadata": {},
   "outputs": [],
   "source": [
    "from __future__ import print_function\n",
    "\n",
    "import numpy as np\n",
    "import pandas as pd\n",
    "\n",
    "from datetime import datetime\n",
    "\n",
    "import networkx as nx\n",
    "\n",
    "\n",
    "import statsmodels.api as sm\n",
    "\n",
    "\n",
    "import matplotlib.pyplot as plt\n",
    "%matplotlib inline\n",
    "plt.style.use('ggplot')\n",
    "\n",
    "import seaborn as sns\n",
    "\n",
    "from sklearn.metrics import confusion_matrix\n",
    "\n",
    "\n",
    "from imblearn.pipeline import Pipeline\n",
    "\n",
    "from imblearn.over_sampling import SMOTE\n",
    "\n",
    "from sklearn.metrics import make_scorer\n",
    "\n",
    "from sklearn.metrics import accuracy_score, roc_auc_score, roc_curve\n",
    "\n",
    "from sklearn.metrics import f1_score\n",
    "from sklearn.metrics import precision_score\n",
    "from sklearn.metrics import recall_score\n",
    "\n",
    "from sklearn.linear_model import LogisticRegression\n",
    "\n",
    "from sklearn.utils.class_weight import compute_class_weight\n",
    "\n",
    "from sklearn.metrics import classification_report\n",
    "\n",
    "\n",
    "from sklearn import datasets\n",
    "from sklearn import linear_model\n",
    "\n",
    "from sklearn.model_selection import GridSearchCV\n",
    "\n",
    "from sklearn import metrics\n"
   ]
  },
  {
   "cell_type": "code",
   "execution_count": 3,
   "metadata": {},
   "outputs": [],
   "source": [
    "pd.set_option('display.max_rows', None)"
   ]
  },
  {
   "cell_type": "code",
   "execution_count": 4,
   "metadata": {},
   "outputs": [],
   "source": [
    "df_el = pd.read_pickle('./df.pkl')\n",
    "\n",
    "fraud = pd.read_pickle('./fraud.pkl')\n",
    "\n",
    "nfraud = pd.read_pickle('./fraud.pkl')"
   ]
  },
  {
   "cell_type": "code",
   "execution_count": 5,
   "metadata": {},
   "outputs": [],
   "source": [
    "data = pd.read_csv('../../../raw_data/provider_final_updated.csv')"
   ]
  },
  {
   "cell_type": "code",
   "execution_count": 6,
   "metadata": {},
   "outputs": [],
   "source": [
    "df = data.copy()"
   ]
  },
  {
   "cell_type": "code",
   "execution_count": 7,
   "metadata": {},
   "outputs": [
    {
     "data": {
      "text/plain": [
       "Index(['Unnamed: 0', 'Provider', 'PotentialFraud', 'DurationMedianIP',\n",
       "       'DurationMeanIP', 'DurationMedianOP', 'DurationMeanOP', 'Serves',\n",
       "       'ChronCondsMedian', 'ChronCondsMean', 'ChronConsMode', 'PtAgeMedian',\n",
       "       'PtAgeMean', 'NumPtsIP', 'NumPtsOP', 'NumStatesIP', 'NumStatesOP',\n",
       "       'SharePhysician', 'MergeAvgClaimReimbursed', 'NumTopCodeClaim',\n",
       "       'DupClaimNum_IP', 'DupClaimRatio_IP', 'DupClaim_IP',\n",
       "       'DupClaimStatesNum_IP', 'DupClaimMultiState_IP',\n",
       "       'DupClaimProviderNum_IP', 'DupClaimMultiProvider_IP',\n",
       "       'DupClaimStartDtNum_IP', 'DupClaimMultiStartDt_IP', 'DupClaimNum_OP',\n",
       "       'DupClaimRatio_OP', 'DupClaim_OP', 'DupClaimStatesNum_OP',\n",
       "       'DupClaimMultiState_OP', 'DupClaimProviderNum_OP',\n",
       "       'DupClaimMultiProvider_OP', 'DupClaimStartDtNum_OP',\n",
       "       'DupClaimMultiStartDt_OP', 'AvgDuration', 'NumOfPt', 'NumOfClm',\n",
       "       'ClmPerPt', 'TotalRev', 'RevPerPt', 'ClmNoPhy', 'ClmAllPhy',\n",
       "       'ClmNoProc', 'ClmPerDt'],\n",
       "      dtype='object')"
      ]
     },
     "execution_count": 7,
     "metadata": {},
     "output_type": "execute_result"
    }
   ],
   "source": [
    "df.columns"
   ]
  },
  {
   "cell_type": "code",
   "execution_count": 8,
   "metadata": {},
   "outputs": [],
   "source": [
    "#df['ClmPerDt'].value_counts(normalize = True) * 100"
   ]
  },
  {
   "cell_type": "code",
   "execution_count": 9,
   "metadata": {},
   "outputs": [
    {
     "data": {
      "text/html": [
       "<div>\n",
       "<style scoped>\n",
       "    .dataframe tbody tr th:only-of-type {\n",
       "        vertical-align: middle;\n",
       "    }\n",
       "\n",
       "    .dataframe tbody tr th {\n",
       "        vertical-align: top;\n",
       "    }\n",
       "\n",
       "    .dataframe thead th {\n",
       "        text-align: right;\n",
       "    }\n",
       "</style>\n",
       "<table border=\"1\" class=\"dataframe\">\n",
       "  <thead>\n",
       "    <tr style=\"text-align: right;\">\n",
       "      <th></th>\n",
       "      <th>Unnamed: 0</th>\n",
       "      <th>Provider</th>\n",
       "      <th>PotentialFraud</th>\n",
       "      <th>DurationMedianIP</th>\n",
       "      <th>DurationMeanIP</th>\n",
       "      <th>DurationMedianOP</th>\n",
       "      <th>DurationMeanOP</th>\n",
       "      <th>Serves</th>\n",
       "      <th>ChronCondsMedian</th>\n",
       "      <th>ChronCondsMean</th>\n",
       "      <th>...</th>\n",
       "      <th>AvgDuration</th>\n",
       "      <th>NumOfPt</th>\n",
       "      <th>NumOfClm</th>\n",
       "      <th>ClmPerPt</th>\n",
       "      <th>TotalRev</th>\n",
       "      <th>RevPerPt</th>\n",
       "      <th>ClmNoPhy</th>\n",
       "      <th>ClmAllPhy</th>\n",
       "      <th>ClmNoProc</th>\n",
       "      <th>ClmPerDt</th>\n",
       "    </tr>\n",
       "  </thead>\n",
       "  <tbody>\n",
       "    <tr>\n",
       "      <th>0</th>\n",
       "      <td>0</td>\n",
       "      <td>PRV51001</td>\n",
       "      <td>No</td>\n",
       "      <td>4.0</td>\n",
       "      <td>5.000000</td>\n",
       "      <td>0.0</td>\n",
       "      <td>0.550000</td>\n",
       "      <td>Both</td>\n",
       "      <td>6.0</td>\n",
       "      <td>5.760000</td>\n",
       "      <td>...</td>\n",
       "      <td>1.44</td>\n",
       "      <td>24</td>\n",
       "      <td>25</td>\n",
       "      <td>1.04</td>\n",
       "      <td>109980</td>\n",
       "      <td>4582.50</td>\n",
       "      <td>0</td>\n",
       "      <td>2</td>\n",
       "      <td>23</td>\n",
       "      <td>1.09</td>\n",
       "    </tr>\n",
       "    <tr>\n",
       "      <th>1</th>\n",
       "      <td>1</td>\n",
       "      <td>PRV51003</td>\n",
       "      <td>Yes</td>\n",
       "      <td>4.0</td>\n",
       "      <td>5.161290</td>\n",
       "      <td>0.0</td>\n",
       "      <td>2.357143</td>\n",
       "      <td>Both</td>\n",
       "      <td>7.0</td>\n",
       "      <td>6.674242</td>\n",
       "      <td>...</td>\n",
       "      <td>3.67</td>\n",
       "      <td>117</td>\n",
       "      <td>132</td>\n",
       "      <td>1.13</td>\n",
       "      <td>671956</td>\n",
       "      <td>5743.21</td>\n",
       "      <td>0</td>\n",
       "      <td>4</td>\n",
       "      <td>93</td>\n",
       "      <td>1.19</td>\n",
       "    </tr>\n",
       "    <tr>\n",
       "      <th>2</th>\n",
       "      <td>2</td>\n",
       "      <td>PRV51004</td>\n",
       "      <td>No</td>\n",
       "      <td>0.0</td>\n",
       "      <td>0.000000</td>\n",
       "      <td>0.0</td>\n",
       "      <td>1.429530</td>\n",
       "      <td>OP</td>\n",
       "      <td>7.0</td>\n",
       "      <td>6.812081</td>\n",
       "      <td>...</td>\n",
       "      <td>1.43</td>\n",
       "      <td>138</td>\n",
       "      <td>149</td>\n",
       "      <td>1.08</td>\n",
       "      <td>52480</td>\n",
       "      <td>380.29</td>\n",
       "      <td>0</td>\n",
       "      <td>12</td>\n",
       "      <td>149</td>\n",
       "      <td>1.27</td>\n",
       "    </tr>\n",
       "    <tr>\n",
       "      <th>3</th>\n",
       "      <td>3</td>\n",
       "      <td>PRV51005</td>\n",
       "      <td>Yes</td>\n",
       "      <td>0.0</td>\n",
       "      <td>0.000000</td>\n",
       "      <td>0.0</td>\n",
       "      <td>1.088412</td>\n",
       "      <td>OP</td>\n",
       "      <td>7.0</td>\n",
       "      <td>6.886695</td>\n",
       "      <td>...</td>\n",
       "      <td>1.09</td>\n",
       "      <td>495</td>\n",
       "      <td>1165</td>\n",
       "      <td>2.35</td>\n",
       "      <td>284610</td>\n",
       "      <td>574.97</td>\n",
       "      <td>2</td>\n",
       "      <td>98</td>\n",
       "      <td>1165</td>\n",
       "      <td>3.27</td>\n",
       "    </tr>\n",
       "    <tr>\n",
       "      <th>4</th>\n",
       "      <td>4</td>\n",
       "      <td>PRV51007</td>\n",
       "      <td>No</td>\n",
       "      <td>5.0</td>\n",
       "      <td>5.333333</td>\n",
       "      <td>0.0</td>\n",
       "      <td>0.768116</td>\n",
       "      <td>Both</td>\n",
       "      <td>7.0</td>\n",
       "      <td>6.986111</td>\n",
       "      <td>...</td>\n",
       "      <td>0.96</td>\n",
       "      <td>58</td>\n",
       "      <td>72</td>\n",
       "      <td>1.24</td>\n",
       "      <td>36974</td>\n",
       "      <td>637.48</td>\n",
       "      <td>0</td>\n",
       "      <td>8</td>\n",
       "      <td>71</td>\n",
       "      <td>1.06</td>\n",
       "    </tr>\n",
       "  </tbody>\n",
       "</table>\n",
       "<p>5 rows × 48 columns</p>\n",
       "</div>"
      ],
      "text/plain": [
       "   Unnamed: 0  Provider PotentialFraud  DurationMedianIP  DurationMeanIP  \\\n",
       "0           0  PRV51001             No               4.0        5.000000   \n",
       "1           1  PRV51003            Yes               4.0        5.161290   \n",
       "2           2  PRV51004             No               0.0        0.000000   \n",
       "3           3  PRV51005            Yes               0.0        0.000000   \n",
       "4           4  PRV51007             No               5.0        5.333333   \n",
       "\n",
       "   DurationMedianOP  DurationMeanOP Serves  ChronCondsMedian  ChronCondsMean  \\\n",
       "0               0.0        0.550000   Both               6.0        5.760000   \n",
       "1               0.0        2.357143   Both               7.0        6.674242   \n",
       "2               0.0        1.429530     OP               7.0        6.812081   \n",
       "3               0.0        1.088412     OP               7.0        6.886695   \n",
       "4               0.0        0.768116   Both               7.0        6.986111   \n",
       "\n",
       "   ...  AvgDuration  NumOfPt  NumOfClm  ClmPerPt  TotalRev  RevPerPt  \\\n",
       "0  ...         1.44       24        25      1.04    109980   4582.50   \n",
       "1  ...         3.67      117       132      1.13    671956   5743.21   \n",
       "2  ...         1.43      138       149      1.08     52480    380.29   \n",
       "3  ...         1.09      495      1165      2.35    284610    574.97   \n",
       "4  ...         0.96       58        72      1.24     36974    637.48   \n",
       "\n",
       "   ClmNoPhy  ClmAllPhy  ClmNoProc  ClmPerDt  \n",
       "0         0          2         23      1.09  \n",
       "1         0          4         93      1.19  \n",
       "2         0         12        149      1.27  \n",
       "3         2         98       1165      3.27  \n",
       "4         0          8         71      1.06  \n",
       "\n",
       "[5 rows x 48 columns]"
      ]
     },
     "execution_count": 9,
     "metadata": {},
     "output_type": "execute_result"
    }
   ],
   "source": [
    "df.head()"
   ]
  },
  {
   "cell_type": "code",
   "execution_count": 10,
   "metadata": {},
   "outputs": [],
   "source": [
    "df = df.replace({'No': 0, 'Yes': 1})"
   ]
  },
  {
   "cell_type": "code",
   "execution_count": 11,
   "metadata": {},
   "outputs": [
    {
     "data": {
      "text/plain": [
       "array(['Both', 'OP', 'IP'], dtype=object)"
      ]
     },
     "execution_count": 11,
     "metadata": {},
     "output_type": "execute_result"
    }
   ],
   "source": [
    "data['Serves'].unique()"
   ]
  },
  {
   "cell_type": "code",
   "execution_count": 12,
   "metadata": {},
   "outputs": [],
   "source": [
    "df = pd.get_dummies(df, columns = ['Serves'])"
   ]
  },
  {
   "cell_type": "code",
   "execution_count": 13,
   "metadata": {},
   "outputs": [],
   "source": [
    "df = df.loc[:, ~df.columns.str.contains('^Unnamed')]"
   ]
  },
  {
   "cell_type": "code",
   "execution_count": 14,
   "metadata": {},
   "outputs": [
    {
     "data": {
      "text/html": [
       "<div>\n",
       "<style scoped>\n",
       "    .dataframe tbody tr th:only-of-type {\n",
       "        vertical-align: middle;\n",
       "    }\n",
       "\n",
       "    .dataframe tbody tr th {\n",
       "        vertical-align: top;\n",
       "    }\n",
       "\n",
       "    .dataframe thead th {\n",
       "        text-align: right;\n",
       "    }\n",
       "</style>\n",
       "<table border=\"1\" class=\"dataframe\">\n",
       "  <thead>\n",
       "    <tr style=\"text-align: right;\">\n",
       "      <th></th>\n",
       "      <th>Provider</th>\n",
       "      <th>PotentialFraud</th>\n",
       "      <th>DurationMedianIP</th>\n",
       "      <th>DurationMeanIP</th>\n",
       "      <th>DurationMedianOP</th>\n",
       "      <th>DurationMeanOP</th>\n",
       "      <th>ChronCondsMedian</th>\n",
       "      <th>ChronCondsMean</th>\n",
       "      <th>ChronConsMode</th>\n",
       "      <th>PtAgeMedian</th>\n",
       "      <th>...</th>\n",
       "      <th>ClmPerPt</th>\n",
       "      <th>TotalRev</th>\n",
       "      <th>RevPerPt</th>\n",
       "      <th>ClmNoPhy</th>\n",
       "      <th>ClmAllPhy</th>\n",
       "      <th>ClmNoProc</th>\n",
       "      <th>ClmPerDt</th>\n",
       "      <th>Serves_Both</th>\n",
       "      <th>Serves_IP</th>\n",
       "      <th>Serves_OP</th>\n",
       "    </tr>\n",
       "  </thead>\n",
       "  <tbody>\n",
       "    <tr>\n",
       "      <th>0</th>\n",
       "      <td>PRV51001</td>\n",
       "      <td>0</td>\n",
       "      <td>4.0</td>\n",
       "      <td>5.000000</td>\n",
       "      <td>0.0</td>\n",
       "      <td>0.550000</td>\n",
       "      <td>6.0</td>\n",
       "      <td>5.760000</td>\n",
       "      <td>5.0</td>\n",
       "      <td>79.0</td>\n",
       "      <td>...</td>\n",
       "      <td>1.04</td>\n",
       "      <td>109980</td>\n",
       "      <td>4582.50</td>\n",
       "      <td>0</td>\n",
       "      <td>2</td>\n",
       "      <td>23</td>\n",
       "      <td>1.09</td>\n",
       "      <td>1</td>\n",
       "      <td>0</td>\n",
       "      <td>0</td>\n",
       "    </tr>\n",
       "    <tr>\n",
       "      <th>1</th>\n",
       "      <td>PRV51003</td>\n",
       "      <td>1</td>\n",
       "      <td>4.0</td>\n",
       "      <td>5.161290</td>\n",
       "      <td>0.0</td>\n",
       "      <td>2.357143</td>\n",
       "      <td>7.0</td>\n",
       "      <td>6.674242</td>\n",
       "      <td>6.0</td>\n",
       "      <td>71.0</td>\n",
       "      <td>...</td>\n",
       "      <td>1.13</td>\n",
       "      <td>671956</td>\n",
       "      <td>5743.21</td>\n",
       "      <td>0</td>\n",
       "      <td>4</td>\n",
       "      <td>93</td>\n",
       "      <td>1.19</td>\n",
       "      <td>1</td>\n",
       "      <td>0</td>\n",
       "      <td>0</td>\n",
       "    </tr>\n",
       "    <tr>\n",
       "      <th>2</th>\n",
       "      <td>PRV51004</td>\n",
       "      <td>0</td>\n",
       "      <td>0.0</td>\n",
       "      <td>0.000000</td>\n",
       "      <td>0.0</td>\n",
       "      <td>1.429530</td>\n",
       "      <td>7.0</td>\n",
       "      <td>6.812081</td>\n",
       "      <td>8.0</td>\n",
       "      <td>72.0</td>\n",
       "      <td>...</td>\n",
       "      <td>1.08</td>\n",
       "      <td>52480</td>\n",
       "      <td>380.29</td>\n",
       "      <td>0</td>\n",
       "      <td>12</td>\n",
       "      <td>149</td>\n",
       "      <td>1.27</td>\n",
       "      <td>0</td>\n",
       "      <td>0</td>\n",
       "      <td>1</td>\n",
       "    </tr>\n",
       "    <tr>\n",
       "      <th>3</th>\n",
       "      <td>PRV51005</td>\n",
       "      <td>1</td>\n",
       "      <td>0.0</td>\n",
       "      <td>0.000000</td>\n",
       "      <td>0.0</td>\n",
       "      <td>1.088412</td>\n",
       "      <td>7.0</td>\n",
       "      <td>6.886695</td>\n",
       "      <td>5.0</td>\n",
       "      <td>70.0</td>\n",
       "      <td>...</td>\n",
       "      <td>2.35</td>\n",
       "      <td>284610</td>\n",
       "      <td>574.97</td>\n",
       "      <td>2</td>\n",
       "      <td>98</td>\n",
       "      <td>1165</td>\n",
       "      <td>3.27</td>\n",
       "      <td>0</td>\n",
       "      <td>0</td>\n",
       "      <td>1</td>\n",
       "    </tr>\n",
       "    <tr>\n",
       "      <th>4</th>\n",
       "      <td>PRV51007</td>\n",
       "      <td>0</td>\n",
       "      <td>5.0</td>\n",
       "      <td>5.333333</td>\n",
       "      <td>0.0</td>\n",
       "      <td>0.768116</td>\n",
       "      <td>7.0</td>\n",
       "      <td>6.986111</td>\n",
       "      <td>6.0</td>\n",
       "      <td>69.5</td>\n",
       "      <td>...</td>\n",
       "      <td>1.24</td>\n",
       "      <td>36974</td>\n",
       "      <td>637.48</td>\n",
       "      <td>0</td>\n",
       "      <td>8</td>\n",
       "      <td>71</td>\n",
       "      <td>1.06</td>\n",
       "      <td>1</td>\n",
       "      <td>0</td>\n",
       "      <td>0</td>\n",
       "    </tr>\n",
       "  </tbody>\n",
       "</table>\n",
       "<p>5 rows × 49 columns</p>\n",
       "</div>"
      ],
      "text/plain": [
       "   Provider  PotentialFraud  DurationMedianIP  DurationMeanIP  \\\n",
       "0  PRV51001               0               4.0        5.000000   \n",
       "1  PRV51003               1               4.0        5.161290   \n",
       "2  PRV51004               0               0.0        0.000000   \n",
       "3  PRV51005               1               0.0        0.000000   \n",
       "4  PRV51007               0               5.0        5.333333   \n",
       "\n",
       "   DurationMedianOP  DurationMeanOP  ChronCondsMedian  ChronCondsMean  \\\n",
       "0               0.0        0.550000               6.0        5.760000   \n",
       "1               0.0        2.357143               7.0        6.674242   \n",
       "2               0.0        1.429530               7.0        6.812081   \n",
       "3               0.0        1.088412               7.0        6.886695   \n",
       "4               0.0        0.768116               7.0        6.986111   \n",
       "\n",
       "   ChronConsMode  PtAgeMedian  ...  ClmPerPt  TotalRev  RevPerPt  ClmNoPhy  \\\n",
       "0            5.0         79.0  ...      1.04    109980   4582.50         0   \n",
       "1            6.0         71.0  ...      1.13    671956   5743.21         0   \n",
       "2            8.0         72.0  ...      1.08     52480    380.29         0   \n",
       "3            5.0         70.0  ...      2.35    284610    574.97         2   \n",
       "4            6.0         69.5  ...      1.24     36974    637.48         0   \n",
       "\n",
       "   ClmAllPhy  ClmNoProc  ClmPerDt  Serves_Both  Serves_IP  Serves_OP  \n",
       "0          2         23      1.09            1          0          0  \n",
       "1          4         93      1.19            1          0          0  \n",
       "2         12        149      1.27            0          0          1  \n",
       "3         98       1165      3.27            0          0          1  \n",
       "4          8         71      1.06            1          0          0  \n",
       "\n",
       "[5 rows x 49 columns]"
      ]
     },
     "execution_count": 14,
     "metadata": {},
     "output_type": "execute_result"
    }
   ],
   "source": [
    "df.head()"
   ]
  },
  {
   "cell_type": "code",
   "execution_count": 15,
   "metadata": {},
   "outputs": [
    {
     "data": {
      "text/plain": [
       "ClmPerDt                    0\n",
       "ClmNoProc                   0\n",
       "DupClaimRatio_IP            0\n",
       "DupClaimNum_IP              0\n",
       "NumTopCodeClaim             0\n",
       "MergeAvgClaimReimbursed     0\n",
       "SharePhysician              0\n",
       "NumStatesOP                 0\n",
       "NumStatesIP                 0\n",
       "NumPtsOP                    0\n",
       "NumPtsIP                    0\n",
       "PtAgeMean                   0\n",
       "PtAgeMedian                 0\n",
       "ChronConsMode               0\n",
       "ChronCondsMean              0\n",
       "ChronCondsMedian            0\n",
       "Serves                      0\n",
       "DurationMeanOP              0\n",
       "DurationMedianOP            0\n",
       "DurationMeanIP              0\n",
       "DurationMedianIP            0\n",
       "PotentialFraud              0\n",
       "Provider                    0\n",
       "DupClaim_IP                 0\n",
       "DupClaimStatesNum_IP        0\n",
       "DupClaimMultiState_IP       0\n",
       "DupClaimStartDtNum_OP       0\n",
       "ClmAllPhy                   0\n",
       "ClmNoPhy                    0\n",
       "RevPerPt                    0\n",
       "TotalRev                    0\n",
       "ClmPerPt                    0\n",
       "NumOfClm                    0\n",
       "NumOfPt                     0\n",
       "AvgDuration                 0\n",
       "DupClaimMultiStartDt_OP     0\n",
       "DupClaimMultiProvider_OP    0\n",
       "DupClaimProviderNum_IP      0\n",
       "DupClaimProviderNum_OP      0\n",
       "DupClaimMultiState_OP       0\n",
       "DupClaimStatesNum_OP        0\n",
       "DupClaim_OP                 0\n",
       "DupClaimRatio_OP            0\n",
       "DupClaimNum_OP              0\n",
       "DupClaimMultiStartDt_IP     0\n",
       "DupClaimStartDtNum_IP       0\n",
       "DupClaimMultiProvider_IP    0\n",
       "Unnamed: 0                  0\n",
       "dtype: int64"
      ]
     },
     "execution_count": 15,
     "metadata": {},
     "output_type": "execute_result"
    }
   ],
   "source": [
    "data.isnull().sum().sort_values(ascending = False)"
   ]
  },
  {
   "cell_type": "code",
   "execution_count": 16,
   "metadata": {},
   "outputs": [],
   "source": [
    "X = df.drop(['Provider', 'PotentialFraud'], axis = 1)"
   ]
  },
  {
   "cell_type": "code",
   "execution_count": 17,
   "metadata": {},
   "outputs": [],
   "source": [
    "df_el = df_el.replace({'No': 0, 'Yes': 1})"
   ]
  },
  {
   "cell_type": "code",
   "execution_count": 18,
   "metadata": {},
   "outputs": [],
   "source": [
    "X_el = df_el.drop(['Provider', 'PotentialFraud'], axis = 1)"
   ]
  },
  {
   "cell_type": "code",
   "execution_count": 19,
   "metadata": {},
   "outputs": [
    {
     "data": {
      "text/html": [
       "<div>\n",
       "<style scoped>\n",
       "    .dataframe tbody tr th:only-of-type {\n",
       "        vertical-align: middle;\n",
       "    }\n",
       "\n",
       "    .dataframe tbody tr th {\n",
       "        vertical-align: top;\n",
       "    }\n",
       "\n",
       "    .dataframe thead th {\n",
       "        text-align: right;\n",
       "    }\n",
       "</style>\n",
       "<table border=\"1\" class=\"dataframe\">\n",
       "  <thead>\n",
       "    <tr style=\"text-align: right;\">\n",
       "      <th></th>\n",
       "      <th>DurationMedianIP</th>\n",
       "      <th>DurationMeanIP</th>\n",
       "      <th>DurationMedianOP</th>\n",
       "      <th>DurationMeanOP</th>\n",
       "      <th>ChronCondsMedian</th>\n",
       "      <th>ChronCondsMean</th>\n",
       "      <th>ChronConsMode</th>\n",
       "      <th>PtAgeMedian</th>\n",
       "      <th>PtAgeMean</th>\n",
       "      <th>NumPtsIP</th>\n",
       "      <th>...</th>\n",
       "      <th>ClmPerPt</th>\n",
       "      <th>TotalRev</th>\n",
       "      <th>RevPerPt</th>\n",
       "      <th>ClmNoPhy</th>\n",
       "      <th>ClmAllPhy</th>\n",
       "      <th>ClmNoProc</th>\n",
       "      <th>ClmPerDt</th>\n",
       "      <th>Serves_Both</th>\n",
       "      <th>Serves_IP</th>\n",
       "      <th>Serves_OP</th>\n",
       "    </tr>\n",
       "  </thead>\n",
       "  <tbody>\n",
       "    <tr>\n",
       "      <th>0</th>\n",
       "      <td>4.0</td>\n",
       "      <td>5.000000</td>\n",
       "      <td>0.0</td>\n",
       "      <td>0.550000</td>\n",
       "      <td>6.0</td>\n",
       "      <td>5.760000</td>\n",
       "      <td>5.0</td>\n",
       "      <td>79.0</td>\n",
       "      <td>77.880000</td>\n",
       "      <td>5.0</td>\n",
       "      <td>...</td>\n",
       "      <td>1.04</td>\n",
       "      <td>109980</td>\n",
       "      <td>4582.50</td>\n",
       "      <td>0</td>\n",
       "      <td>2</td>\n",
       "      <td>23</td>\n",
       "      <td>1.09</td>\n",
       "      <td>1</td>\n",
       "      <td>0</td>\n",
       "      <td>0</td>\n",
       "    </tr>\n",
       "    <tr>\n",
       "      <th>1</th>\n",
       "      <td>4.0</td>\n",
       "      <td>5.161290</td>\n",
       "      <td>0.0</td>\n",
       "      <td>2.357143</td>\n",
       "      <td>7.0</td>\n",
       "      <td>6.674242</td>\n",
       "      <td>6.0</td>\n",
       "      <td>71.0</td>\n",
       "      <td>69.083333</td>\n",
       "      <td>53.0</td>\n",
       "      <td>...</td>\n",
       "      <td>1.13</td>\n",
       "      <td>671956</td>\n",
       "      <td>5743.21</td>\n",
       "      <td>0</td>\n",
       "      <td>4</td>\n",
       "      <td>93</td>\n",
       "      <td>1.19</td>\n",
       "      <td>1</td>\n",
       "      <td>0</td>\n",
       "      <td>0</td>\n",
       "    </tr>\n",
       "    <tr>\n",
       "      <th>2</th>\n",
       "      <td>0.0</td>\n",
       "      <td>0.000000</td>\n",
       "      <td>0.0</td>\n",
       "      <td>1.429530</td>\n",
       "      <td>7.0</td>\n",
       "      <td>6.812081</td>\n",
       "      <td>8.0</td>\n",
       "      <td>72.0</td>\n",
       "      <td>71.261745</td>\n",
       "      <td>0.0</td>\n",
       "      <td>...</td>\n",
       "      <td>1.08</td>\n",
       "      <td>52480</td>\n",
       "      <td>380.29</td>\n",
       "      <td>0</td>\n",
       "      <td>12</td>\n",
       "      <td>149</td>\n",
       "      <td>1.27</td>\n",
       "      <td>0</td>\n",
       "      <td>0</td>\n",
       "      <td>1</td>\n",
       "    </tr>\n",
       "    <tr>\n",
       "      <th>3</th>\n",
       "      <td>0.0</td>\n",
       "      <td>0.000000</td>\n",
       "      <td>0.0</td>\n",
       "      <td>1.088412</td>\n",
       "      <td>7.0</td>\n",
       "      <td>6.886695</td>\n",
       "      <td>5.0</td>\n",
       "      <td>70.0</td>\n",
       "      <td>69.526180</td>\n",
       "      <td>0.0</td>\n",
       "      <td>...</td>\n",
       "      <td>2.35</td>\n",
       "      <td>284610</td>\n",
       "      <td>574.97</td>\n",
       "      <td>2</td>\n",
       "      <td>98</td>\n",
       "      <td>1165</td>\n",
       "      <td>3.27</td>\n",
       "      <td>0</td>\n",
       "      <td>0</td>\n",
       "      <td>1</td>\n",
       "    </tr>\n",
       "    <tr>\n",
       "      <th>4</th>\n",
       "      <td>5.0</td>\n",
       "      <td>5.333333</td>\n",
       "      <td>0.0</td>\n",
       "      <td>0.768116</td>\n",
       "      <td>7.0</td>\n",
       "      <td>6.986111</td>\n",
       "      <td>6.0</td>\n",
       "      <td>69.5</td>\n",
       "      <td>68.305556</td>\n",
       "      <td>3.0</td>\n",
       "      <td>...</td>\n",
       "      <td>1.24</td>\n",
       "      <td>36974</td>\n",
       "      <td>637.48</td>\n",
       "      <td>0</td>\n",
       "      <td>8</td>\n",
       "      <td>71</td>\n",
       "      <td>1.06</td>\n",
       "      <td>1</td>\n",
       "      <td>0</td>\n",
       "      <td>0</td>\n",
       "    </tr>\n",
       "  </tbody>\n",
       "</table>\n",
       "<p>5 rows × 47 columns</p>\n",
       "</div>"
      ],
      "text/plain": [
       "   DurationMedianIP  DurationMeanIP  DurationMedianOP  DurationMeanOP  \\\n",
       "0               4.0        5.000000               0.0        0.550000   \n",
       "1               4.0        5.161290               0.0        2.357143   \n",
       "2               0.0        0.000000               0.0        1.429530   \n",
       "3               0.0        0.000000               0.0        1.088412   \n",
       "4               5.0        5.333333               0.0        0.768116   \n",
       "\n",
       "   ChronCondsMedian  ChronCondsMean  ChronConsMode  PtAgeMedian  PtAgeMean  \\\n",
       "0               6.0        5.760000            5.0         79.0  77.880000   \n",
       "1               7.0        6.674242            6.0         71.0  69.083333   \n",
       "2               7.0        6.812081            8.0         72.0  71.261745   \n",
       "3               7.0        6.886695            5.0         70.0  69.526180   \n",
       "4               7.0        6.986111            6.0         69.5  68.305556   \n",
       "\n",
       "   NumPtsIP  ...  ClmPerPt  TotalRev  RevPerPt  ClmNoPhy  ClmAllPhy  \\\n",
       "0       5.0  ...      1.04    109980   4582.50         0          2   \n",
       "1      53.0  ...      1.13    671956   5743.21         0          4   \n",
       "2       0.0  ...      1.08     52480    380.29         0         12   \n",
       "3       0.0  ...      2.35    284610    574.97         2         98   \n",
       "4       3.0  ...      1.24     36974    637.48         0          8   \n",
       "\n",
       "   ClmNoProc  ClmPerDt  Serves_Both Serves_IP  Serves_OP  \n",
       "0         23      1.09            1         0          0  \n",
       "1         93      1.19            1         0          0  \n",
       "2        149      1.27            0         0          1  \n",
       "3       1165      3.27            0         0          1  \n",
       "4         71      1.06            1         0          0  \n",
       "\n",
       "[5 rows x 47 columns]"
      ]
     },
     "execution_count": 19,
     "metadata": {},
     "output_type": "execute_result"
    }
   ],
   "source": [
    "X.head()"
   ]
  },
  {
   "cell_type": "code",
   "execution_count": 20,
   "metadata": {},
   "outputs": [
    {
     "data": {
      "text/plain": [
       "(5410, 47)"
      ]
     },
     "execution_count": 20,
     "metadata": {},
     "output_type": "execute_result"
    }
   ],
   "source": [
    "X.shape"
   ]
  },
  {
   "cell_type": "code",
   "execution_count": 21,
   "metadata": {},
   "outputs": [
    {
     "data": {
      "text/html": [
       "<div>\n",
       "<style scoped>\n",
       "    .dataframe tbody tr th:only-of-type {\n",
       "        vertical-align: middle;\n",
       "    }\n",
       "\n",
       "    .dataframe tbody tr th {\n",
       "        vertical-align: top;\n",
       "    }\n",
       "\n",
       "    .dataframe thead th {\n",
       "        text-align: right;\n",
       "    }\n",
       "</style>\n",
       "<table border=\"1\" class=\"dataframe\">\n",
       "  <thead>\n",
       "    <tr style=\"text-align: right;\">\n",
       "      <th></th>\n",
       "      <th>DurationMedianIP</th>\n",
       "      <th>DurationMeanIP</th>\n",
       "      <th>DurationMedianOP</th>\n",
       "      <th>DurationMeanOP</th>\n",
       "      <th>ChronCondsMedian</th>\n",
       "      <th>ChronCondsMean</th>\n",
       "      <th>ChronConsMode</th>\n",
       "      <th>PtAgeMedian</th>\n",
       "      <th>PtAgeMean</th>\n",
       "      <th>NumPtsIP</th>\n",
       "      <th>...</th>\n",
       "      <th>ClmPerPt</th>\n",
       "      <th>TotalRev</th>\n",
       "      <th>RevPerPt</th>\n",
       "      <th>ClmNoPhy</th>\n",
       "      <th>ClmAllPhy</th>\n",
       "      <th>ClmNoProc</th>\n",
       "      <th>ClmPerDt</th>\n",
       "      <th>Serves_Both</th>\n",
       "      <th>Serves_IP</th>\n",
       "      <th>Serves_OP</th>\n",
       "    </tr>\n",
       "  </thead>\n",
       "  <tbody>\n",
       "    <tr>\n",
       "      <th>0</th>\n",
       "      <td>4.0</td>\n",
       "      <td>5.000000</td>\n",
       "      <td>0.0</td>\n",
       "      <td>0.550000</td>\n",
       "      <td>6.0</td>\n",
       "      <td>5.760000</td>\n",
       "      <td>5.0</td>\n",
       "      <td>79.0</td>\n",
       "      <td>77.880000</td>\n",
       "      <td>5.0</td>\n",
       "      <td>...</td>\n",
       "      <td>1.04</td>\n",
       "      <td>109980</td>\n",
       "      <td>4582.50</td>\n",
       "      <td>0</td>\n",
       "      <td>2</td>\n",
       "      <td>23</td>\n",
       "      <td>1.09</td>\n",
       "      <td>1</td>\n",
       "      <td>0</td>\n",
       "      <td>0</td>\n",
       "    </tr>\n",
       "    <tr>\n",
       "      <th>1</th>\n",
       "      <td>4.0</td>\n",
       "      <td>5.161290</td>\n",
       "      <td>0.0</td>\n",
       "      <td>2.357143</td>\n",
       "      <td>7.0</td>\n",
       "      <td>6.674242</td>\n",
       "      <td>6.0</td>\n",
       "      <td>71.0</td>\n",
       "      <td>69.083333</td>\n",
       "      <td>53.0</td>\n",
       "      <td>...</td>\n",
       "      <td>1.13</td>\n",
       "      <td>671956</td>\n",
       "      <td>5743.21</td>\n",
       "      <td>0</td>\n",
       "      <td>4</td>\n",
       "      <td>93</td>\n",
       "      <td>1.19</td>\n",
       "      <td>1</td>\n",
       "      <td>0</td>\n",
       "      <td>0</td>\n",
       "    </tr>\n",
       "    <tr>\n",
       "      <th>2</th>\n",
       "      <td>0.0</td>\n",
       "      <td>0.000000</td>\n",
       "      <td>0.0</td>\n",
       "      <td>1.429530</td>\n",
       "      <td>7.0</td>\n",
       "      <td>6.812081</td>\n",
       "      <td>8.0</td>\n",
       "      <td>72.0</td>\n",
       "      <td>71.261745</td>\n",
       "      <td>0.0</td>\n",
       "      <td>...</td>\n",
       "      <td>1.08</td>\n",
       "      <td>52480</td>\n",
       "      <td>380.29</td>\n",
       "      <td>0</td>\n",
       "      <td>12</td>\n",
       "      <td>149</td>\n",
       "      <td>1.27</td>\n",
       "      <td>0</td>\n",
       "      <td>0</td>\n",
       "      <td>1</td>\n",
       "    </tr>\n",
       "    <tr>\n",
       "      <th>3</th>\n",
       "      <td>0.0</td>\n",
       "      <td>0.000000</td>\n",
       "      <td>0.0</td>\n",
       "      <td>1.088412</td>\n",
       "      <td>7.0</td>\n",
       "      <td>6.886695</td>\n",
       "      <td>5.0</td>\n",
       "      <td>70.0</td>\n",
       "      <td>69.526180</td>\n",
       "      <td>0.0</td>\n",
       "      <td>...</td>\n",
       "      <td>2.35</td>\n",
       "      <td>284610</td>\n",
       "      <td>574.97</td>\n",
       "      <td>2</td>\n",
       "      <td>98</td>\n",
       "      <td>1165</td>\n",
       "      <td>3.27</td>\n",
       "      <td>0</td>\n",
       "      <td>0</td>\n",
       "      <td>1</td>\n",
       "    </tr>\n",
       "    <tr>\n",
       "      <th>4</th>\n",
       "      <td>5.0</td>\n",
       "      <td>5.333333</td>\n",
       "      <td>0.0</td>\n",
       "      <td>0.768116</td>\n",
       "      <td>7.0</td>\n",
       "      <td>6.986111</td>\n",
       "      <td>6.0</td>\n",
       "      <td>69.5</td>\n",
       "      <td>68.305556</td>\n",
       "      <td>3.0</td>\n",
       "      <td>...</td>\n",
       "      <td>1.24</td>\n",
       "      <td>36974</td>\n",
       "      <td>637.48</td>\n",
       "      <td>0</td>\n",
       "      <td>8</td>\n",
       "      <td>71</td>\n",
       "      <td>1.06</td>\n",
       "      <td>1</td>\n",
       "      <td>0</td>\n",
       "      <td>0</td>\n",
       "    </tr>\n",
       "  </tbody>\n",
       "</table>\n",
       "<p>5 rows × 47 columns</p>\n",
       "</div>"
      ],
      "text/plain": [
       "   DurationMedianIP  DurationMeanIP  DurationMedianOP  DurationMeanOP  \\\n",
       "0               4.0        5.000000               0.0        0.550000   \n",
       "1               4.0        5.161290               0.0        2.357143   \n",
       "2               0.0        0.000000               0.0        1.429530   \n",
       "3               0.0        0.000000               0.0        1.088412   \n",
       "4               5.0        5.333333               0.0        0.768116   \n",
       "\n",
       "   ChronCondsMedian  ChronCondsMean  ChronConsMode  PtAgeMedian  PtAgeMean  \\\n",
       "0               6.0        5.760000            5.0         79.0  77.880000   \n",
       "1               7.0        6.674242            6.0         71.0  69.083333   \n",
       "2               7.0        6.812081            8.0         72.0  71.261745   \n",
       "3               7.0        6.886695            5.0         70.0  69.526180   \n",
       "4               7.0        6.986111            6.0         69.5  68.305556   \n",
       "\n",
       "   NumPtsIP  ...  ClmPerPt  TotalRev  RevPerPt  ClmNoPhy  ClmAllPhy  \\\n",
       "0       5.0  ...      1.04    109980   4582.50         0          2   \n",
       "1      53.0  ...      1.13    671956   5743.21         0          4   \n",
       "2       0.0  ...      1.08     52480    380.29         0         12   \n",
       "3       0.0  ...      2.35    284610    574.97         2         98   \n",
       "4       3.0  ...      1.24     36974    637.48         0          8   \n",
       "\n",
       "   ClmNoProc  ClmPerDt  Serves_Both Serves_IP  Serves_OP  \n",
       "0         23      1.09            1         0          0  \n",
       "1         93      1.19            1         0          0  \n",
       "2        149      1.27            0         0          1  \n",
       "3       1165      3.27            0         0          1  \n",
       "4         71      1.06            1         0          0  \n",
       "\n",
       "[5 rows x 47 columns]"
      ]
     },
     "execution_count": 21,
     "metadata": {},
     "output_type": "execute_result"
    }
   ],
   "source": [
    "X.head()"
   ]
  },
  {
   "cell_type": "code",
   "execution_count": 22,
   "metadata": {},
   "outputs": [
    {
     "data": {
      "text/plain": [
       "DurationMedianIP            float64\n",
       "DurationMeanIP              float64\n",
       "DurationMedianOP            float64\n",
       "DurationMeanOP              float64\n",
       "ChronCondsMedian            float64\n",
       "ChronCondsMean              float64\n",
       "ChronConsMode               float64\n",
       "PtAgeMedian                 float64\n",
       "PtAgeMean                   float64\n",
       "NumPtsIP                    float64\n",
       "NumPtsOP                    float64\n",
       "NumStatesIP                 float64\n",
       "NumStatesOP                 float64\n",
       "SharePhysician              float64\n",
       "MergeAvgClaimReimbursed     float64\n",
       "NumTopCodeClaim             float64\n",
       "DupClaimNum_IP              float64\n",
       "DupClaimRatio_IP            float64\n",
       "DupClaim_IP                  object\n",
       "DupClaimStatesNum_IP        float64\n",
       "DupClaimMultiState_IP        object\n",
       "DupClaimProviderNum_IP      float64\n",
       "DupClaimMultiProvider_IP     object\n",
       "DupClaimStartDtNum_IP       float64\n",
       "DupClaimMultiStartDt_IP      object\n",
       "DupClaimNum_OP              float64\n",
       "DupClaimRatio_OP            float64\n",
       "DupClaim_OP                  object\n",
       "DupClaimStatesNum_OP        float64\n",
       "DupClaimMultiState_OP        object\n",
       "DupClaimProviderNum_OP      float64\n",
       "DupClaimMultiProvider_OP     object\n",
       "DupClaimStartDtNum_OP       float64\n",
       "DupClaimMultiStartDt_OP      object\n",
       "AvgDuration                 float64\n",
       "NumOfPt                       int64\n",
       "NumOfClm                      int64\n",
       "ClmPerPt                    float64\n",
       "TotalRev                      int64\n",
       "RevPerPt                    float64\n",
       "ClmNoPhy                      int64\n",
       "ClmAllPhy                     int64\n",
       "ClmNoProc                     int64\n",
       "ClmPerDt                    float64\n",
       "Serves_Both                   uint8\n",
       "Serves_IP                     uint8\n",
       "Serves_OP                     uint8\n",
       "dtype: object"
      ]
     },
     "execution_count": 22,
     "metadata": {},
     "output_type": "execute_result"
    }
   ],
   "source": [
    "X.dtypes"
   ]
  },
  {
   "cell_type": "code",
   "execution_count": 23,
   "metadata": {},
   "outputs": [
    {
     "data": {
      "text/plain": [
       "array(['yes', 'no'], dtype=object)"
      ]
     },
     "execution_count": 23,
     "metadata": {},
     "output_type": "execute_result"
    }
   ],
   "source": [
    "X['DupClaimMultiStartDt_OP'].unique()"
   ]
  },
  {
   "cell_type": "code",
   "execution_count": 24,
   "metadata": {},
   "outputs": [
    {
     "data": {
      "text/plain": [
       "array(['yes', 'no'], dtype=object)"
      ]
     },
     "execution_count": 24,
     "metadata": {},
     "output_type": "execute_result"
    }
   ],
   "source": [
    "X['DupClaimMultiState_OP'].unique()"
   ]
  },
  {
   "cell_type": "code",
   "execution_count": 25,
   "metadata": {},
   "outputs": [
    {
     "data": {
      "text/plain": [
       "array([ 0.,  1.,  3.,  2.,  7., 10.,  9.,  4.,  6., 11.,  5.,  8., 22.,\n",
       "       13., 15., 19.])"
      ]
     },
     "execution_count": 25,
     "metadata": {},
     "output_type": "execute_result"
    }
   ],
   "source": [
    "X['DupClaimNum_IP'].unique()"
   ]
  },
  {
   "cell_type": "code",
   "execution_count": 26,
   "metadata": {},
   "outputs": [
    {
     "data": {
      "text/plain": [
       "array([ 0.,  1.,  3.,  2.,  7., 10.,  9.,  4.,  6., 11.,  5.,  8., 22.,\n",
       "       13., 15., 19.])"
      ]
     },
     "execution_count": 26,
     "metadata": {},
     "output_type": "execute_result"
    }
   ],
   "source": [
    "X['DupClaimNum_IP'].unique()"
   ]
  },
  {
   "cell_type": "code",
   "execution_count": 27,
   "metadata": {},
   "outputs": [
    {
     "data": {
      "text/plain": [
       "array(['no', 'yes'], dtype=object)"
      ]
     },
     "execution_count": 27,
     "metadata": {},
     "output_type": "execute_result"
    }
   ],
   "source": [
    "X['DupClaimMultiProvider_IP'].unique()"
   ]
  },
  {
   "cell_type": "code",
   "execution_count": 28,
   "metadata": {},
   "outputs": [],
   "source": [
    "#X['DupClaimNum_OP'].unique()"
   ]
  },
  {
   "cell_type": "code",
   "execution_count": 29,
   "metadata": {},
   "outputs": [
    {
     "data": {
      "text/plain": [
       "array(['yes', 'no'], dtype=object)"
      ]
     },
     "execution_count": 29,
     "metadata": {},
     "output_type": "execute_result"
    }
   ],
   "source": [
    "X['DupClaim_OP'].unique()"
   ]
  },
  {
   "cell_type": "code",
   "execution_count": 30,
   "metadata": {},
   "outputs": [
    {
     "data": {
      "text/plain": [
       "array(['yes', 'no'], dtype=object)"
      ]
     },
     "execution_count": 30,
     "metadata": {},
     "output_type": "execute_result"
    }
   ],
   "source": [
    "X['DupClaimMultiState_OP'].unique()"
   ]
  },
  {
   "cell_type": "code",
   "execution_count": 31,
   "metadata": {},
   "outputs": [
    {
     "data": {
      "text/plain": [
       "array(['yes', 'no'], dtype=object)"
      ]
     },
     "execution_count": 31,
     "metadata": {},
     "output_type": "execute_result"
    }
   ],
   "source": [
    "X['DupClaimMultiProvider_OP'].unique()"
   ]
  },
  {
   "cell_type": "code",
   "execution_count": 32,
   "metadata": {},
   "outputs": [
    {
     "data": {
      "text/plain": [
       "array(['yes', 'no'], dtype=object)"
      ]
     },
     "execution_count": 32,
     "metadata": {},
     "output_type": "execute_result"
    }
   ],
   "source": [
    "X['DupClaimMultiStartDt_OP'].unique()"
   ]
  },
  {
   "cell_type": "code",
   "execution_count": 33,
   "metadata": {},
   "outputs": [],
   "source": [
    "X = pd.get_dummies(X)"
   ]
  },
  {
   "cell_type": "code",
   "execution_count": 34,
   "metadata": {},
   "outputs": [
    {
     "data": {
      "text/plain": [
       "(5410, 55)"
      ]
     },
     "execution_count": 34,
     "metadata": {},
     "output_type": "execute_result"
    }
   ],
   "source": [
    "X.shape"
   ]
  },
  {
   "cell_type": "code",
   "execution_count": 35,
   "metadata": {},
   "outputs": [
    {
     "data": {
      "text/html": [
       "<div>\n",
       "<style scoped>\n",
       "    .dataframe tbody tr th:only-of-type {\n",
       "        vertical-align: middle;\n",
       "    }\n",
       "\n",
       "    .dataframe tbody tr th {\n",
       "        vertical-align: top;\n",
       "    }\n",
       "\n",
       "    .dataframe thead th {\n",
       "        text-align: right;\n",
       "    }\n",
       "</style>\n",
       "<table border=\"1\" class=\"dataframe\">\n",
       "  <thead>\n",
       "    <tr style=\"text-align: right;\">\n",
       "      <th></th>\n",
       "      <th>AvgDuration</th>\n",
       "      <th>NumOfPt</th>\n",
       "      <th>NumOfClm</th>\n",
       "      <th>ClmPerPt</th>\n",
       "      <th>TotalRev</th>\n",
       "      <th>RevPerPt</th>\n",
       "      <th>ClmNoPhy</th>\n",
       "      <th>ClmAllPhy</th>\n",
       "      <th>ClmNoProc</th>\n",
       "      <th>ClmPerDt</th>\n",
       "    </tr>\n",
       "  </thead>\n",
       "  <tbody>\n",
       "    <tr>\n",
       "      <th>0</th>\n",
       "      <td>3.67</td>\n",
       "      <td>117</td>\n",
       "      <td>132</td>\n",
       "      <td>1.13</td>\n",
       "      <td>671956</td>\n",
       "      <td>5743.21</td>\n",
       "      <td>0</td>\n",
       "      <td>4</td>\n",
       "      <td>93</td>\n",
       "      <td>1.19</td>\n",
       "    </tr>\n",
       "    <tr>\n",
       "      <th>1</th>\n",
       "      <td>1.09</td>\n",
       "      <td>495</td>\n",
       "      <td>1165</td>\n",
       "      <td>2.35</td>\n",
       "      <td>284610</td>\n",
       "      <td>574.97</td>\n",
       "      <td>2</td>\n",
       "      <td>98</td>\n",
       "      <td>1165</td>\n",
       "      <td>3.27</td>\n",
       "    </tr>\n",
       "    <tr>\n",
       "      <th>2</th>\n",
       "      <td>2.00</td>\n",
       "      <td>208</td>\n",
       "      <td>257</td>\n",
       "      <td>1.24</td>\n",
       "      <td>380322</td>\n",
       "      <td>1828.47</td>\n",
       "      <td>1</td>\n",
       "      <td>17</td>\n",
       "      <td>240</td>\n",
       "      <td>1.46</td>\n",
       "    </tr>\n",
       "    <tr>\n",
       "      <th>3</th>\n",
       "      <td>1.53</td>\n",
       "      <td>206</td>\n",
       "      <td>454</td>\n",
       "      <td>2.20</td>\n",
       "      <td>367754</td>\n",
       "      <td>1785.21</td>\n",
       "      <td>3</td>\n",
       "      <td>37</td>\n",
       "      <td>445</td>\n",
       "      <td>1.66</td>\n",
       "    </tr>\n",
       "    <tr>\n",
       "      <th>4</th>\n",
       "      <td>2.28</td>\n",
       "      <td>37</td>\n",
       "      <td>46</td>\n",
       "      <td>1.24</td>\n",
       "      <td>33146</td>\n",
       "      <td>895.84</td>\n",
       "      <td>0</td>\n",
       "      <td>3</td>\n",
       "      <td>45</td>\n",
       "      <td>1.10</td>\n",
       "    </tr>\n",
       "  </tbody>\n",
       "</table>\n",
       "</div>"
      ],
      "text/plain": [
       "   AvgDuration  NumOfPt  NumOfClm  ClmPerPt  TotalRev  RevPerPt  ClmNoPhy  \\\n",
       "0         3.67      117       132      1.13    671956   5743.21         0   \n",
       "1         1.09      495      1165      2.35    284610    574.97         2   \n",
       "2         2.00      208       257      1.24    380322   1828.47         1   \n",
       "3         1.53      206       454      2.20    367754   1785.21         3   \n",
       "4         2.28       37        46      1.24     33146    895.84         0   \n",
       "\n",
       "   ClmAllPhy  ClmNoProc  ClmPerDt  \n",
       "0          4         93      1.19  \n",
       "1         98       1165      3.27  \n",
       "2         17        240      1.46  \n",
       "3         37        445      1.66  \n",
       "4          3         45      1.10  "
      ]
     },
     "execution_count": 35,
     "metadata": {},
     "output_type": "execute_result"
    }
   ],
   "source": [
    "X_el.head()"
   ]
  },
  {
   "cell_type": "code",
   "execution_count": 36,
   "metadata": {},
   "outputs": [],
   "source": [
    "y = df['PotentialFraud']"
   ]
  },
  {
   "cell_type": "code",
   "execution_count": 37,
   "metadata": {},
   "outputs": [],
   "source": [
    "y_el = df_el['PotentialFraud']"
   ]
  },
  {
   "cell_type": "code",
   "execution_count": 38,
   "metadata": {},
   "outputs": [],
   "source": [
    "X.to_pickle(\"./X.pkl\")"
   ]
  },
  {
   "cell_type": "code",
   "execution_count": 39,
   "metadata": {},
   "outputs": [],
   "source": [
    "y.to_pickle(\"./y.pkl\")"
   ]
  },
  {
   "cell_type": "markdown",
   "metadata": {},
   "source": [
    "## Pipelining"
   ]
  },
  {
   "cell_type": "code",
   "execution_count": 103,
   "metadata": {},
   "outputs": [],
   "source": [
    "from sklearn.linear_model import LogisticRegression"
   ]
  },
  {
   "cell_type": "code",
   "execution_count": 105,
   "metadata": {},
   "outputs": [],
   "source": [
    "#SMOTE?\n"
   ]
  },
  {
   "cell_type": "code",
   "execution_count": 106,
   "metadata": {},
   "outputs": [],
   "source": [
    "resampling = SMOTE(random_state = 42)"
   ]
  },
  {
   "cell_type": "code",
   "execution_count": 107,
   "metadata": {},
   "outputs": [],
   "source": [
    "model = LogisticRegression(solver = 'liblinear', \\\n",
    "                           penalty = 'l1',\\\n",
    "                           class_weight = 'balanced')"
   ]
  },
  {
   "cell_type": "code",
   "execution_count": 108,
   "metadata": {},
   "outputs": [],
   "source": [
    "pipeline = Pipeline([('SMOTE', resampling), ('Logistic Regression', model)])"
   ]
  },
  {
   "cell_type": "code",
   "execution_count": 109,
   "metadata": {},
   "outputs": [],
   "source": [
    "from sklearn.model_selection import train_test_split\n",
    "\n",
    "X_train, X_test, y_train, y_test = train_test_split(X, y, test_size=0.30,\\\n",
    "                        random_state = 0)"
   ]
  },
  {
   "cell_type": "code",
   "execution_count": 50,
   "metadata": {},
   "outputs": [],
   "source": [
    "pipeline.fit(X_train, y_train)\n",
    "pip_predict = pipeline.predict(X_test)"
   ]
  },
  {
   "cell_type": "code",
   "execution_count": 53,
   "metadata": {},
   "outputs": [
    {
     "name": "stdout",
     "output_type": "stream",
     "text": [
      "Classification report:\n",
      "               precision    recall  f1-score   support\n",
      "\n",
      "           0       0.97      0.94      0.96      1474\n",
      "           1       0.56      0.76      0.65       149\n",
      "\n",
      "    accuracy                           0.92      1623\n",
      "   macro avg       0.77      0.85      0.80      1623\n",
      "weighted avg       0.94      0.92      0.93      1623\n",
      "\n"
     ]
    }
   ],
   "source": [
    "print(\"Classification report:\\n\", classification_report(y_test, pip_predict))"
   ]
  },
  {
   "cell_type": "code",
   "execution_count": 54,
   "metadata": {},
   "outputs": [],
   "source": [
    "cm = metrics.confusion_matrix(y_test, pip_predict)"
   ]
  },
  {
   "cell_type": "code",
   "execution_count": 55,
   "metadata": {},
   "outputs": [
    {
     "name": "stdout",
     "output_type": "stream",
     "text": [
      "Confusion Matrix:\n",
      " [[1387   87]\n",
      " [  36  113]]\n"
     ]
    }
   ],
   "source": [
    "print(\"Confusion Matrix:\\n\", cm)"
   ]
  },
  {
   "cell_type": "code",
   "execution_count": 72,
   "metadata": {},
   "outputs": [],
   "source": [
    "probs = model.predict_proba(X_test)"
   ]
  },
  {
   "cell_type": "code",
   "execution_count": 75,
   "metadata": {},
   "outputs": [],
   "source": [
    "roc_auc = metrics.roc_auc_score(y_test, probs[:,1])"
   ]
  },
  {
   "cell_type": "code",
   "execution_count": 80,
   "metadata": {},
   "outputs": [
    {
     "name": "stdout",
     "output_type": "stream",
     "text": [
      "ROC score is  0.939\n"
     ]
    }
   ],
   "source": [
    "print(\"ROC score is \", round(roc_auc, 3))"
   ]
  },
  {
   "cell_type": "markdown",
   "metadata": {},
   "source": [
    "##  Linear Regression"
   ]
  },
  {
   "cell_type": "code",
   "execution_count": 119,
   "metadata": {},
   "outputs": [],
   "source": [
    "from sklearn.linear_model import LogisticRegression\n",
    "\n",
    "from sklearn.utils.class_weight import compute_class_weight"
   ]
  },
  {
   "cell_type": "code",
   "execution_count": 124,
   "metadata": {},
   "outputs": [],
   "source": [
    "weighting = compute_class_weight('balanced', [0,1], y)"
   ]
  },
  {
   "cell_type": "code",
   "execution_count": 125,
   "metadata": {},
   "outputs": [
    {
     "name": "stdout",
     "output_type": "stream",
     "text": [
      "The weight for no fraud is 0.55\n",
      "The weight for potential fraud is 5.35\n"
     ]
    }
   ],
   "source": [
    "print('The weight for no fraud is', weighting[0].round(2))\n",
    "print('The weight for potential fraud is', weighting[1].round(2))"
   ]
  },
  {
   "cell_type": "code",
   "execution_count": 126,
   "metadata": {},
   "outputs": [],
   "source": [
    "weights = {0:0.55, 1:5.35}"
   ]
  },
  {
   "cell_type": "code",
   "execution_count": 127,
   "metadata": {},
   "outputs": [],
   "source": [
    "lgt = LogisticRegression(\\\n",
    "                         #l1_ratio = 1,\n",
    "                        penalty = 'l1',\n",
    "                         max_iter = 1000,\n",
    "                         solver = 'liblinear', \\\n",
    "                         class_weight = weights)\n",
    "                         #class_weight = \"balanced\")"
   ]
  },
  {
   "cell_type": "code",
   "execution_count": 128,
   "metadata": {},
   "outputs": [],
   "source": [
    "from sklearn.model_selection import train_test_split\n",
    "\n",
    "X_train, X_test, y_train, y_test = train_test_split(X, y, test_size=0.20,\\\n",
    "                        random_state = 0, stratify = y)"
   ]
  },
  {
   "cell_type": "code",
   "execution_count": 129,
   "metadata": {},
   "outputs": [],
   "source": [
    "grid = {\"C\": np.logspace(-4, 4, 20), \"penalty\": [\"l1\",\"l2\"]}"
   ]
  },
  {
   "cell_type": "code",
   "execution_count": 130,
   "metadata": {},
   "outputs": [],
   "source": [
    "scoring = {\\\n",
    "           'AUC': 'roc_auc',\\\n",
    "           'f1': 'f1'}"
   ]
  },
  {
   "cell_type": "code",
   "execution_count": 131,
   "metadata": {},
   "outputs": [],
   "source": [
    "lgt_cv = GridSearchCV(lgt, grid, scoring = scoring,\\\n",
    "                      refit = 'AUC', \\\n",
    "                      return_train_score = True, \\\n",
    "                      cv = 10, n_jobs = -1)"
   ]
  },
  {
   "cell_type": "code",
   "execution_count": 132,
   "metadata": {},
   "outputs": [
    {
     "data": {
      "text/plain": [
       "GridSearchCV(cv=10,\n",
       "             estimator=LogisticRegression(class_weight={0: 0.55, 1: 5.35},\n",
       "                                          max_iter=1000, penalty='l1',\n",
       "                                          solver='liblinear'),\n",
       "             n_jobs=-1,\n",
       "             param_grid={'C': array([1.00000000e-04, 2.63665090e-04, 6.95192796e-04, 1.83298071e-03,\n",
       "       4.83293024e-03, 1.27427499e-02, 3.35981829e-02, 8.85866790e-02,\n",
       "       2.33572147e-01, 6.15848211e-01, 1.62377674e+00, 4.28133240e+00,\n",
       "       1.12883789e+01, 2.97635144e+01, 7.84759970e+01, 2.06913808e+02,\n",
       "       5.45559478e+02, 1.43844989e+03, 3.79269019e+03, 1.00000000e+04]),\n",
       "                         'penalty': ['l1', 'l2']},\n",
       "             refit='AUC', return_train_score=True,\n",
       "             scoring={'AUC': 'roc_auc', 'f1': 'f1'})"
      ]
     },
     "execution_count": 132,
     "metadata": {},
     "output_type": "execute_result"
    }
   ],
   "source": [
    "lgt_cv.fit(X_train, y_train)"
   ]
  },
  {
   "cell_type": "code",
   "execution_count": 133,
   "metadata": {},
   "outputs": [
    {
     "data": {
      "text/plain": [
       "{'mean_fit_time': array([0.06485963, 0.16904142, 0.09510107, 0.17513025, 0.1082942 ,\n",
       "        0.17448442, 0.13067164, 0.1581207 , 0.1754122 , 0.15151753,\n",
       "        0.28155913, 0.15985005, 0.30583873, 0.17462189, 0.59102445,\n",
       "        0.15971925, 0.65745363, 0.17931962, 0.57870052, 0.16285987,\n",
       "        0.9049072 , 0.16792064, 0.60123131, 0.21299865, 0.90693364,\n",
       "        0.20629165, 0.8488121 , 0.19746249, 0.83693693, 0.19581327,\n",
       "        0.58909695, 0.17949936, 0.64263039, 0.18019729, 0.76432927,\n",
       "        0.18644621, 0.56470211, 0.20304995, 0.68067343, 0.17518659]),\n",
       " 'std_fit_time': array([0.01249547, 0.01422762, 0.03926555, 0.01249407, 0.02959724,\n",
       "        0.01984706, 0.05389558, 0.02748609, 0.07240349, 0.03307395,\n",
       "        0.12357524, 0.02218903, 0.1038663 , 0.03345587, 0.32480777,\n",
       "        0.03383108, 0.24845877, 0.02570257, 0.26711169, 0.02007337,\n",
       "        0.46551409, 0.01660953, 0.25442435, 0.03418746, 0.76155952,\n",
       "        0.03302161, 0.27947151, 0.040446  , 0.61335886, 0.02010662,\n",
       "        0.31541231, 0.01208709, 0.37883205, 0.01771007, 0.3793015 ,\n",
       "        0.02445736, 0.23817634, 0.03369659, 0.28769896, 0.02421651]),\n",
       " 'mean_score_time': array([0.01568854, 0.01755538, 0.01408775, 0.01750948, 0.01323082,\n",
       "        0.01762397, 0.01644986, 0.01428239, 0.01439629, 0.01722798,\n",
       "        0.01680779, 0.01663432, 0.01546998, 0.02069421, 0.02008731,\n",
       "        0.01926842, 0.01659944, 0.02032042, 0.01947315, 0.01835954,\n",
       "        0.02326369, 0.02181458, 0.02484107, 0.02388742, 0.02199483,\n",
       "        0.01768348, 0.01843126, 0.01767855, 0.01965883, 0.01748219,\n",
       "        0.02201965, 0.02396307, 0.01700027, 0.01734369, 0.01709499,\n",
       "        0.01666811, 0.01788657, 0.01686745, 0.01793513, 0.01767466]),\n",
       " 'std_score_time': array([0.00227019, 0.0034115 , 0.00191917, 0.00458924, 0.00107717,\n",
       "        0.00236651, 0.00326795, 0.00263288, 0.00222634, 0.00372283,\n",
       "        0.00420422, 0.0044358 , 0.00221759, 0.00555871, 0.0040407 ,\n",
       "        0.00307733, 0.00244604, 0.00455543, 0.0037622 , 0.003051  ,\n",
       "        0.00494277, 0.00495174, 0.00682458, 0.00254066, 0.00522379,\n",
       "        0.00344683, 0.00260027, 0.00389517, 0.00576111, 0.00444174,\n",
       "        0.00500713, 0.00592227, 0.00303767, 0.00352863, 0.00442656,\n",
       "        0.0040663 , 0.0035449 , 0.00438082, 0.0056592 , 0.00472733]),\n",
       " 'param_C': masked_array(data=[0.0001, 0.0001, 0.00026366508987303583,\n",
       "                    0.00026366508987303583, 0.0006951927961775605,\n",
       "                    0.0006951927961775605, 0.0018329807108324356,\n",
       "                    0.0018329807108324356, 0.004832930238571752,\n",
       "                    0.004832930238571752, 0.012742749857031334,\n",
       "                    0.012742749857031334, 0.03359818286283781,\n",
       "                    0.03359818286283781, 0.08858667904100823,\n",
       "                    0.08858667904100823, 0.23357214690901212,\n",
       "                    0.23357214690901212, 0.615848211066026,\n",
       "                    0.615848211066026, 1.623776739188721,\n",
       "                    1.623776739188721, 4.281332398719396,\n",
       "                    4.281332398719396, 11.288378916846883,\n",
       "                    11.288378916846883, 29.763514416313132,\n",
       "                    29.763514416313132, 78.47599703514607,\n",
       "                    78.47599703514607, 206.913808111479, 206.913808111479,\n",
       "                    545.5594781168514, 545.5594781168514, 1438.44988828766,\n",
       "                    1438.44988828766, 3792.690190732246, 3792.690190732246,\n",
       "                    10000.0, 10000.0],\n",
       "              mask=[False, False, False, False, False, False, False, False,\n",
       "                    False, False, False, False, False, False, False, False,\n",
       "                    False, False, False, False, False, False, False, False,\n",
       "                    False, False, False, False, False, False, False, False,\n",
       "                    False, False, False, False, False, False, False, False],\n",
       "        fill_value='?',\n",
       "             dtype=object),\n",
       " 'param_penalty': masked_array(data=['l1', 'l2', 'l1', 'l2', 'l1', 'l2', 'l1', 'l2', 'l1',\n",
       "                    'l2', 'l1', 'l2', 'l1', 'l2', 'l1', 'l2', 'l1', 'l2',\n",
       "                    'l1', 'l2', 'l1', 'l2', 'l1', 'l2', 'l1', 'l2', 'l1',\n",
       "                    'l2', 'l1', 'l2', 'l1', 'l2', 'l1', 'l2', 'l1', 'l2',\n",
       "                    'l1', 'l2', 'l1', 'l2'],\n",
       "              mask=[False, False, False, False, False, False, False, False,\n",
       "                    False, False, False, False, False, False, False, False,\n",
       "                    False, False, False, False, False, False, False, False,\n",
       "                    False, False, False, False, False, False, False, False,\n",
       "                    False, False, False, False, False, False, False, False],\n",
       "        fill_value='?',\n",
       "             dtype=object),\n",
       " 'params': [{'C': 0.0001, 'penalty': 'l1'},\n",
       "  {'C': 0.0001, 'penalty': 'l2'},\n",
       "  {'C': 0.00026366508987303583, 'penalty': 'l1'},\n",
       "  {'C': 0.00026366508987303583, 'penalty': 'l2'},\n",
       "  {'C': 0.0006951927961775605, 'penalty': 'l1'},\n",
       "  {'C': 0.0006951927961775605, 'penalty': 'l2'},\n",
       "  {'C': 0.0018329807108324356, 'penalty': 'l1'},\n",
       "  {'C': 0.0018329807108324356, 'penalty': 'l2'},\n",
       "  {'C': 0.004832930238571752, 'penalty': 'l1'},\n",
       "  {'C': 0.004832930238571752, 'penalty': 'l2'},\n",
       "  {'C': 0.012742749857031334, 'penalty': 'l1'},\n",
       "  {'C': 0.012742749857031334, 'penalty': 'l2'},\n",
       "  {'C': 0.03359818286283781, 'penalty': 'l1'},\n",
       "  {'C': 0.03359818286283781, 'penalty': 'l2'},\n",
       "  {'C': 0.08858667904100823, 'penalty': 'l1'},\n",
       "  {'C': 0.08858667904100823, 'penalty': 'l2'},\n",
       "  {'C': 0.23357214690901212, 'penalty': 'l1'},\n",
       "  {'C': 0.23357214690901212, 'penalty': 'l2'},\n",
       "  {'C': 0.615848211066026, 'penalty': 'l1'},\n",
       "  {'C': 0.615848211066026, 'penalty': 'l2'},\n",
       "  {'C': 1.623776739188721, 'penalty': 'l1'},\n",
       "  {'C': 1.623776739188721, 'penalty': 'l2'},\n",
       "  {'C': 4.281332398719396, 'penalty': 'l1'},\n",
       "  {'C': 4.281332398719396, 'penalty': 'l2'},\n",
       "  {'C': 11.288378916846883, 'penalty': 'l1'},\n",
       "  {'C': 11.288378916846883, 'penalty': 'l2'},\n",
       "  {'C': 29.763514416313132, 'penalty': 'l1'},\n",
       "  {'C': 29.763514416313132, 'penalty': 'l2'},\n",
       "  {'C': 78.47599703514607, 'penalty': 'l1'},\n",
       "  {'C': 78.47599703514607, 'penalty': 'l2'},\n",
       "  {'C': 206.913808111479, 'penalty': 'l1'},\n",
       "  {'C': 206.913808111479, 'penalty': 'l2'},\n",
       "  {'C': 545.5594781168514, 'penalty': 'l1'},\n",
       "  {'C': 545.5594781168514, 'penalty': 'l2'},\n",
       "  {'C': 1438.44988828766, 'penalty': 'l1'},\n",
       "  {'C': 1438.44988828766, 'penalty': 'l2'},\n",
       "  {'C': 3792.690190732246, 'penalty': 'l1'},\n",
       "  {'C': 3792.690190732246, 'penalty': 'l2'},\n",
       "  {'C': 10000.0, 'penalty': 'l1'},\n",
       "  {'C': 10000.0, 'penalty': 'l2'}],\n",
       " 'split0_test_AUC': array([0.93295165, 0.93486005, 0.9403944 , 0.93759542, 0.94166667,\n",
       "        0.93562341, 0.94147583, 0.94115776, 0.93899491, 0.93390585,\n",
       "        0.94357506, 0.93384224, 0.94586514, 0.93880407, 0.94624682,\n",
       "        0.94013995, 0.9456743 , 0.9355598 , 0.94503817, 0.93575064,\n",
       "        0.94408397, 0.93861323, 0.94452926, 0.94153944, 0.94293893,\n",
       "        0.93924936, 0.94173028, 0.93676845, 0.9437659 , 0.9360687 ,\n",
       "        0.94382952, 0.94217557, 0.94287532, 0.94217557, 0.94395674,\n",
       "        0.93689567, 0.94185751, 0.93854962, 0.943257  , 0.93867684]),\n",
       " 'split1_test_AUC': array([0.91399491, 0.93237913, 0.92862595, 0.93148855, 0.92945293,\n",
       "        0.93161578, 0.93396947, 0.93498728, 0.93651399, 0.93765903,\n",
       "        0.93816794, 0.93536896, 0.93727735, 0.93008906, 0.93734097,\n",
       "        0.93008906, 0.93886768, 0.93187023, 0.93969466, 0.93428753,\n",
       "        0.94083969, 0.9355598 , 0.94077608, 0.93473282, 0.94090331,\n",
       "        0.93695929, 0.94115776, 0.93008906, 0.94096692, 0.93199746,\n",
       "        0.94064885, 0.93008906, 0.94122137, 0.93008906, 0.94077608,\n",
       "        0.93008906, 0.94071247, 0.93428753, 0.94064885, 0.93473282]),\n",
       " 'split2_test_AUC': array([0.93772265, 0.95101781, 0.94484733, 0.95120865, 0.95108142,\n",
       "        0.95120865, 0.95375318, 0.95139949, 0.9557888 , 0.95133588,\n",
       "        0.95572519, 0.95127226, 0.95559796, 0.95139949, 0.95547074,\n",
       "        0.95063613, 0.95451654, 0.95400763, 0.95445293, 0.95076336,\n",
       "        0.95426209, 0.94993639, 0.95400763, 0.95139949, 0.95464377,\n",
       "        0.95120865, 0.95451654, 0.95089059, 0.95496183, 0.95025445,\n",
       "        0.95458015, 0.95139949, 0.95508906, 0.95076336, 0.95438931,\n",
       "        0.95108142, 0.95489822, 0.95063613, 0.95451654, 0.95108142]),\n",
       " 'split3_test_AUC': array([0.92023395, 0.93199353, 0.93068691, 0.93242907, 0.92981583,\n",
       "        0.93180687, 0.94107765, 0.93224241, 0.94630413, 0.93280239,\n",
       "        0.95190393, 0.93261573, 0.95327277, 0.93292683, 0.95545047,\n",
       "        0.93280239, 0.95644599, 0.93255351, 0.95663265, 0.93274017,\n",
       "        0.95644599, 0.93274017, 0.95625933, 0.93286461, 0.95569935,\n",
       "        0.93168243, 0.95569935, 0.93255351, 0.95594823, 0.93261573,\n",
       "        0.95569935, 0.93323793, 0.95563713, 0.93261573, 0.95601045,\n",
       "        0.93267795, 0.95569935, 0.93305127, 0.95588601, 0.93267795]),\n",
       " 'split4_test_AUC': array([0.91674963, 0.90841215, 0.90598556, 0.90797661, 0.90505226,\n",
       "        0.90735441, 0.91650075, 0.90772773, 0.92110503, 0.90772773,\n",
       "        0.92266053, 0.90772773, 0.92633151, 0.90760329, 0.92458935,\n",
       "        0.91214535, 0.92154057, 0.91214535, 0.92166501, 0.90722997,\n",
       "        0.92222499, 0.90772773, 0.92178945, 0.90766551, 0.92197611,\n",
       "        0.90766551, 0.92154057, 0.90722997, 0.92185167, 0.90766551,\n",
       "        0.92035839, 0.90766551, 0.92191389, 0.90772773, 0.92154057,\n",
       "        0.90766551, 0.92066949, 0.90722997, 0.92185167, 0.90766551]),\n",
       " 'split5_test_AUC': array([0.94499751, 0.94860627, 0.94754853, 0.94823295, 0.94680189,\n",
       "        0.94649079, 0.94767297, 0.94860627, 0.94586859, 0.94873071,\n",
       "        0.94530861, 0.94904181, 0.94425087, 0.94916625, 0.94337979,\n",
       "        0.94879293, 0.94319313, 0.94879293, 0.94518417, 0.94804629,\n",
       "        0.94705077, 0.94854405, 0.95302389, 0.94873071, 0.95115729,\n",
       "        0.94804629, 0.95215281, 0.94866849, 0.95134395, 0.94860627,\n",
       "        0.94922847, 0.94904181, 0.94929069, 0.94860627, 0.95041065,\n",
       "        0.94910403, 0.95215281, 0.94866849, 0.95321055, 0.94879293]),\n",
       " 'split6_test_AUC': array([0.84183673, 0.88831508, 0.88140866, 0.88800398, 0.88470632,\n",
       "        0.88812842, 0.89285714, 0.88800398, 0.89683922, 0.88800398,\n",
       "        0.90872325, 0.88800398, 0.91457193, 0.8868218 , 0.91413639,\n",
       "        0.88800398, 0.91307865, 0.88800398, 0.91170981, 0.88800398,\n",
       "        0.91158537, 0.88800398, 0.91202091, 0.88800398, 0.91208313,\n",
       "        0.88794176, 0.91183425, 0.88800398, 0.91202091, 0.8880662 ,\n",
       "        0.91158537, 0.88800398, 0.91146093, 0.88800398, 0.91183425,\n",
       "        0.88800398, 0.91164759, 0.88700846, 0.91158537, 0.88800398]),\n",
       " 'split7_test_AUC': array([0.91251867, 0.94630413, 0.93952215, 0.94505973, 0.94344201,\n",
       "        0.94586859, 0.94642857, 0.94456197, 0.94673967, 0.94505973,\n",
       "        0.95072175, 0.94456197, 0.95103285, 0.94723743, 0.95196615,\n",
       "        0.94561971, 0.95109507, 0.94474863, 0.95084619, 0.94456197,\n",
       "        0.95146839, 0.94586859, 0.95003733, 0.94512195, 0.95022399,\n",
       "        0.94487307, 0.94997511, 0.94505973, 0.94991289, 0.94406421,\n",
       "        0.95016177, 0.94493529, 0.94985067, 0.94512195, 0.95003733,\n",
       "        0.94630413, 0.95009955, 0.94406421, 0.94972623, 0.94325535]),\n",
       " 'split8_test_AUC': array([0.95325255, 0.94445153, 0.95765306, 0.94375   , 0.9526148 ,\n",
       "        0.94368622, 0.95      , 0.94355867, 0.94617347, 0.94355867,\n",
       "        0.95522959, 0.94355867, 0.96167092, 0.94355867, 0.96409439,\n",
       "        0.94355867, 0.96498724, 0.94355867, 0.96581633, 0.94355867,\n",
       "        0.96594388, 0.94355867, 0.9661352 , 0.94355867, 0.96626276,\n",
       "        0.94355867, 0.9661352 , 0.94355867, 0.96619898, 0.94355867,\n",
       "        0.96632653, 0.94355867, 0.96677296, 0.94355867, 0.96670918,\n",
       "        0.94355867, 0.96670918, 0.94355867, 0.96696429, 0.94355867]),\n",
       " 'split9_test_AUC': array([0.93647959, 0.94827806, 0.94304847, 0.94623724, 0.94464286,\n",
       "        0.94477041, 0.94872449, 0.94464286, 0.94827806, 0.94477041,\n",
       "        0.95452806, 0.94579082, 0.95567602, 0.94521684, 0.95867347,\n",
       "        0.94477041, 0.96103316, 0.94477041, 0.96294643, 0.94617347,\n",
       "        0.96428571, 0.94547194, 0.96383929, 0.94770408, 0.96288265,\n",
       "        0.94923469, 0.96409439, 0.94496173, 0.96377551, 0.94936224,\n",
       "        0.96313776, 0.94477041, 0.96326531, 0.94477041, 0.96390306,\n",
       "        0.94547194, 0.96281888, 0.94483418, 0.9630102 , 0.94980867]),\n",
       " 'mean_test_AUC': array([0.92107378, 0.93346177, 0.9319721 , 0.93319822, 0.9329277 ,\n",
       "        0.93265535, 0.937246  , 0.93368884, 0.93826059, 0.93335544,\n",
       "        0.94265439, 0.93317842, 0.94455473, 0.93328237, 0.94513485,\n",
       "        0.93365586, 0.94504323, 0.93360111, 0.94539863, 0.9331116 ,\n",
       "        0.94581909, 0.93360245, 0.94624184, 0.93413213, 0.94587713,\n",
       "        0.93404197, 0.94588363, 0.93277842, 0.94607468, 0.93322594,\n",
       "        0.94555562, 0.93348777, 0.94573773, 0.93334327, 0.94595676,\n",
       "        0.93308524, 0.9457265 , 0.93318885, 0.94606567, 0.93382542]),\n",
       " 'std_test_AUC': array([0.02946971, 0.01927118, 0.02136198, 0.0191676 , 0.02087558,\n",
       "        0.01900548, 0.0178997 , 0.01921581, 0.01636554, 0.01914094,\n",
       "        0.01483139, 0.01915585, 0.01393698, 0.01970309, 0.0150025 ,\n",
       "        0.01866677, 0.01589308, 0.01882224, 0.01641219, 0.0191273 ,\n",
       "        0.01649274, 0.01912831, 0.01651749, 0.01946853, 0.01634482,\n",
       "        0.01947218, 0.01661387, 0.01917472, 0.01647758, 0.01927132,\n",
       "        0.01665995, 0.01935247, 0.0165401 , 0.01926402, 0.01659139,\n",
       "        0.01928852, 0.0167504 , 0.019344  , 0.01663915, 0.01941788]),\n",
       " 'rank_test_AUC': array([40, 26, 39, 31, 36, 38, 17, 21, 16, 27, 15, 33, 14, 29, 12, 22, 13,\n",
       "        24, 11, 34,  7, 23,  1, 18,  6, 19,  5, 37,  2, 30, 10, 25,  8, 28,\n",
       "         4, 35,  9, 32,  3, 20], dtype=int32),\n",
       " 'split0_train_AUC': array([0.92438201, 0.93670922, 0.93378788, 0.93722845, 0.93415887,\n",
       "        0.93584695, 0.94075439, 0.94028484, 0.9422725 , 0.93601614,\n",
       "        0.94830222, 0.93608444, 0.95156428, 0.94127207, 0.9534037 ,\n",
       "        0.94094687, 0.95473476, 0.93580504, 0.95507625, 0.9358159 ,\n",
       "        0.9555008 , 0.93804959, 0.95543405, 0.94047188, 0.95575536,\n",
       "        0.93567542, 0.95601614, 0.94139625, 0.95558384, 0.93839575,\n",
       "        0.95543405, 0.93497613, 0.95573751, 0.93497381, 0.9555039 ,\n",
       "        0.93868602, 0.95599131, 0.94304474, 0.95568319, 0.9380333 ]),\n",
       " 'split1_train_AUC': array([0.9241158 , 0.93809771, 0.93448873, 0.93828631, 0.93511817,\n",
       "        0.93818464, 0.94092514, 0.94059917, 0.94212271, 0.94332415,\n",
       "        0.94916916, 0.94105708, 0.95302961, 0.93645543, 0.95497458,\n",
       "        0.9364531 , 0.95571889, 0.93841825, 0.95599752, 0.9406403 ,\n",
       "        0.95651054, 0.94119135, 0.95647716, 0.94062633, 0.95687532,\n",
       "        0.94127362, 0.95671621, 0.93644922, 0.9562257 , 0.93843067,\n",
       "        0.95643913, 0.93646319, 0.95655167, 0.93646319, 0.95642982,\n",
       "        0.93645465, 0.95640886, 0.9406341 , 0.9563654 , 0.94062866]),\n",
       " 'split2_train_AUC': array([0.92175172, 0.93469906, 0.93287826, 0.93456246, 0.93352788,\n",
       "        0.93454228, 0.9390896 , 0.93454461, 0.94041135, 0.93459816,\n",
       "        0.94782413, 0.93456013, 0.95106911, 0.93453452, 0.95304358,\n",
       "        0.93428305, 0.95394389, 0.93976018, 0.95412162, 0.93429081,\n",
       "        0.95435679, 0.93426132, 0.95481004, 0.93458497, 0.95462843,\n",
       "        0.93454616, 0.95453374, 0.93475106, 0.95436377, 0.93414025,\n",
       "        0.95479685, 0.93453529, 0.95431099, 0.93472855, 0.95483876,\n",
       "        0.93466413, 0.95465947, 0.93474873, 0.9548178 , 0.93470139]),\n",
       " 'split3_train_AUC': array([0.92359821, 0.93579629, 0.93351975, 0.93586631, 0.93437715,\n",
       "        0.93538237, 0.94005294, 0.93585776, 0.94133048, 0.93599547,\n",
       "        0.94812508, 0.9359021 , 0.95121156, 0.93598769, 0.95273418,\n",
       "        0.93596902, 0.9538709 , 0.9358702 , 0.95415021, 0.93603204,\n",
       "        0.95472129, 0.93600792, 0.95469873, 0.93595657, 0.95509086,\n",
       "        0.93529601, 0.95533828, 0.93586398, 0.95496871, 0.9359021 ,\n",
       "        0.95510097, 0.93618453, 0.95505663, 0.93590288, 0.95497026,\n",
       "        0.93551075, 0.95489791, 0.93609039, 0.9547882 , 0.93590055]),\n",
       " 'split4_train_AUC': array([0.92638125, 0.93841672, 0.93704426, 0.93812652, 0.93736793,\n",
       "        0.9370077 , 0.94248664, 0.9378791 , 0.94347553, 0.93790866,\n",
       "        0.95057979, 0.93786509, 0.952861  , 0.937904  , 0.9553375 ,\n",
       "        0.93961257, 0.95598093, 0.94049253, 0.95638396, 0.93694857,\n",
       "        0.95675041, 0.93786821, 0.95651389, 0.93787054, 0.95688268,\n",
       "        0.93767136, 0.95675119, 0.9369649 , 0.95705229, 0.93789077,\n",
       "        0.95643609, 0.93789699, 0.95709975, 0.93786587, 0.95714177,\n",
       "        0.93789622, 0.9564641 , 0.93693223, 0.95712543, 0.93789466]),\n",
       " 'split5_train_AUC': array([0.92353052, 0.93555588, 0.93368547, 0.93589899, 0.93453587,\n",
       "        0.93505793, 0.94038905, 0.93550064, 0.94148531, 0.93538782,\n",
       "        0.94749332, 0.93527812, 0.95078053, 0.93890689, 0.95272874,\n",
       "        0.93551853, 0.95360947, 0.93568114, 0.9538919 , 0.93532947,\n",
       "        0.95430271, 0.93597446, 0.95425758, 0.93546874, 0.95445909,\n",
       "        0.93545473, 0.95437195, 0.93554343, 0.95451822, 0.93546251,\n",
       "        0.95467383, 0.93545318, 0.95469484, 0.93560334, 0.95460848,\n",
       "        0.93538626, 0.95435328, 0.93583286, 0.95431204, 0.93549597]),\n",
       " 'split6_train_AUC': array([0.92994   , 0.94166892, 0.93850464, 0.94153043, 0.94035871,\n",
       "        0.94144485, 0.94595436, 0.94142462, 0.94706617, 0.9414254 ,\n",
       "        0.95190868, 0.94141373, 0.9552667 , 0.94304683, 0.95766617,\n",
       "        0.94141295, 0.95870796, 0.94140984, 0.95865583, 0.9414075 ,\n",
       "        0.95928293, 0.94141061, 0.95917867, 0.9414145 , 0.95929304,\n",
       "        0.9414145 , 0.9593335 , 0.9414145 , 0.95937163, 0.9414075 ,\n",
       "        0.95927359, 0.94141684, 0.95884645, 0.94140517, 0.95910009,\n",
       "        0.94140828, 0.95931794, 0.94309118, 0.95930005, 0.94141528]),\n",
       " 'split7_train_AUC': array([0.92447117, 0.9351832 , 0.93386364, 0.93546796, 0.9345063 ,\n",
       "        0.93838716, 0.94009184, 0.93556755, 0.94158178, 0.93555354,\n",
       "        0.9479617 , 0.93553254, 0.95123101, 0.94075862, 0.95312009,\n",
       "        0.93700847, 0.9539168 , 0.9378293 , 0.95396737, 0.93550842,\n",
       "        0.95493136, 0.93598146, 0.95499283, 0.93544851, 0.95520134,\n",
       "        0.93557611, 0.95522857, 0.93558466, 0.95529937, 0.93539249,\n",
       "        0.95494848, 0.93538704, 0.95469484, 0.93554965, 0.95511887,\n",
       "        0.93790166, 0.95485978, 0.93539482, 0.95531416, 0.93528823]),\n",
       " 'split8_train_AUC': array([0.92160551, 0.9349736 , 0.93246199, 0.93497282, 0.93334342,\n",
       "        0.93497282, 0.94010389, 0.93496894, 0.94108076, 0.93495731,\n",
       "        0.94629252, 0.93496274, 0.94923166, 0.93496196, 0.95145541,\n",
       "        0.93496119, 0.95231201, 0.93495963, 0.95221269, 0.93496506,\n",
       "        0.95276591, 0.93495963, 0.95326482, 0.93496119, 0.95310343,\n",
       "        0.93496506, 0.95297774, 0.93496119, 0.95306619, 0.93496119,\n",
       "        0.95299791, 0.93495963, 0.95328577, 0.93496041, 0.95328732,\n",
       "        0.93495963, 0.95329043, 0.93496119, 0.95328111, 0.93496041]),\n",
       " 'split9_train_AUC': array([0.92243805, 0.93873752, 0.93349627, 0.93644084, 0.93443047,\n",
       "        0.93562148, 0.9399844 , 0.93526224, 0.94126698, 0.93532353,\n",
       "        0.94753553, 0.93558191, 0.95101236, 0.93589382, 0.95235546,\n",
       "        0.93533129, 0.95310343, 0.93556562, 0.95343319, 0.93627402,\n",
       "        0.95376373, 0.93522034, 0.95382503, 0.93780488, 0.95355656,\n",
       "        0.93930316, 0.95396158, 0.9356626 , 0.95394607, 0.94154398,\n",
       "        0.95377149, 0.93532741, 0.95377537, 0.93560131, 0.95395538,\n",
       "        0.93520715, 0.95362019, 0.93529948, 0.95364424, 0.94170149]),\n",
       " 'mean_train_AUC': array([0.92422142, 0.93698381, 0.93437309, 0.93683811, 0.93517248,\n",
       "        0.93664482, 0.94098323, 0.93718895, 0.94220936, 0.93704902,\n",
       "        0.94851921, 0.93682379, 0.95172578, 0.93797218, 0.95368194,\n",
       "        0.9371497 , 0.9545899 , 0.93757917, 0.95478905, 0.93672121,\n",
       "        0.95528865, 0.93709249, 0.95534528, 0.93746081, 0.95548461,\n",
       "        0.93711761, 0.95552289, 0.93685918, 0.95543958, 0.93735272,\n",
       "        0.95538724, 0.93626003, 0.95540538, 0.93630542, 0.95549546,\n",
       "        0.93680748, 0.95538633, 0.93760297, 0.95546316, 0.93760199]),\n",
       " 'std_train_AUC': array([0.00233356, 0.00210589, 0.00180767, 0.00196079, 0.00202063,\n",
       "        0.00203938, 0.00185467, 0.00250032, 0.0017969 , 0.00282491,\n",
       "        0.00155343, 0.00235913, 0.00155295, 0.00276986, 0.00172076,\n",
       "        0.00243995, 0.0017302 , 0.00221973, 0.00172766, 0.00226419,\n",
       "        0.00174953, 0.00238107, 0.00161248, 0.00244549, 0.0017284 ,\n",
       "        0.00250209, 0.001704  , 0.00235244, 0.0016974 , 0.00249212,\n",
       "        0.00163597, 0.00194721, 0.00160047, 0.00190415, 0.00159562,\n",
       "        0.00203652, 0.00166295, 0.00316386, 0.00169223, 0.00262402]),\n",
       " 'split0_test_f1': array([0.57657658, 0.57391304, 0.56637168, 0.57391304, 0.57142857,\n",
       "        0.57391304, 0.5840708 , 0.59459459, 0.55462185, 0.57391304,\n",
       "        0.5862069 , 0.57391304, 0.60176991, 0.57391304, 0.60176991,\n",
       "        0.58928571, 0.57391304, 0.57391304, 0.57391304, 0.57391304,\n",
       "        0.56896552, 0.5982906 , 0.56896552, 0.59459459, 0.57894737,\n",
       "        0.56896552, 0.57894737, 0.57391304, 0.57391304, 0.56896552,\n",
       "        0.57391304, 0.57657658, 0.57391304, 0.57657658, 0.57391304,\n",
       "        0.57391304, 0.57894737, 0.5840708 , 0.57391304, 0.5982906 ]),\n",
       " 'split1_test_f1': array([0.57894737, 0.57142857, 0.56410256, 0.5982906 , 0.56896552,\n",
       "        0.58119658, 0.60504202, 0.59016393, 0.55813953, 0.58536585,\n",
       "        0.56451613, 0.59016393, 0.57377049, 0.58119658, 0.58823529,\n",
       "        0.58119658, 0.5982906 , 0.58823529, 0.59322034, 0.59016393,\n",
       "        0.57627119, 0.59016393, 0.58119658, 0.61016949, 0.57627119,\n",
       "        0.59016393, 0.57627119, 0.58119658, 0.58119658, 0.58823529,\n",
       "        0.58119658, 0.58119658, 0.58119658, 0.58119658, 0.58119658,\n",
       "        0.58119658, 0.58119658, 0.59016393, 0.58119658, 0.61016949]),\n",
       " 'split2_test_f1': array([0.61111111, 0.59322034, 0.60714286, 0.59322034, 0.58119658,\n",
       "        0.58333333, 0.61666667, 0.58333333, 0.60162602, 0.58333333,\n",
       "        0.60162602, 0.58333333, 0.60162602, 0.58333333, 0.61157025,\n",
       "        0.58333333, 0.61666667, 0.61157025, 0.63333333, 0.58333333,\n",
       "        0.63333333, 0.5785124 , 0.62295082, 0.58333333, 0.62809917,\n",
       "        0.58333333, 0.63333333, 0.58119658, 0.63333333, 0.58333333,\n",
       "        0.62809917, 0.58333333, 0.63333333, 0.5862069 , 0.62295082,\n",
       "        0.5982906 , 0.62809917, 0.58119658, 0.62809917, 0.5982906 ]),\n",
       " 'split3_test_f1': array([0.53913043, 0.53913043, 0.54385965, 0.53913043, 0.54385965,\n",
       "        0.53913043, 0.57894737, 0.53913043, 0.55462185, 0.53913043,\n",
       "        0.59130435, 0.53913043, 0.59322034, 0.53913043, 0.59504132,\n",
       "        0.53913043, 0.61666667, 0.53913043, 0.60504202, 0.53913043,\n",
       "        0.62184874, 0.53913043, 0.60504202, 0.53913043, 0.6       ,\n",
       "        0.53448276, 0.6       , 0.53913043, 0.6       , 0.53913043,\n",
       "        0.6       , 0.53448276, 0.6       , 0.53913043, 0.6       ,\n",
       "        0.53448276, 0.6       , 0.52991453, 0.60504202, 0.53913043]),\n",
       " 'split4_test_f1': array([0.58119658, 0.5982906 , 0.5862069 , 0.5862069 , 0.60869565,\n",
       "        0.59130435, 0.58333333, 0.5862069 , 0.5625    , 0.58119658,\n",
       "        0.62184874, 0.58119658, 0.62711864, 0.58119658, 0.62608696,\n",
       "        0.56666667, 0.62068966, 0.60344828, 0.61538462, 0.59130435,\n",
       "        0.61538462, 0.58119658, 0.60869565, 0.58119658, 0.62068966,\n",
       "        0.5862069 , 0.62068966, 0.59130435, 0.62068966, 0.58119658,\n",
       "        0.60869565, 0.58119658, 0.61538462, 0.58119658, 0.61538462,\n",
       "        0.58119658, 0.60869565, 0.59130435, 0.61538462, 0.58119658]),\n",
       " 'split5_test_f1': array([0.58461538, 0.62184874, 0.6031746 , 0.61666667, 0.62184874,\n",
       "        0.61666667, 0.61157025, 0.61666667, 0.58730159, 0.61666667,\n",
       "        0.592     , 0.61666667, 0.60162602, 0.62184874, 0.60162602,\n",
       "        0.62184874, 0.59677419, 0.61666667, 0.592     , 0.62184874,\n",
       "        0.60655738, 0.61666667, 0.60162602, 0.61666667, 0.592     ,\n",
       "        0.62184874, 0.592     , 0.62184874, 0.592     , 0.61666667,\n",
       "        0.592     , 0.61666667, 0.592     , 0.61666667, 0.592     ,\n",
       "        0.61666667, 0.592     , 0.61666667, 0.592     , 0.62184874]),\n",
       " 'split6_test_f1': array([0.42990654, 0.45045045, 0.46728972, 0.45045045, 0.45454545,\n",
       "        0.45045045, 0.46846847, 0.45045045, 0.46956522, 0.45045045,\n",
       "        0.50847458, 0.45045045, 0.53225806, 0.44642857, 0.528     ,\n",
       "        0.45045045, 0.54545455, 0.45045045, 0.54545455, 0.45045045,\n",
       "        0.55      , 0.45045045, 0.54098361, 0.45045045, 0.54098361,\n",
       "        0.45045045, 0.54098361, 0.45045045, 0.55737705, 0.45045045,\n",
       "        0.53658537, 0.45045045, 0.54098361, 0.45045045, 0.54098361,\n",
       "        0.45045045, 0.53658537, 0.44642857, 0.54098361, 0.45045045]),\n",
       " 'split7_test_f1': array([0.59130435, 0.57894737, 0.55932203, 0.56410256, 0.56410256,\n",
       "        0.58119658, 0.60344828, 0.56410256, 0.59322034, 0.57627119,\n",
       "        0.5862069 , 0.56410256, 0.58119658, 0.59322034, 0.57627119,\n",
       "        0.57627119, 0.57142857, 0.56896552, 0.57142857, 0.56410256,\n",
       "        0.56666667, 0.58119658, 0.56198347, 0.57627119, 0.56666667,\n",
       "        0.56410256, 0.57142857, 0.57627119, 0.56198347, 0.56410256,\n",
       "        0.57142857, 0.57627119, 0.56666667, 0.57627119, 0.56666667,\n",
       "        0.58119658, 0.57142857, 0.56410256, 0.56666667, 0.56410256]),\n",
       " 'split8_test_f1': array([0.60714286, 0.61111111, 0.60714286, 0.61111111, 0.61111111,\n",
       "        0.61111111, 0.57391304, 0.61111111, 0.54098361, 0.61111111,\n",
       "        0.5785124 , 0.61111111, 0.60504202, 0.61111111, 0.61538462,\n",
       "        0.61111111, 0.60655738, 0.61111111, 0.60655738, 0.61111111,\n",
       "        0.61157025, 0.61111111, 0.60655738, 0.61111111, 0.61157025,\n",
       "        0.61111111, 0.61157025, 0.61111111, 0.60655738, 0.61111111,\n",
       "        0.61157025, 0.61111111, 0.60655738, 0.61111111, 0.60655738,\n",
       "        0.61111111, 0.60655738, 0.61111111, 0.60655738, 0.61111111]),\n",
       " 'split9_test_f1': array([0.61016949, 0.59504132, 0.59504132, 0.59016393, 0.576     ,\n",
       "        0.57377049, 0.58536585, 0.57377049, 0.58823529, 0.57377049,\n",
       "        0.62184874, 0.59504132, 0.5862069 , 0.58536585, 0.58823529,\n",
       "        0.57377049, 0.61016949, 0.57377049, 0.62711864, 0.58536585,\n",
       "        0.63247863, 0.56666667, 0.62608696, 0.56666667, 0.62608696,\n",
       "        0.5982906 , 0.63157895, 0.57377049, 0.63157895, 0.5862069 ,\n",
       "        0.62608696, 0.57377049, 0.62608696, 0.57377049, 0.63157895,\n",
       "        0.56666667, 0.62608696, 0.57377049, 0.62608696, 0.58823529]),\n",
       " 'mean_test_f1': array([0.57101007, 0.5733382 , 0.56996542, 0.5723256 , 0.57017538,\n",
       "        0.5702073 , 0.58108261, 0.57095305, 0.56108153, 0.56912092,\n",
       "        0.58525447, 0.57051094, 0.5903835 , 0.57167446, 0.59322208,\n",
       "        0.56930647, 0.59566108, 0.57372615, 0.59634525, 0.57107238,\n",
       "        0.59830763, 0.57133854, 0.5924088 , 0.57295905, 0.59413149,\n",
       "        0.57089559, 0.59568029, 0.5700193 , 0.59586295, 0.56893988,\n",
       "        0.59295756, 0.56850557, 0.59361222, 0.5692577 , 0.59312317,\n",
       "        0.5695171 , 0.5929597 , 0.56887296, 0.593593  , 0.57628259]),\n",
       " 'std_test_f1': array([0.05115502, 0.04645   , 0.04017977, 0.04595402, 0.0448194 ,\n",
       "        0.04474864, 0.04005028, 0.04539247, 0.03602063, 0.04439967,\n",
       "        0.03066091, 0.04527383, 0.02389818, 0.04668224, 0.02577969,\n",
       "        0.04512025, 0.02329627, 0.04709998, 0.02569065, 0.04575629,\n",
       "        0.02857545, 0.04542714, 0.02650016, 0.04647303, 0.02711447,\n",
       "        0.04648354, 0.02802357, 0.04516292, 0.026016  , 0.04476144,\n",
       "        0.02668231, 0.0446368 , 0.0271209 , 0.04440451, 0.02650074,\n",
       "        0.04541146, 0.02606065, 0.04686656, 0.02656473, 0.04789124]),\n",
       " 'rank_test_f1': array([25, 19, 32, 21, 30, 29, 16, 26, 40, 36, 15, 28, 14, 22,  9, 34,  5,\n",
       "        18,  2, 24,  1, 23, 13, 20,  6, 27,  4, 31,  3, 37, 12, 39,  7, 35,\n",
       "        10, 33, 11, 38,  8, 17], dtype=int32),\n",
       " 'split0_train_f1': array([0.57722008, 0.56405354, 0.58164251, 0.57442748, 0.57004831,\n",
       "        0.57279693, 0.58003766, 0.58508604, 0.55877034, 0.57115385,\n",
       "        0.59279778, 0.56977863, 0.59389454, 0.579492  , 0.60203139,\n",
       "        0.58444023, 0.60240964, 0.57279693, 0.60707635, 0.57279693,\n",
       "        0.60797034, 0.57854406, 0.60797034, 0.58643744, 0.60443623,\n",
       "        0.57444765, 0.60482375, 0.57677903, 0.60555556, 0.57929725,\n",
       "        0.60611677, 0.57555342, 0.60499537, 0.57555342, 0.60611677,\n",
       "        0.57904762, 0.60426321, 0.57169288, 0.60555556, 0.57909875]),\n",
       " 'split1_train_f1': array([0.57170172, 0.57552581, 0.57170172, 0.57115928, 0.56949807,\n",
       "        0.57414449, 0.57869934, 0.57652582, 0.55826558, 0.5633546 ,\n",
       "        0.59334566, 0.57677903, 0.59665428, 0.57604563, 0.60950606,\n",
       "        0.57604563, 0.61308411, 0.56901408, 0.61365762, 0.57169811,\n",
       "        0.61726079, 0.5751634 , 0.61350844, 0.58223062, 0.61523989,\n",
       "        0.56957328, 0.61408451, 0.57604563, 0.6119403 , 0.56954887,\n",
       "        0.61423221, 0.57604563, 0.61480787, 0.57604563, 0.61163227,\n",
       "        0.57604563, 0.61235955, 0.57169811, 0.60991581, 0.58223062]),\n",
       " 'split2_train_f1': array([0.57643622, 0.57335907, 0.57920311, 0.57391304, 0.57142857,\n",
       "        0.57418112, 0.57849667, 0.5761079 , 0.56073059, 0.57555342,\n",
       "        0.59424327, 0.57418112, 0.5920444 , 0.575     , 0.6031746 ,\n",
       "        0.575     , 0.60335196, 0.57627119, 0.60634328, 0.57636888,\n",
       "        0.60724234, 0.57362849, 0.60314524, 0.575     , 0.6012951 ,\n",
       "        0.57418112, 0.60240964, 0.57335907, 0.60314524, 0.57444765,\n",
       "        0.60352832, 0.57555342, 0.60426321, 0.57418112, 0.60651163,\n",
       "        0.57391304, 0.6012951 , 0.57391304, 0.60465116, 0.57391304]),\n",
       " 'split3_train_f1': array([0.58431373, 0.57688634, 0.57692308, 0.57633588, 0.57584541,\n",
       "        0.57909875, 0.58333333, 0.57743786, 0.56284153, 0.57743786,\n",
       "        0.59626168, 0.57607656, 0.59962406, 0.57688634, 0.60469484,\n",
       "        0.57688634, 0.60787992, 0.57743786, 0.61436673, 0.57799043,\n",
       "        0.61247637, 0.57607656, 0.61147695, 0.57688634, 0.61232227,\n",
       "        0.57909875, 0.61348528, 0.57743786, 0.61247637, 0.57607656,\n",
       "        0.61232227, 0.57442748, 0.61174242, 0.57607656, 0.61305582,\n",
       "        0.57965451, 0.61320755, 0.57442748, 0.61451461, 0.57607656]),\n",
       " 'split4_train_f1': array([0.56226415, 0.57089552, 0.56818182, 0.56930233, 0.57197331,\n",
       "        0.5620915 , 0.57623948, 0.57036347, 0.55445545, 0.5679702 ,\n",
       "        0.5904936 , 0.56849953, 0.5853211 , 0.5679702 , 0.5989011 ,\n",
       "        0.56824513, 0.59981768, 0.579492  , 0.60218978, 0.56156716,\n",
       "        0.60036496, 0.56902985, 0.60036496, 0.56902985, 0.60018298,\n",
       "        0.57062675, 0.6007326 , 0.56156716, 0.60036496, 0.56849953,\n",
       "        0.6007326 , 0.5679702 , 0.60218978, 0.56902985, 0.60164084,\n",
       "        0.5679702 , 0.6007326 , 0.56156716, 0.60164084, 0.56849953]),\n",
       " 'split5_train_f1': array([0.57584541, 0.56356736, 0.57643622, 0.56679389, 0.5800194 ,\n",
       "        0.57555342, 0.58137347, 0.5625    , 0.55919854, 0.56385998,\n",
       "        0.5904936 , 0.56628788, 0.59225092, 0.57088847, 0.60499537,\n",
       "        0.56439394, 0.60667904, 0.56385998, 0.6162465 , 0.5660019 ,\n",
       "        0.61251167, 0.56521739, 0.61251167, 0.5625    , 0.61552853,\n",
       "        0.56517602, 0.61610487, 0.56521739, 0.61654135, 0.56303318,\n",
       "        0.61770245, 0.56497175, 0.61770245, 0.56463878, 0.61654135,\n",
       "        0.56550424, 0.61668229, 0.56816015, 0.61495327, 0.56439394]),\n",
       " 'split6_train_f1': array([0.59193707, 0.59507389, 0.59587021, 0.59507389, 0.591857  ,\n",
       "        0.59448819, 0.60406583, 0.59448819, 0.5913371 , 0.59448819,\n",
       "        0.60247855, 0.59448819, 0.60761905, 0.60138477, 0.61641221,\n",
       "        0.59448819, 0.61859583, 0.59448819, 0.61931818, 0.59448819,\n",
       "        0.62285714, 0.59448819, 0.61990521, 0.59448819, 0.61742424,\n",
       "        0.59448819, 0.6155303 , 0.59448819, 0.61436673, 0.59448819,\n",
       "        0.61742424, 0.59448819, 0.61873226, 0.59448819, 0.61814745,\n",
       "        0.59448819, 0.61625709, 0.60079051, 0.61742424, 0.59448819]),\n",
       " 'split7_train_f1': array([0.57531584, 0.57643622, 0.58398438, 0.57555342, 0.57198444,\n",
       "        0.58015267, 0.58119658, 0.57894737, 0.55890411, 0.57940327,\n",
       "        0.59626168, 0.57782101, 0.59795729, 0.58564593, 0.60482375,\n",
       "        0.57945736, 0.61178672, 0.58309038, 0.61251167, 0.57643622,\n",
       "        0.61308411, 0.57584541, 0.6119403 , 0.57307692, 0.61178672,\n",
       "        0.5761079 , 0.61235955, 0.57280617, 0.61538462, 0.57643622,\n",
       "        0.61121495, 0.57115385, 0.61308411, 0.57060519, 0.61121495,\n",
       "        0.57945736, 0.60893855, 0.57725948, 0.61596244, 0.57613967]),\n",
       " 'split8_train_f1': array([0.56896552, 0.57718121, 0.57418112, 0.57829011, 0.57584541,\n",
       "        0.57884615, 0.58137347, 0.57884615, 0.56572983, 0.57884615,\n",
       "        0.59116022, 0.57884615, 0.59610028, 0.57884615, 0.59558824,\n",
       "        0.57884615, 0.6025878 , 0.57884615, 0.60387812, 0.57884615,\n",
       "        0.6037037 , 0.57884615, 0.60018467, 0.57884615, 0.60073937,\n",
       "        0.57884615, 0.60073937, 0.57884615, 0.60147601, 0.57884615,\n",
       "        0.60073937, 0.57884615, 0.60426321, 0.57884615, 0.6037037 ,\n",
       "        0.57884615, 0.60314524, 0.57884615, 0.6037037 , 0.57884615]),\n",
       " 'split9_train_f1': array([0.56921588, 0.59338521, 0.57669903, 0.58033106, 0.57478006,\n",
       "        0.57613967, 0.58452722, 0.57833656, 0.56      , 0.57751938,\n",
       "        0.59354839, 0.57669903, 0.59519409, 0.57613967, 0.60314524,\n",
       "        0.5755814 , 0.60555556, 0.57751938, 0.60482375, 0.57782101,\n",
       "        0.59778598, 0.57696031, 0.60203139, 0.58181818, 0.60757156,\n",
       "        0.58429119, 0.60073937, 0.57696031, 0.60147601, 0.56803653,\n",
       "        0.60147601, 0.5755814 , 0.60443623, 0.57613967, 0.6025878 ,\n",
       "        0.57696031, 0.60701107, 0.57751938, 0.60555556, 0.5735568 ]),\n",
       " 'mean_train_f1': array([0.57532156, 0.57663642, 0.57848232, 0.57611804, 0.575328  ,\n",
       "        0.57674929, 0.58293431, 0.57786394, 0.56302331, 0.57495869,\n",
       "        0.59410844, 0.57594571, 0.595666  , 0.57882992, 0.60432728,\n",
       "        0.57733844, 0.60717482, 0.57728162, 0.6100412 , 0.5754015 ,\n",
       "        0.60952574, 0.57637998, 0.60830392, 0.57803137, 0.60865269,\n",
       "        0.5766837 , 0.60810092, 0.5753507 , 0.60827272, 0.57487101,\n",
       "        0.60854892, 0.57545915, 0.60962169, 0.57556046, 0.60911526,\n",
       "        0.57718873, 0.60838922, 0.57558744, 0.60938772, 0.57672433]),\n",
       " 'std_train_f1': array([0.00789515, 0.00997458, 0.00723528, 0.00740176, 0.00628932,\n",
       "        0.00762773, 0.00740249, 0.00792622, 0.00984456, 0.00866301,\n",
       "        0.00341744, 0.00739525, 0.00547826, 0.00877527, 0.00536195,\n",
       "        0.00782299, 0.00549985, 0.00779005, 0.00558368, 0.00831246,\n",
       "        0.00728775, 0.00725993, 0.00630627, 0.00855233, 0.00631138,\n",
       "        0.00785269, 0.00638746, 0.0083129 , 0.0061303 , 0.00824666,\n",
       "        0.00647639, 0.00748079, 0.00593831, 0.00747182, 0.0055365 ,\n",
       "        0.00741821, 0.0057038 , 0.00968772, 0.00556309, 0.00770972])}"
      ]
     },
     "execution_count": 133,
     "metadata": {},
     "output_type": "execute_result"
    }
   ],
   "source": [
    "lgt_cv.cv_results_"
   ]
  },
  {
   "cell_type": "code",
   "execution_count": 134,
   "metadata": {},
   "outputs": [
    {
     "name": "stdout",
     "output_type": "stream",
     "text": [
      "The best parameters after grid search:  {'C': 4.281332398719396, 'penalty': 'l1'}\n",
      "The best score is  0.946\n"
     ]
    }
   ],
   "source": [
    "print(\"The best parameters after grid search: \", lgt_cv.best_params_)\n",
    "\n",
    "print(\"The best score is \", lgt_cv.best_score_.round(3))"
   ]
  },
  {
   "cell_type": "code",
   "execution_count": 135,
   "metadata": {},
   "outputs": [],
   "source": [
    "y_pred = lgt_cv.predict(X_test)"
   ]
  },
  {
   "cell_type": "code",
   "execution_count": 136,
   "metadata": {},
   "outputs": [],
   "source": [
    "precision = precision_score(y_test,y_pred)\n",
    "recall = recall_score(y_test, y_pred)\n",
    "#f1_score = f1_score(y_test, y_pred)"
   ]
  },
  {
   "cell_type": "code",
   "execution_count": 137,
   "metadata": {},
   "outputs": [
    {
     "name": "stdout",
     "output_type": "stream",
     "text": [
      "Precision is  0.483\n",
      "Recall is  0.851\n"
     ]
    }
   ],
   "source": [
    "print(\"Precision is \", round(precision,3))\n",
    "print(\"Recall is \", round(recall,3))\n",
    "#print(\"F1 score is \", round(f1_score,3))"
   ]
  },
  {
   "cell_type": "code",
   "execution_count": 138,
   "metadata": {},
   "outputs": [
    {
     "name": "stdout",
     "output_type": "stream",
     "text": [
      "Classification report:\n",
      "               precision    recall  f1-score   support\n",
      "\n",
      "           0       0.98      0.91      0.94       981\n",
      "           1       0.48      0.85      0.62       101\n",
      "\n",
      "    accuracy                           0.90      1082\n",
      "   macro avg       0.73      0.88      0.78      1082\n",
      "weighted avg       0.94      0.90      0.91      1082\n",
      "\n"
     ]
    }
   ],
   "source": [
    "print(\"Classification report:\\n\", classification_report(y_test, y_pred))"
   ]
  },
  {
   "cell_type": "code",
   "execution_count": 139,
   "metadata": {},
   "outputs": [
    {
     "data": {
      "text/plain": [
       "array([[889,  15],\n",
       "       [ 92,  86]])"
      ]
     },
     "execution_count": 139,
     "metadata": {},
     "output_type": "execute_result"
    }
   ],
   "source": [
    "confusion_matrix(lgt_cv.predict(X_test),y_test)"
   ]
  },
  {
   "cell_type": "code",
   "execution_count": 140,
   "metadata": {},
   "outputs": [
    {
     "data": {
      "text/plain": [
       "array([[889,  15],\n",
       "       [ 92,  86]])"
      ]
     },
     "execution_count": 140,
     "metadata": {},
     "output_type": "execute_result"
    }
   ],
   "source": [
    "cm = metrics.confusion_matrix(y_pred, y_test)\n",
    "cm"
   ]
  },
  {
   "cell_type": "markdown",
   "metadata": {},
   "source": [
    "## Evaluation Metrics Analysis"
   ]
  },
  {
   "cell_type": "code",
   "execution_count": 63,
   "metadata": {},
   "outputs": [],
   "source": [
    "precision = cm[0,0]/(cm[0,0]+ cm[1,0])\n",
    "#sensitivity <=> recall\n",
    "sensitivity = cm[0,0]/(cm[0,0]+ cm[0,1])\n",
    "\n",
    "specificity = cm[1,1]/(cm[1,1]+ cm[1,0])\n",
    "recall = cm[0,0]/(cm[0,0]+ cm[0,1])"
   ]
  },
  {
   "cell_type": "markdown",
   "metadata": {},
   "source": [
    "Geometric mean if both classes are important and more than 80 percent\n",
    "in the majority class"
   ]
  },
  {
   "cell_type": "code",
   "execution_count": 64,
   "metadata": {},
   "outputs": [],
   "source": [
    "g_mean = np.sqrt(sensitivity * specificity)"
   ]
  },
  {
   "cell_type": "code",
   "execution_count": 65,
   "metadata": {},
   "outputs": [
    {
     "name": "stdout",
     "output_type": "stream",
     "text": [
      "G-mean is  0.845\n"
     ]
    }
   ],
   "source": [
    "print(\"G-mean is \", g_mean.round(3))"
   ]
  },
  {
   "cell_type": "code",
   "execution_count": 66,
   "metadata": {},
   "outputs": [],
   "source": [
    "def f_score(beta):\n",
    "    f_sc = ((1+ np.power(beta, 2))*precision * recall)/\\\n",
    "    (np.power(beta, 2) * precision + recall)\n",
    "    return f_sc"
   ]
  },
  {
   "cell_type": "markdown",
   "metadata": {},
   "source": [
    "F1-Measure is used if both False Positives and False Negatives are equally important"
   ]
  },
  {
   "cell_type": "code",
   "execution_count": 67,
   "metadata": {},
   "outputs": [
    {
     "name": "stdout",
     "output_type": "stream",
     "text": [
      "F1-Measure is  0.958\n"
     ]
    }
   ],
   "source": [
    "#f_one_measure = (2 *precision * recall)/(precision + recall)\n",
    "\n",
    "print(\"F1-Measure is \", round(f_score(1), 3))"
   ]
  },
  {
   "cell_type": "markdown",
   "metadata": {},
   "source": [
    "F0.5-Measure is used if False Positives are more important than False Negatives"
   ]
  },
  {
   "cell_type": "code",
   "execution_count": 68,
   "metadata": {},
   "outputs": [
    {
     "name": "stdout",
     "output_type": "stream",
     "text": [
      "F0.5-Measure is  0.968\n"
     ]
    }
   ],
   "source": [
    "print(\"F0.5-Measure is \", round(f_score(0.5), 3))"
   ]
  },
  {
   "cell_type": "markdown",
   "metadata": {},
   "source": [
    "F2-Measure is used if False Negatives are more important than False\n",
    "Positives"
   ]
  },
  {
   "cell_type": "code",
   "execution_count": 69,
   "metadata": {},
   "outputs": [
    {
     "name": "stdout",
     "output_type": "stream",
     "text": [
      "F2-Measure is  0.948\n"
     ]
    }
   ],
   "source": [
    "print(\"F2-Measure is \", round(f_score(2), 3))"
   ]
  },
  {
   "cell_type": "code",
   "execution_count": 71,
   "metadata": {},
   "outputs": [
    {
     "name": "stdout",
     "output_type": "stream",
     "text": [
      "Precision is  0.975\n",
      "Recall (Sensitivity) is  0.941\n",
      "Specificity is  0.758\n"
     ]
    }
   ],
   "source": [
    "print(\"Precision is \", precision.round(3))\n",
    "print(\"Recall (Sensitivity) is \", recall.round(3))\n",
    "print(\"Specificity is \", specificity.round(3))\n",
    "#print(\"Accuracy is \", accuracy.round(3)*100)"
   ]
  },
  {
   "cell_type": "code",
   "execution_count": 141,
   "metadata": {},
   "outputs": [],
   "source": [
    "C_best = 4.28"
   ]
  },
  {
   "cell_type": "markdown",
   "metadata": {},
   "source": [
    "## Feature Importance"
   ]
  },
  {
   "cell_type": "code",
   "execution_count": 142,
   "metadata": {},
   "outputs": [],
   "source": [
    "lgt_best = LogisticRegression(C = C_best, penalty = \"l1\",max_iter = 1000,\n",
    "                         solver = 'liblinear', \\\n",
    "                         class_weight = weights)"
   ]
  },
  {
   "cell_type": "code",
   "execution_count": 143,
   "metadata": {},
   "outputs": [
    {
     "data": {
      "text/plain": [
       "LogisticRegression(C=4.28, class_weight={0: 0.55, 1: 5.35}, max_iter=1000,\n",
       "                   penalty='l1', solver='liblinear')"
      ]
     },
     "execution_count": 143,
     "metadata": {},
     "output_type": "execute_result"
    }
   ],
   "source": [
    "lgt_best.fit(X_train, y_train)"
   ]
  },
  {
   "cell_type": "code",
   "execution_count": 144,
   "metadata": {},
   "outputs": [],
   "source": [
    "pr = lgt_best.predict(X_test)"
   ]
  },
  {
   "cell_type": "code",
   "execution_count": 145,
   "metadata": {},
   "outputs": [],
   "source": [
    "#more important than just predict\n",
    "\n",
    "#lgt_best.predict_proba(X_test)"
   ]
  },
  {
   "cell_type": "code",
   "execution_count": 146,
   "metadata": {},
   "outputs": [
    {
     "name": "stdout",
     "output_type": "stream",
     "text": [
      "0.8911737523105361\n"
     ]
    }
   ],
   "source": [
    "print(lgt_best.score(X_train, y_train))"
   ]
  },
  {
   "cell_type": "code",
   "execution_count": 147,
   "metadata": {},
   "outputs": [
    {
     "data": {
      "text/plain": [
       "array([[888,  15],\n",
       "       [ 93,  86]])"
      ]
     },
     "execution_count": 147,
     "metadata": {},
     "output_type": "execute_result"
    }
   ],
   "source": [
    "confusion_matrix(lgt_best.predict(X_test),y_test)"
   ]
  },
  {
   "cell_type": "code",
   "execution_count": 148,
   "metadata": {},
   "outputs": [
    {
     "data": {
      "text/plain": [
       "StandardScaler()"
      ]
     },
     "execution_count": 148,
     "metadata": {},
     "output_type": "execute_result"
    }
   ],
   "source": [
    "from sklearn.feature_selection import SelectFromModel\n",
    "from sklearn.preprocessing import StandardScaler\n",
    "scaler = StandardScaler()\n",
    "scaler.fit(X_train)"
   ]
  },
  {
   "cell_type": "code",
   "execution_count": 149,
   "metadata": {},
   "outputs": [
    {
     "data": {
      "text/plain": [
       "SelectFromModel(estimator=LogisticRegression(C=4.28,\n",
       "                                             class_weight={0: 0.55, 1: 5.35},\n",
       "                                             max_iter=1000, penalty='l1',\n",
       "                                             solver='liblinear'))"
      ]
     },
     "execution_count": 149,
     "metadata": {},
     "output_type": "execute_result"
    }
   ],
   "source": [
    "sel_ = SelectFromModel(lgt_best)\n",
    "sel_.fit(scaler.transform(X_train), y_train)"
   ]
  },
  {
   "cell_type": "code",
   "execution_count": 150,
   "metadata": {},
   "outputs": [
    {
     "data": {
      "text/plain": [
       "array([ True,  True,  True,  True,  True,  True,  True,  True,  True,\n",
       "        True,  True,  True,  True,  True,  True,  True,  True,  True,\n",
       "        True,  True,  True,  True,  True,  True,  True,  True,  True,\n",
       "        True, False,  True,  True,  True,  True,  True,  True,  True,\n",
       "        True, False,  True, False, False,  True,  True,  True,  True,\n",
       "        True,  True,  True,  True, False, False,  True,  True,  True,\n",
       "        True])"
      ]
     },
     "execution_count": 150,
     "metadata": {},
     "output_type": "execute_result"
    }
   ],
   "source": [
    "sel_.get_support()"
   ]
  },
  {
   "cell_type": "code",
   "execution_count": 151,
   "metadata": {},
   "outputs": [
    {
     "data": {
      "text/plain": [
       "Index(['DurationMedianIP', 'DurationMeanIP', 'DurationMedianOP',\n",
       "       'DurationMeanOP', 'ChronCondsMedian', 'ChronCondsMean', 'ChronConsMode',\n",
       "       'PtAgeMedian', 'PtAgeMean', 'NumPtsIP', 'NumPtsOP', 'NumStatesIP',\n",
       "       'NumStatesOP', 'SharePhysician', 'MergeAvgClaimReimbursed',\n",
       "       'NumTopCodeClaim', 'DupClaimNum_IP', 'DupClaimRatio_IP',\n",
       "       'DupClaimStatesNum_IP', 'DupClaimProviderNum_IP',\n",
       "       'DupClaimStartDtNum_IP', 'DupClaimNum_OP', 'DupClaimRatio_OP',\n",
       "       'DupClaimStatesNum_OP', 'DupClaimProviderNum_OP',\n",
       "       'DupClaimStartDtNum_OP', 'AvgDuration', 'NumOfPt', 'ClmPerPt',\n",
       "       'TotalRev', 'RevPerPt', 'ClmNoPhy', 'ClmAllPhy', 'ClmNoProc',\n",
       "       'ClmPerDt', 'Serves_Both', 'Serves_OP', 'DupClaimMultiState_IP_no',\n",
       "       'DupClaimMultiState_IP_yes', 'DupClaimMultiProvider_IP_no',\n",
       "       'DupClaimMultiProvider_IP_yes', 'DupClaimMultiStartDt_IP_no',\n",
       "       'DupClaimMultiStartDt_IP_yes', 'DupClaim_OP_no', 'DupClaim_OP_yes',\n",
       "       'DupClaimMultiProvider_OP_no', 'DupClaimMultiProvider_OP_yes',\n",
       "       'DupClaimMultiStartDt_OP_no', 'DupClaimMultiStartDt_OP_yes'],\n",
       "      dtype='object')"
      ]
     },
     "execution_count": 151,
     "metadata": {},
     "output_type": "execute_result"
    }
   ],
   "source": [
    "selected_features = X_train.columns[(sel_.get_support())]\n",
    "selected_features"
   ]
  },
  {
   "cell_type": "code",
   "execution_count": 152,
   "metadata": {},
   "outputs": [
    {
     "name": "stdout",
     "output_type": "stream",
     "text": [
      "Total number of features: 55\n",
      "Features selected by Lasso: 49\n",
      "Features not selected by Lasso: 6\n"
     ]
    }
   ],
   "source": [
    "print('Total number of features: {}'.format((X_train.shape[1])))\n",
    "print('Features selected by Lasso: {}'.format(len(selected_features)))\n",
    "print('Features not selected by Lasso: {}'.format(\n",
    "      np.sum(sel_.estimator_.coef_ == 0)))"
   ]
  },
  {
   "cell_type": "code",
   "execution_count": 153,
   "metadata": {},
   "outputs": [],
   "source": [
    "#lgt_best = LogisticRegression(C = 3792.69, penalty = \"l2\",max_iter = 1000,\n",
    "#                         solver = 'liblinear', \\\n",
    "#                         class_weight = weights)"
   ]
  },
  {
   "cell_type": "code",
   "execution_count": 154,
   "metadata": {},
   "outputs": [],
   "source": [
    "#the score here is accuracy (number of correct guesses divided by the total guesses)\n",
    "#print(lgt_best.score(X_train, y_train))"
   ]
  },
  {
   "cell_type": "code",
   "execution_count": 155,
   "metadata": {},
   "outputs": [
    {
     "name": "stdout",
     "output_type": "stream",
     "text": [
      "[-0.41542942]\n"
     ]
    }
   ],
   "source": [
    "print(lgt_best.intercept_)"
   ]
  },
  {
   "cell_type": "code",
   "execution_count": 156,
   "metadata": {},
   "outputs": [
    {
     "name": "stdout",
     "output_type": "stream",
     "text": [
      "[[-5.85457122e-01  5.69615986e-01 -9.45548557e-02  6.38546875e-03\n",
      "  -3.56637703e-02 -3.70900520e-01 -9.49712538e-03  1.23135050e-02\n",
      "   3.84966709e-03 -1.31062276e-01 -8.47068962e-03 -8.43523937e-04\n",
      "   1.03177263e-01  4.76881503e-01 -1.01607942e-04  8.08614768e-02\n",
      "   1.42257595e+00 -2.71676990e+00  4.56027994e-01  2.87472567e-02\n",
      "  -1.17843957e+00  1.25808014e-02 -3.41542088e-01  2.59768677e-02\n",
      "   2.44824235e-04 -2.71834473e-03  9.05550251e-02 -4.45101685e-03\n",
      "   1.39209307e-03  4.25462952e-01  1.37174473e-05  1.38831524e-04\n",
      "  -9.84481875e-02 -3.69948925e-02  8.24955960e-04  7.61946295e-02\n",
      "   6.58395152e-02 -6.74824860e-01 -1.12296784e+00 -1.12667884e+00\n",
      "  -6.24606517e-03 -2.93102451e-03 -2.44083923e-01 -1.01405638e-01\n",
      "  -4.33967545e-02 -6.65920017e-03 -1.97177541e-01 -1.68039368e-03\n",
      "  -2.61410483e-01 -3.30979417e-01 -1.79558149e-01 -7.29685108e-02\n",
      "  -3.36777278e-01  0.00000000e+00 -2.11549828e-01]]\n"
     ]
    }
   ],
   "source": [
    "print(lgt_best.coef_)"
   ]
  },
  {
   "cell_type": "markdown",
   "metadata": {},
   "source": [
    "## Stochastic Gradient Descent"
   ]
  },
  {
   "cell_type": "code",
   "execution_count": 157,
   "metadata": {},
   "outputs": [],
   "source": [
    "from sklearn.linear_model import SGDClassifier"
   ]
  },
  {
   "cell_type": "code",
   "execution_count": 158,
   "metadata": {},
   "outputs": [],
   "source": [
    "sg = SGDClassifier(loss = 'log', max_iter = 1e4, l1_ratio = 1, \\\n",
    "                  alpha= 1e-4, shuffle = False)"
   ]
  },
  {
   "cell_type": "code",
   "execution_count": 159,
   "metadata": {},
   "outputs": [
    {
     "data": {
      "text/plain": [
       "SGDClassifier(l1_ratio=1, loss='log', max_iter=10000.0, shuffle=False)"
      ]
     },
     "execution_count": 159,
     "metadata": {},
     "output_type": "execute_result"
    }
   ],
   "source": [
    "sg.fit(X_train,y_train)"
   ]
  },
  {
   "cell_type": "code",
   "execution_count": 160,
   "metadata": {},
   "outputs": [
    {
     "data": {
      "text/plain": [
       "0.8807763401109058"
      ]
     },
     "execution_count": 160,
     "metadata": {},
     "output_type": "execute_result"
    }
   ],
   "source": [
    "sg.score(X_train,y_train)"
   ]
  },
  {
   "cell_type": "code",
   "execution_count": 161,
   "metadata": {},
   "outputs": [
    {
     "data": {
      "text/plain": [
       "SGDClassifier(l1_ratio=1, loss='log', max_iter=10000.0, shuffle=False)"
      ]
     },
     "execution_count": 161,
     "metadata": {},
     "output_type": "execute_result"
    }
   ],
   "source": [
    "sg.fit(X_test,y_test)"
   ]
  },
  {
   "cell_type": "code",
   "execution_count": 162,
   "metadata": {},
   "outputs": [
    {
     "data": {
      "text/plain": [
       "0.9066543438077634"
      ]
     },
     "execution_count": 162,
     "metadata": {},
     "output_type": "execute_result"
    }
   ],
   "source": [
    "sg.score(X_test, y_test)"
   ]
  },
  {
   "cell_type": "code",
   "execution_count": 163,
   "metadata": {},
   "outputs": [
    {
     "data": {
      "text/plain": [
       "SGDClassifier(l1_ratio=1, loss='log', max_iter=10000.0)"
      ]
     },
     "execution_count": 163,
     "metadata": {},
     "output_type": "execute_result"
    }
   ],
   "source": [
    "np.random.seed(0)\n",
    "sg.set_params(shuffle = True)"
   ]
  }
 ],
 "metadata": {
  "kernelspec": {
   "display_name": "Python 3",
   "language": "python",
   "name": "python3"
  },
  "language_info": {
   "codemirror_mode": {
    "name": "ipython",
    "version": 3
   },
   "file_extension": ".py",
   "mimetype": "text/x-python",
   "name": "python",
   "nbconvert_exporter": "python",
   "pygments_lexer": "ipython3",
   "version": "3.7.7"
  }
 },
 "nbformat": 4,
 "nbformat_minor": 4
}
